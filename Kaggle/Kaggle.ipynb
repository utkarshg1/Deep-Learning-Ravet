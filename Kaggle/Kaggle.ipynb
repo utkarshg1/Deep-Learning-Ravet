{
 "cells": [
  {
   "cell_type": "code",
   "execution_count": 1,
   "metadata": {},
   "outputs": [],
   "source": [
    "from warnings import filterwarnings\n",
    "filterwarnings('ignore')"
   ]
  },
  {
   "cell_type": "code",
   "execution_count": 2,
   "metadata": {},
   "outputs": [
    {
     "data": {
      "text/html": [
       "<div>\n",
       "<style scoped>\n",
       "    .dataframe tbody tr th:only-of-type {\n",
       "        vertical-align: middle;\n",
       "    }\n",
       "\n",
       "    .dataframe tbody tr th {\n",
       "        vertical-align: top;\n",
       "    }\n",
       "\n",
       "    .dataframe thead th {\n",
       "        text-align: right;\n",
       "    }\n",
       "</style>\n",
       "<table border=\"1\" class=\"dataframe\">\n",
       "  <thead>\n",
       "    <tr style=\"text-align: right;\">\n",
       "      <th></th>\n",
       "      <th>id</th>\n",
       "      <th>no_of_adults</th>\n",
       "      <th>no_of_children</th>\n",
       "      <th>no_of_weekend_nights</th>\n",
       "      <th>no_of_week_nights</th>\n",
       "      <th>type_of_meal_plan</th>\n",
       "      <th>required_car_parking_space</th>\n",
       "      <th>room_type_reserved</th>\n",
       "      <th>lead_time</th>\n",
       "      <th>arrival_year</th>\n",
       "      <th>arrival_month</th>\n",
       "      <th>arrival_date</th>\n",
       "      <th>market_segment_type</th>\n",
       "      <th>repeated_guest</th>\n",
       "      <th>no_of_previous_cancellations</th>\n",
       "      <th>no_of_previous_bookings_not_canceled</th>\n",
       "      <th>avg_price_per_room</th>\n",
       "      <th>no_of_special_requests</th>\n",
       "      <th>booking_status</th>\n",
       "    </tr>\n",
       "  </thead>\n",
       "  <tbody>\n",
       "    <tr>\n",
       "      <th>0</th>\n",
       "      <td>0</td>\n",
       "      <td>2</td>\n",
       "      <td>0</td>\n",
       "      <td>0</td>\n",
       "      <td>2</td>\n",
       "      <td>1</td>\n",
       "      <td>0</td>\n",
       "      <td>0</td>\n",
       "      <td>9</td>\n",
       "      <td>2018</td>\n",
       "      <td>1</td>\n",
       "      <td>14</td>\n",
       "      <td>1</td>\n",
       "      <td>1</td>\n",
       "      <td>11</td>\n",
       "      <td>0</td>\n",
       "      <td>67.50</td>\n",
       "      <td>0</td>\n",
       "      <td>0</td>\n",
       "    </tr>\n",
       "    <tr>\n",
       "      <th>1</th>\n",
       "      <td>1</td>\n",
       "      <td>2</td>\n",
       "      <td>0</td>\n",
       "      <td>1</td>\n",
       "      <td>2</td>\n",
       "      <td>0</td>\n",
       "      <td>0</td>\n",
       "      <td>0</td>\n",
       "      <td>117</td>\n",
       "      <td>2018</td>\n",
       "      <td>7</td>\n",
       "      <td>29</td>\n",
       "      <td>0</td>\n",
       "      <td>0</td>\n",
       "      <td>0</td>\n",
       "      <td>0</td>\n",
       "      <td>72.25</td>\n",
       "      <td>0</td>\n",
       "      <td>0</td>\n",
       "    </tr>\n",
       "    <tr>\n",
       "      <th>2</th>\n",
       "      <td>2</td>\n",
       "      <td>2</td>\n",
       "      <td>0</td>\n",
       "      <td>0</td>\n",
       "      <td>1</td>\n",
       "      <td>0</td>\n",
       "      <td>0</td>\n",
       "      <td>0</td>\n",
       "      <td>315</td>\n",
       "      <td>2018</td>\n",
       "      <td>12</td>\n",
       "      <td>2</td>\n",
       "      <td>0</td>\n",
       "      <td>0</td>\n",
       "      <td>0</td>\n",
       "      <td>0</td>\n",
       "      <td>52.00</td>\n",
       "      <td>0</td>\n",
       "      <td>0</td>\n",
       "    </tr>\n",
       "    <tr>\n",
       "      <th>3</th>\n",
       "      <td>3</td>\n",
       "      <td>1</td>\n",
       "      <td>0</td>\n",
       "      <td>0</td>\n",
       "      <td>2</td>\n",
       "      <td>1</td>\n",
       "      <td>0</td>\n",
       "      <td>0</td>\n",
       "      <td>32</td>\n",
       "      <td>2018</td>\n",
       "      <td>12</td>\n",
       "      <td>1</td>\n",
       "      <td>1</td>\n",
       "      <td>0</td>\n",
       "      <td>0</td>\n",
       "      <td>0</td>\n",
       "      <td>56.00</td>\n",
       "      <td>0</td>\n",
       "      <td>0</td>\n",
       "    </tr>\n",
       "    <tr>\n",
       "      <th>4</th>\n",
       "      <td>4</td>\n",
       "      <td>2</td>\n",
       "      <td>0</td>\n",
       "      <td>1</td>\n",
       "      <td>0</td>\n",
       "      <td>0</td>\n",
       "      <td>0</td>\n",
       "      <td>0</td>\n",
       "      <td>258</td>\n",
       "      <td>2018</td>\n",
       "      <td>10</td>\n",
       "      <td>16</td>\n",
       "      <td>0</td>\n",
       "      <td>0</td>\n",
       "      <td>0</td>\n",
       "      <td>0</td>\n",
       "      <td>100.00</td>\n",
       "      <td>0</td>\n",
       "      <td>1</td>\n",
       "    </tr>\n",
       "  </tbody>\n",
       "</table>\n",
       "</div>"
      ],
      "text/plain": [
       "   id  no_of_adults  no_of_children  no_of_weekend_nights  no_of_week_nights  \\\n",
       "0   0             2               0                     0                  2   \n",
       "1   1             2               0                     1                  2   \n",
       "2   2             2               0                     0                  1   \n",
       "3   3             1               0                     0                  2   \n",
       "4   4             2               0                     1                  0   \n",
       "\n",
       "   type_of_meal_plan  required_car_parking_space  room_type_reserved  \\\n",
       "0                  1                           0                   0   \n",
       "1                  0                           0                   0   \n",
       "2                  0                           0                   0   \n",
       "3                  1                           0                   0   \n",
       "4                  0                           0                   0   \n",
       "\n",
       "   lead_time  arrival_year  arrival_month  arrival_date  market_segment_type  \\\n",
       "0          9          2018              1            14                    1   \n",
       "1        117          2018              7            29                    0   \n",
       "2        315          2018             12             2                    0   \n",
       "3         32          2018             12             1                    1   \n",
       "4        258          2018             10            16                    0   \n",
       "\n",
       "   repeated_guest  no_of_previous_cancellations  \\\n",
       "0               1                            11   \n",
       "1               0                             0   \n",
       "2               0                             0   \n",
       "3               0                             0   \n",
       "4               0                             0   \n",
       "\n",
       "   no_of_previous_bookings_not_canceled  avg_price_per_room  \\\n",
       "0                                     0               67.50   \n",
       "1                                     0               72.25   \n",
       "2                                     0               52.00   \n",
       "3                                     0               56.00   \n",
       "4                                     0              100.00   \n",
       "\n",
       "   no_of_special_requests  booking_status  \n",
       "0                       0               0  \n",
       "1                       0               0  \n",
       "2                       0               0  \n",
       "3                       0               0  \n",
       "4                       0               1  "
      ]
     },
     "execution_count": 2,
     "metadata": {},
     "output_type": "execute_result"
    }
   ],
   "source": [
    "import pandas as pd\n",
    "df = pd.read_csv('train.csv')\n",
    "df.head()"
   ]
  },
  {
   "cell_type": "code",
   "execution_count": 3,
   "metadata": {},
   "outputs": [],
   "source": [
    "X = df.drop(columns=['id','booking_status'])\n",
    "Y = df[['booking_status']]"
   ]
  },
  {
   "cell_type": "code",
   "execution_count": 4,
   "metadata": {},
   "outputs": [
    {
     "data": {
      "text/plain": [
       "id                                      0\n",
       "no_of_adults                            0\n",
       "no_of_children                          0\n",
       "no_of_weekend_nights                    0\n",
       "no_of_week_nights                       0\n",
       "type_of_meal_plan                       0\n",
       "required_car_parking_space              0\n",
       "room_type_reserved                      0\n",
       "lead_time                               0\n",
       "arrival_year                            0\n",
       "arrival_month                           0\n",
       "arrival_date                            0\n",
       "market_segment_type                     0\n",
       "repeated_guest                          0\n",
       "no_of_previous_cancellations            0\n",
       "no_of_previous_bookings_not_canceled    0\n",
       "avg_price_per_room                      0\n",
       "no_of_special_requests                  0\n",
       "booking_status                          0\n",
       "dtype: int64"
      ]
     },
     "execution_count": 4,
     "metadata": {},
     "output_type": "execute_result"
    }
   ],
   "source": [
    "df.isna().sum()"
   ]
  },
  {
   "cell_type": "code",
   "execution_count": 5,
   "metadata": {},
   "outputs": [],
   "source": [
    "from sklearn.pipeline import Pipeline\n",
    "from sklearn.impute import SimpleImputer\n",
    "from sklearn.preprocessing import StandardScaler"
   ]
  },
  {
   "cell_type": "code",
   "execution_count": 6,
   "metadata": {},
   "outputs": [],
   "source": [
    "num_pipe = Pipeline(steps=[('imputer',SimpleImputer(strategy='median')),\n",
    "                           ('scaler',StandardScaler())])"
   ]
  },
  {
   "cell_type": "code",
   "execution_count": 7,
   "metadata": {},
   "outputs": [
    {
     "data": {
      "text/plain": [
       "array([[ 0.15103974, -0.31345354, -0.99881361, ..., -0.10147907,\n",
       "        -0.99805198, -0.73769133],\n",
       "       [ 0.15103974, -0.31345354,  0.13025905, ..., -0.10147907,\n",
       "        -0.87015314, -0.73769133],\n",
       "       [ 0.15103974, -0.31345354, -0.99881361, ..., -0.10147907,\n",
       "        -1.41540612, -0.73769133],\n",
       "       ...,\n",
       "       [ 0.15103974, -0.31345354, -0.99881361, ..., -0.10147907,\n",
       "        -0.2306589 , -0.73769133],\n",
       "       [-1.75392524, -0.31345354, -0.99881361, ..., -0.10147907,\n",
       "         0.41556686, -0.73769133],\n",
       "       [ 0.15103974, -0.31345354,  0.13025905, ..., -0.10147907,\n",
       "        -1.06536717, -0.73769133]])"
      ]
     },
     "execution_count": 7,
     "metadata": {},
     "output_type": "execute_result"
    }
   ],
   "source": [
    "X_pre = num_pipe.fit_transform(X)\n",
    "X_pre"
   ]
  },
  {
   "cell_type": "code",
   "execution_count": 8,
   "metadata": {},
   "outputs": [
    {
     "data": {
      "text/plain": [
       "array(['no_of_adults', 'no_of_children', 'no_of_weekend_nights',\n",
       "       'no_of_week_nights', 'type_of_meal_plan',\n",
       "       'required_car_parking_space', 'room_type_reserved', 'lead_time',\n",
       "       'arrival_year', 'arrival_month', 'arrival_date',\n",
       "       'market_segment_type', 'repeated_guest',\n",
       "       'no_of_previous_cancellations',\n",
       "       'no_of_previous_bookings_not_canceled', 'avg_price_per_room',\n",
       "       'no_of_special_requests'], dtype=object)"
      ]
     },
     "execution_count": 8,
     "metadata": {},
     "output_type": "execute_result"
    }
   ],
   "source": [
    "cols = num_pipe.get_feature_names_out()\n",
    "cols"
   ]
  },
  {
   "cell_type": "code",
   "execution_count": 9,
   "metadata": {},
   "outputs": [
    {
     "data": {
      "text/html": [
       "<div>\n",
       "<style scoped>\n",
       "    .dataframe tbody tr th:only-of-type {\n",
       "        vertical-align: middle;\n",
       "    }\n",
       "\n",
       "    .dataframe tbody tr th {\n",
       "        vertical-align: top;\n",
       "    }\n",
       "\n",
       "    .dataframe thead th {\n",
       "        text-align: right;\n",
       "    }\n",
       "</style>\n",
       "<table border=\"1\" class=\"dataframe\">\n",
       "  <thead>\n",
       "    <tr style=\"text-align: right;\">\n",
       "      <th></th>\n",
       "      <th>no_of_adults</th>\n",
       "      <th>no_of_children</th>\n",
       "      <th>no_of_weekend_nights</th>\n",
       "      <th>no_of_week_nights</th>\n",
       "      <th>type_of_meal_plan</th>\n",
       "      <th>required_car_parking_space</th>\n",
       "      <th>room_type_reserved</th>\n",
       "      <th>lead_time</th>\n",
       "      <th>arrival_year</th>\n",
       "      <th>arrival_month</th>\n",
       "      <th>arrival_date</th>\n",
       "      <th>market_segment_type</th>\n",
       "      <th>repeated_guest</th>\n",
       "      <th>no_of_previous_cancellations</th>\n",
       "      <th>no_of_previous_bookings_not_canceled</th>\n",
       "      <th>avg_price_per_room</th>\n",
       "      <th>no_of_special_requests</th>\n",
       "    </tr>\n",
       "  </thead>\n",
       "  <tbody>\n",
       "    <tr>\n",
       "      <th>0</th>\n",
       "      <td>0.151040</td>\n",
       "      <td>-0.313454</td>\n",
       "      <td>-0.998814</td>\n",
       "      <td>-0.278849</td>\n",
       "      <td>1.294624</td>\n",
       "      <td>-0.160945</td>\n",
       "      <td>-0.515173</td>\n",
       "      <td>-1.170469</td>\n",
       "      <td>0.409661</td>\n",
       "      <td>-2.330398</td>\n",
       "      <td>-0.214091</td>\n",
       "      <td>0.428551</td>\n",
       "      <td>5.766758</td>\n",
       "      <td>33.699120</td>\n",
       "      <td>-0.101479</td>\n",
       "      <td>-0.998052</td>\n",
       "      <td>-0.737691</td>\n",
       "    </tr>\n",
       "    <tr>\n",
       "      <th>1</th>\n",
       "      <td>0.151040</td>\n",
       "      <td>-0.313454</td>\n",
       "      <td>0.130259</td>\n",
       "      <td>-0.278849</td>\n",
       "      <td>-0.407020</td>\n",
       "      <td>-0.160945</td>\n",
       "      <td>-0.515173</td>\n",
       "      <td>0.161740</td>\n",
       "      <td>0.409661</td>\n",
       "      <td>-0.209778</td>\n",
       "      <td>1.473487</td>\n",
       "      <td>-1.149928</td>\n",
       "      <td>-0.173408</td>\n",
       "      <td>-0.060506</td>\n",
       "      <td>-0.101479</td>\n",
       "      <td>-0.870153</td>\n",
       "      <td>-0.737691</td>\n",
       "    </tr>\n",
       "    <tr>\n",
       "      <th>2</th>\n",
       "      <td>0.151040</td>\n",
       "      <td>-0.313454</td>\n",
       "      <td>-0.998814</td>\n",
       "      <td>-0.979466</td>\n",
       "      <td>-0.407020</td>\n",
       "      <td>-0.160945</td>\n",
       "      <td>-0.515173</td>\n",
       "      <td>2.604122</td>\n",
       "      <td>0.409661</td>\n",
       "      <td>1.557404</td>\n",
       "      <td>-1.564154</td>\n",
       "      <td>-1.149928</td>\n",
       "      <td>-0.173408</td>\n",
       "      <td>-0.060506</td>\n",
       "      <td>-0.101479</td>\n",
       "      <td>-1.415406</td>\n",
       "      <td>-0.737691</td>\n",
       "    </tr>\n",
       "    <tr>\n",
       "      <th>3</th>\n",
       "      <td>-1.753925</td>\n",
       "      <td>-0.313454</td>\n",
       "      <td>-0.998814</td>\n",
       "      <td>-0.278849</td>\n",
       "      <td>1.294624</td>\n",
       "      <td>-0.160945</td>\n",
       "      <td>-0.515173</td>\n",
       "      <td>-0.886758</td>\n",
       "      <td>0.409661</td>\n",
       "      <td>1.557404</td>\n",
       "      <td>-1.676659</td>\n",
       "      <td>0.428551</td>\n",
       "      <td>-0.173408</td>\n",
       "      <td>-0.060506</td>\n",
       "      <td>-0.101479</td>\n",
       "      <td>-1.307702</td>\n",
       "      <td>-0.737691</td>\n",
       "    </tr>\n",
       "    <tr>\n",
       "      <th>4</th>\n",
       "      <td>0.151040</td>\n",
       "      <td>-0.313454</td>\n",
       "      <td>0.130259</td>\n",
       "      <td>-1.680084</td>\n",
       "      <td>-0.407020</td>\n",
       "      <td>-0.160945</td>\n",
       "      <td>-0.515173</td>\n",
       "      <td>1.901012</td>\n",
       "      <td>0.409661</td>\n",
       "      <td>0.850531</td>\n",
       "      <td>0.010919</td>\n",
       "      <td>-1.149928</td>\n",
       "      <td>-0.173408</td>\n",
       "      <td>-0.060506</td>\n",
       "      <td>-0.101479</td>\n",
       "      <td>-0.122955</td>\n",
       "      <td>-0.737691</td>\n",
       "    </tr>\n",
       "  </tbody>\n",
       "</table>\n",
       "</div>"
      ],
      "text/plain": [
       "   no_of_adults  no_of_children  no_of_weekend_nights  no_of_week_nights  \\\n",
       "0      0.151040       -0.313454             -0.998814          -0.278849   \n",
       "1      0.151040       -0.313454              0.130259          -0.278849   \n",
       "2      0.151040       -0.313454             -0.998814          -0.979466   \n",
       "3     -1.753925       -0.313454             -0.998814          -0.278849   \n",
       "4      0.151040       -0.313454              0.130259          -1.680084   \n",
       "\n",
       "   type_of_meal_plan  required_car_parking_space  room_type_reserved  \\\n",
       "0           1.294624                   -0.160945           -0.515173   \n",
       "1          -0.407020                   -0.160945           -0.515173   \n",
       "2          -0.407020                   -0.160945           -0.515173   \n",
       "3           1.294624                   -0.160945           -0.515173   \n",
       "4          -0.407020                   -0.160945           -0.515173   \n",
       "\n",
       "   lead_time  arrival_year  arrival_month  arrival_date  market_segment_type  \\\n",
       "0  -1.170469      0.409661      -2.330398     -0.214091             0.428551   \n",
       "1   0.161740      0.409661      -0.209778      1.473487            -1.149928   \n",
       "2   2.604122      0.409661       1.557404     -1.564154            -1.149928   \n",
       "3  -0.886758      0.409661       1.557404     -1.676659             0.428551   \n",
       "4   1.901012      0.409661       0.850531      0.010919            -1.149928   \n",
       "\n",
       "   repeated_guest  no_of_previous_cancellations  \\\n",
       "0        5.766758                     33.699120   \n",
       "1       -0.173408                     -0.060506   \n",
       "2       -0.173408                     -0.060506   \n",
       "3       -0.173408                     -0.060506   \n",
       "4       -0.173408                     -0.060506   \n",
       "\n",
       "   no_of_previous_bookings_not_canceled  avg_price_per_room  \\\n",
       "0                             -0.101479           -0.998052   \n",
       "1                             -0.101479           -0.870153   \n",
       "2                             -0.101479           -1.415406   \n",
       "3                             -0.101479           -1.307702   \n",
       "4                             -0.101479           -0.122955   \n",
       "\n",
       "   no_of_special_requests  \n",
       "0               -0.737691  \n",
       "1               -0.737691  \n",
       "2               -0.737691  \n",
       "3               -0.737691  \n",
       "4               -0.737691  "
      ]
     },
     "execution_count": 9,
     "metadata": {},
     "output_type": "execute_result"
    }
   ],
   "source": [
    "X_pre = pd.DataFrame(X_pre, columns=cols)\n",
    "X_pre.head()"
   ]
  },
  {
   "cell_type": "code",
   "execution_count": 10,
   "metadata": {},
   "outputs": [],
   "source": [
    "from sklearn.model_selection import train_test_split\n",
    "xtrain, xtest, ytrain, ytest = train_test_split(X_pre, Y, test_size=0.2, random_state=42)"
   ]
  },
  {
   "cell_type": "code",
   "execution_count": 11,
   "metadata": {},
   "outputs": [
    {
     "data": {
      "text/plain": [
       "(33680, 17)"
      ]
     },
     "execution_count": 11,
     "metadata": {},
     "output_type": "execute_result"
    }
   ],
   "source": [
    "xtrain.shape"
   ]
  },
  {
   "cell_type": "code",
   "execution_count": 12,
   "metadata": {},
   "outputs": [
    {
     "data": {
      "text/plain": [
       "(8420, 17)"
      ]
     },
     "execution_count": 12,
     "metadata": {},
     "output_type": "execute_result"
    }
   ],
   "source": [
    "xtest.shape"
   ]
  },
  {
   "cell_type": "code",
   "execution_count": 13,
   "metadata": {},
   "outputs": [],
   "source": [
    "from keras.models import Sequential\n",
    "from keras.layers import Dense, BatchNormalization, Dropout\n",
    "from keras.callbacks import EarlyStopping"
   ]
  },
  {
   "cell_type": "code",
   "execution_count": 14,
   "metadata": {},
   "outputs": [],
   "source": [
    "model = Sequential()\n",
    "\n",
    "model.add(Dense(128, activation='relu', input_dim=xtrain.shape[1]))\n",
    "model.add(BatchNormalization())\n",
    "model.add(Dropout(0.3))\n",
    "\n",
    "model.add(Dense(64, activation='relu'))\n",
    "model.add(BatchNormalization())\n",
    "model.add(Dropout(0.3))\n",
    "\n",
    "model.add(Dense(32, activation='relu'))\n",
    "model.add(BatchNormalization())\n",
    "model.add(Dropout(0.3))\n",
    "\n",
    "model.add(Dense(1,activation='sigmoid'))"
   ]
  },
  {
   "cell_type": "code",
   "execution_count": 15,
   "metadata": {},
   "outputs": [],
   "source": [
    "model.compile(optimizer='adam',loss='binary_crossentropy',metrics=['accuracy'])"
   ]
  },
  {
   "cell_type": "code",
   "execution_count": 16,
   "metadata": {},
   "outputs": [],
   "source": [
    "early_stop = EarlyStopping(monitor='val_loss',patience=10)"
   ]
  },
  {
   "cell_type": "code",
   "execution_count": 17,
   "metadata": {},
   "outputs": [
    {
     "name": "stdout",
     "output_type": "stream",
     "text": [
      "Epoch 1/100\n"
     ]
    },
    {
     "name": "stdout",
     "output_type": "stream",
     "text": [
      "842/842 [==============================] - 4s 2ms/step - loss: 0.5565 - accuracy: 0.7271 - val_loss: 0.4784 - val_accuracy: 0.7732\n",
      "Epoch 2/100\n",
      "842/842 [==============================] - 2s 2ms/step - loss: 0.4968 - accuracy: 0.7634 - val_loss: 0.4730 - val_accuracy: 0.7751\n",
      "Epoch 3/100\n",
      "842/842 [==============================] - 2s 3ms/step - loss: 0.4827 - accuracy: 0.7725 - val_loss: 0.4677 - val_accuracy: 0.7822\n",
      "Epoch 4/100\n",
      "842/842 [==============================] - 2s 3ms/step - loss: 0.4776 - accuracy: 0.7748 - val_loss: 0.4616 - val_accuracy: 0.7852\n",
      "Epoch 5/100\n",
      "842/842 [==============================] - 2s 3ms/step - loss: 0.4723 - accuracy: 0.7804 - val_loss: 0.4586 - val_accuracy: 0.7862\n",
      "Epoch 6/100\n",
      "842/842 [==============================] - 2s 3ms/step - loss: 0.4717 - accuracy: 0.7775 - val_loss: 0.4582 - val_accuracy: 0.7870\n",
      "Epoch 7/100\n",
      "842/842 [==============================] - 2s 3ms/step - loss: 0.4695 - accuracy: 0.7820 - val_loss: 0.4552 - val_accuracy: 0.7885\n",
      "Epoch 8/100\n",
      "842/842 [==============================] - 2s 3ms/step - loss: 0.4651 - accuracy: 0.7834 - val_loss: 0.4538 - val_accuracy: 0.7962\n",
      "Epoch 9/100\n",
      "842/842 [==============================] - 2s 3ms/step - loss: 0.4643 - accuracy: 0.7862 - val_loss: 0.4522 - val_accuracy: 0.7972\n",
      "Epoch 10/100\n",
      "842/842 [==============================] - 2s 3ms/step - loss: 0.4644 - accuracy: 0.7846 - val_loss: 0.4484 - val_accuracy: 0.7963\n",
      "Epoch 11/100\n",
      "842/842 [==============================] - 2s 3ms/step - loss: 0.4627 - accuracy: 0.7857 - val_loss: 0.4469 - val_accuracy: 0.7982\n",
      "Epoch 12/100\n",
      "842/842 [==============================] - 2s 3ms/step - loss: 0.4623 - accuracy: 0.7891 - val_loss: 0.4489 - val_accuracy: 0.7966\n",
      "Epoch 13/100\n",
      "842/842 [==============================] - 2s 3ms/step - loss: 0.4590 - accuracy: 0.7917 - val_loss: 0.4467 - val_accuracy: 0.8006\n",
      "Epoch 14/100\n",
      "842/842 [==============================] - 2s 3ms/step - loss: 0.4576 - accuracy: 0.7899 - val_loss: 0.4443 - val_accuracy: 0.7999\n",
      "Epoch 15/100\n",
      "842/842 [==============================] - 2s 3ms/step - loss: 0.4558 - accuracy: 0.7922 - val_loss: 0.4445 - val_accuracy: 0.8021\n",
      "Epoch 16/100\n",
      "842/842 [==============================] - 2s 3ms/step - loss: 0.4543 - accuracy: 0.7918 - val_loss: 0.4423 - val_accuracy: 0.8029\n",
      "Epoch 17/100\n",
      "842/842 [==============================] - 2s 3ms/step - loss: 0.4539 - accuracy: 0.7938 - val_loss: 0.4418 - val_accuracy: 0.8037\n",
      "Epoch 18/100\n",
      "842/842 [==============================] - 2s 3ms/step - loss: 0.4545 - accuracy: 0.7921 - val_loss: 0.4401 - val_accuracy: 0.8020\n",
      "Epoch 19/100\n",
      "842/842 [==============================] - 2s 2ms/step - loss: 0.4515 - accuracy: 0.7923 - val_loss: 0.4430 - val_accuracy: 0.8027\n",
      "Epoch 20/100\n",
      "842/842 [==============================] - 2s 3ms/step - loss: 0.4535 - accuracy: 0.7939 - val_loss: 0.4395 - val_accuracy: 0.8051\n",
      "Epoch 21/100\n",
      "842/842 [==============================] - 2s 2ms/step - loss: 0.4483 - accuracy: 0.7944 - val_loss: 0.4369 - val_accuracy: 0.8052\n",
      "Epoch 22/100\n",
      "842/842 [==============================] - 2s 3ms/step - loss: 0.4505 - accuracy: 0.7939 - val_loss: 0.4384 - val_accuracy: 0.8039\n",
      "Epoch 23/100\n",
      "842/842 [==============================] - 2s 2ms/step - loss: 0.4487 - accuracy: 0.7961 - val_loss: 0.4394 - val_accuracy: 0.8033\n",
      "Epoch 24/100\n",
      "842/842 [==============================] - 2s 2ms/step - loss: 0.4489 - accuracy: 0.7962 - val_loss: 0.4374 - val_accuracy: 0.8040\n",
      "Epoch 25/100\n",
      "842/842 [==============================] - 2s 3ms/step - loss: 0.4450 - accuracy: 0.7936 - val_loss: 0.4367 - val_accuracy: 0.8043\n",
      "Epoch 26/100\n",
      "842/842 [==============================] - 2s 3ms/step - loss: 0.4492 - accuracy: 0.7953 - val_loss: 0.4353 - val_accuracy: 0.8066\n",
      "Epoch 27/100\n",
      "842/842 [==============================] - 2s 3ms/step - loss: 0.4451 - accuracy: 0.7991 - val_loss: 0.4353 - val_accuracy: 0.8055\n",
      "Epoch 28/100\n",
      "842/842 [==============================] - 2s 2ms/step - loss: 0.4439 - accuracy: 0.7983 - val_loss: 0.4367 - val_accuracy: 0.8057\n",
      "Epoch 29/100\n",
      "842/842 [==============================] - 2s 2ms/step - loss: 0.4439 - accuracy: 0.7969 - val_loss: 0.4342 - val_accuracy: 0.8060\n",
      "Epoch 30/100\n",
      "842/842 [==============================] - 2s 2ms/step - loss: 0.4425 - accuracy: 0.7991 - val_loss: 0.4325 - val_accuracy: 0.8061\n",
      "Epoch 31/100\n",
      "842/842 [==============================] - 2s 2ms/step - loss: 0.4415 - accuracy: 0.7981 - val_loss: 0.4355 - val_accuracy: 0.8058\n",
      "Epoch 32/100\n",
      "842/842 [==============================] - 2s 2ms/step - loss: 0.4442 - accuracy: 0.7998 - val_loss: 0.4364 - val_accuracy: 0.8054\n",
      "Epoch 33/100\n",
      "842/842 [==============================] - 2s 3ms/step - loss: 0.4403 - accuracy: 0.7992 - val_loss: 0.4347 - val_accuracy: 0.8042\n",
      "Epoch 34/100\n",
      "842/842 [==============================] - 2s 3ms/step - loss: 0.4418 - accuracy: 0.7968 - val_loss: 0.4364 - val_accuracy: 0.8072\n",
      "Epoch 35/100\n",
      "842/842 [==============================] - 2s 3ms/step - loss: 0.4423 - accuracy: 0.7977 - val_loss: 0.4333 - val_accuracy: 0.8066\n",
      "Epoch 36/100\n",
      "842/842 [==============================] - 2s 3ms/step - loss: 0.4393 - accuracy: 0.7987 - val_loss: 0.4338 - val_accuracy: 0.8046\n",
      "Epoch 37/100\n",
      "842/842 [==============================] - 2s 3ms/step - loss: 0.4440 - accuracy: 0.7972 - val_loss: 0.4344 - val_accuracy: 0.8043\n",
      "Epoch 38/100\n",
      "842/842 [==============================] - 2s 3ms/step - loss: 0.4400 - accuracy: 0.7996 - val_loss: 0.4336 - val_accuracy: 0.8048\n",
      "Epoch 39/100\n",
      "842/842 [==============================] - 2s 3ms/step - loss: 0.4418 - accuracy: 0.7972 - val_loss: 0.4324 - val_accuracy: 0.8072\n",
      "Epoch 40/100\n",
      "842/842 [==============================] - 2s 3ms/step - loss: 0.4370 - accuracy: 0.8031 - val_loss: 0.4325 - val_accuracy: 0.8040\n",
      "Epoch 41/100\n",
      "842/842 [==============================] - 2s 3ms/step - loss: 0.4384 - accuracy: 0.8022 - val_loss: 0.4322 - val_accuracy: 0.8064\n",
      "Epoch 42/100\n",
      "842/842 [==============================] - 2s 3ms/step - loss: 0.4371 - accuracy: 0.7993 - val_loss: 0.4334 - val_accuracy: 0.8037\n",
      "Epoch 43/100\n",
      "842/842 [==============================] - 2s 3ms/step - loss: 0.4378 - accuracy: 0.8038 - val_loss: 0.4317 - val_accuracy: 0.8070\n",
      "Epoch 44/100\n",
      "842/842 [==============================] - 2s 2ms/step - loss: 0.4394 - accuracy: 0.8007 - val_loss: 0.4330 - val_accuracy: 0.8058\n",
      "Epoch 45/100\n",
      "842/842 [==============================] - 2s 3ms/step - loss: 0.4383 - accuracy: 0.8025 - val_loss: 0.4326 - val_accuracy: 0.8039\n",
      "Epoch 46/100\n",
      "842/842 [==============================] - 2s 3ms/step - loss: 0.4381 - accuracy: 0.7996 - val_loss: 0.4323 - val_accuracy: 0.8037\n",
      "Epoch 47/100\n",
      "842/842 [==============================] - 2s 3ms/step - loss: 0.4408 - accuracy: 0.7999 - val_loss: 0.4355 - val_accuracy: 0.8057\n",
      "Epoch 48/100\n",
      "842/842 [==============================] - 2s 3ms/step - loss: 0.4401 - accuracy: 0.7993 - val_loss: 0.4307 - val_accuracy: 0.8069\n",
      "Epoch 49/100\n",
      "842/842 [==============================] - 2s 3ms/step - loss: 0.4394 - accuracy: 0.7998 - val_loss: 0.4315 - val_accuracy: 0.8063\n",
      "Epoch 50/100\n",
      "842/842 [==============================] - 2s 3ms/step - loss: 0.4361 - accuracy: 0.8018 - val_loss: 0.4334 - val_accuracy: 0.8066\n",
      "Epoch 51/100\n",
      "842/842 [==============================] - 2s 3ms/step - loss: 0.4371 - accuracy: 0.8015 - val_loss: 0.4333 - val_accuracy: 0.8045\n",
      "Epoch 52/100\n",
      "842/842 [==============================] - 2s 3ms/step - loss: 0.4396 - accuracy: 0.7986 - val_loss: 0.4329 - val_accuracy: 0.8079\n",
      "Epoch 53/100\n",
      "842/842 [==============================] - 2s 3ms/step - loss: 0.4357 - accuracy: 0.8023 - val_loss: 0.4315 - val_accuracy: 0.8054\n",
      "Epoch 54/100\n",
      "842/842 [==============================] - 2s 3ms/step - loss: 0.4382 - accuracy: 0.8015 - val_loss: 0.4303 - val_accuracy: 0.8061\n",
      "Epoch 55/100\n",
      "842/842 [==============================] - 2s 3ms/step - loss: 0.4364 - accuracy: 0.8020 - val_loss: 0.4310 - val_accuracy: 0.8054\n",
      "Epoch 56/100\n",
      "842/842 [==============================] - 2s 3ms/step - loss: 0.4379 - accuracy: 0.8008 - val_loss: 0.4314 - val_accuracy: 0.8063\n",
      "Epoch 57/100\n",
      "842/842 [==============================] - 2s 3ms/step - loss: 0.4335 - accuracy: 0.8044 - val_loss: 0.4332 - val_accuracy: 0.8055\n",
      "Epoch 58/100\n",
      "842/842 [==============================] - 2s 3ms/step - loss: 0.4359 - accuracy: 0.8023 - val_loss: 0.4311 - val_accuracy: 0.8060\n",
      "Epoch 59/100\n",
      "842/842 [==============================] - 2s 3ms/step - loss: 0.4367 - accuracy: 0.8038 - val_loss: 0.4320 - val_accuracy: 0.8070\n",
      "Epoch 60/100\n",
      "842/842 [==============================] - 2s 3ms/step - loss: 0.4349 - accuracy: 0.8021 - val_loss: 0.4315 - val_accuracy: 0.8049\n",
      "Epoch 61/100\n",
      "842/842 [==============================] - 2s 3ms/step - loss: 0.4352 - accuracy: 0.8023 - val_loss: 0.4324 - val_accuracy: 0.8042\n",
      "Epoch 62/100\n",
      "842/842 [==============================] - 2s 3ms/step - loss: 0.4359 - accuracy: 0.8011 - val_loss: 0.4340 - val_accuracy: 0.8043\n",
      "Epoch 63/100\n",
      "842/842 [==============================] - 2s 3ms/step - loss: 0.4356 - accuracy: 0.8027 - val_loss: 0.4321 - val_accuracy: 0.8052\n",
      "Epoch 64/100\n",
      "842/842 [==============================] - 2s 3ms/step - loss: 0.4346 - accuracy: 0.8036 - val_loss: 0.4325 - val_accuracy: 0.8051\n"
     ]
    }
   ],
   "source": [
    "hist = model.fit(xtrain, ytrain, validation_split=0.2, epochs=100, callbacks=[early_stop])"
   ]
  },
  {
   "cell_type": "code",
   "execution_count": 18,
   "metadata": {},
   "outputs": [
    {
     "name": "stdout",
     "output_type": "stream",
     "text": [
      "1053/1053 [==============================] - 1s 1ms/step - loss: 0.4084 - accuracy: 0.8161\n"
     ]
    },
    {
     "data": {
      "text/plain": [
       "[0.40835222601890564, 0.8160926103591919]"
      ]
     },
     "execution_count": 18,
     "metadata": {},
     "output_type": "execute_result"
    }
   ],
   "source": [
    "model.evaluate(xtrain, ytrain)"
   ]
  },
  {
   "cell_type": "code",
   "execution_count": 19,
   "metadata": {},
   "outputs": [
    {
     "name": "stdout",
     "output_type": "stream",
     "text": [
      "264/264 [==============================] - 0s 1ms/step - loss: 0.4205 - accuracy: 0.8110\n"
     ]
    },
    {
     "data": {
      "text/plain": [
       "[0.4205278158187866, 0.8110451102256775]"
      ]
     },
     "execution_count": 19,
     "metadata": {},
     "output_type": "execute_result"
    }
   ],
   "source": [
    "model.evaluate(xtest, ytest)"
   ]
  },
  {
   "cell_type": "code",
   "execution_count": 20,
   "metadata": {},
   "outputs": [
    {
     "name": "stdout",
     "output_type": "stream",
     "text": [
      "1053/1053 [==============================] - 1s 1ms/step\n",
      "264/264 [==============================] - 0s 1ms/step\n"
     ]
    }
   ],
   "source": [
    "yprob_tr = model.predict(xtrain)\n",
    "yprob_ts = model.predict(xtest)"
   ]
  },
  {
   "cell_type": "code",
   "execution_count": 21,
   "metadata": {},
   "outputs": [
    {
     "data": {
      "image/png": "[encoded data removed]",
      "text/plain": [
       "<Figure size 1600x800 with 1 Axes>"
      ]
     },
     "metadata": {},
     "output_type": "display_data"
    }
   ],
   "source": [
    "import matplotlib.pyplot as plt\n",
    "plt.figure(figsize=(16,8))\n",
    "plt.plot(hist.history['loss'],label='train loss')\n",
    "plt.plot(hist.history['val_loss'],label='val loss')\n",
    "plt.xlabel('Epochs')\n",
    "plt.ylabel('Binary Crossentropy loss')\n",
    "plt.legend()\n",
    "plt.show()"
   ]
  },
  {
   "cell_type": "code",
   "execution_count": 22,
   "metadata": {},
   "outputs": [],
   "source": [
    "ypred_ts = []\n",
    "for i in yprob_ts:\n",
    "    if i>=0.5:\n",
    "        ypred_ts.append(1)\n",
    "    else:\n",
    "        ypred_ts.append(0)"
   ]
  },
  {
   "cell_type": "code",
   "execution_count": 23,
   "metadata": {},
   "outputs": [
    {
     "data": {
      "text/plain": [
       "<sklearn.metrics._plot.confusion_matrix.ConfusionMatrixDisplay at 0x24acf31a4a0>"
      ]
     },
     "execution_count": 23,
     "metadata": {},
     "output_type": "execute_result"
    },
    {
     "data": {
      "image/png": "[encoded data removed]",
      "text/plain": [
       "<Figure size 640x480 with 2 Axes>"
      ]
     },
     "metadata": {},
     "output_type": "display_data"
    }
   ],
   "source": [
    "from sklearn.metrics import confusion_matrix, ConfusionMatrixDisplay\n",
    "cf = confusion_matrix(ytest, ypred_ts)\n",
    "cfd = ConfusionMatrixDisplay(cf)\n",
    "cfd.plot()"
   ]
  },
  {
   "cell_type": "code",
   "execution_count": 24,
   "metadata": {},
   "outputs": [],
   "source": [
    "from sklearn.linear_model import LogisticRegression"
   ]
  },
  {
   "cell_type": "code",
   "execution_count": 25,
   "metadata": {},
   "outputs": [
    {
     "data": {
      "text/html": [
       "<style>#sk-container-id-1 {color: black;}#sk-container-id-1 pre{padding: 0;}#sk-container-id-1 div.sk-toggleable {background-color: white;}#sk-container-id-1 label.sk-toggleable__label {cursor: pointer;display: block;width: 100%;margin-bottom: 0;padding: 0.3em;box-sizing: border-box;text-align: center;}#sk-container-id-1 label.sk-toggleable__label-arrow:before {content: \"▸\";float: left;margin-right: 0.25em;color: #696969;}#sk-container-id-1 label.sk-toggleable__label-arrow:hover:before {color: black;}#sk-container-id-1 div.sk-estimator:hover label.sk-toggleable__label-arrow:before {color: black;}#sk-container-id-1 div.sk-toggleable__content {max-height: 0;max-width: 0;overflow: hidden;text-align: left;background-color: #f0f8ff;}#sk-container-id-1 div.sk-toggleable__content pre {margin: 0.2em;color: black;border-radius: 0.25em;background-color: #f0f8ff;}#sk-container-id-1 input.sk-toggleable__control:checked~div.sk-toggleable__content {max-height: 200px;max-width: 100%;overflow: auto;}#sk-container-id-1 input.sk-toggleable__control:checked~label.sk-toggleable__label-arrow:before {content: \"▾\";}#sk-container-id-1 div.sk-estimator input.sk-toggleable__control:checked~label.sk-toggleable__label {background-color: #d4ebff;}#sk-container-id-1 div.sk-label input.sk-toggleable__control:checked~label.sk-toggleable__label {background-color: #d4ebff;}#sk-container-id-1 input.sk-hidden--visually {border: 0;clip: rect(1px 1px 1px 1px);clip: rect(1px, 1px, 1px, 1px);height: 1px;margin: -1px;overflow: hidden;padding: 0;position: absolute;width: 1px;}#sk-container-id-1 div.sk-estimator {font-family: monospace;background-color: #f0f8ff;border: 1px dotted black;border-radius: 0.25em;box-sizing: border-box;margin-bottom: 0.5em;}#sk-container-id-1 div.sk-estimator:hover {background-color: #d4ebff;}#sk-container-id-1 div.sk-parallel-item::after {content: \"\";width: 100%;border-bottom: 1px solid gray;flex-grow: 1;}#sk-container-id-1 div.sk-label:hover label.sk-toggleable__label {background-color: #d4ebff;}#sk-container-id-1 div.sk-serial::before {content: \"\";position: absolute;border-left: 1px solid gray;box-sizing: border-box;top: 0;bottom: 0;left: 50%;z-index: 0;}#sk-container-id-1 div.sk-serial {display: flex;flex-direction: column;align-items: center;background-color: white;padding-right: 0.2em;padding-left: 0.2em;position: relative;}#sk-container-id-1 div.sk-item {position: relative;z-index: 1;}#sk-container-id-1 div.sk-parallel {display: flex;align-items: stretch;justify-content: center;background-color: white;position: relative;}#sk-container-id-1 div.sk-item::before, #sk-container-id-1 div.sk-parallel-item::before {content: \"\";position: absolute;border-left: 1px solid gray;box-sizing: border-box;top: 0;bottom: 0;left: 50%;z-index: -1;}#sk-container-id-1 div.sk-parallel-item {display: flex;flex-direction: column;z-index: 1;position: relative;background-color: white;}#sk-container-id-1 div.sk-parallel-item:first-child::after {align-self: flex-end;width: 50%;}#sk-container-id-1 div.sk-parallel-item:last-child::after {align-self: flex-start;width: 50%;}#sk-container-id-1 div.sk-parallel-item:only-child::after {width: 0;}#sk-container-id-1 div.sk-dashed-wrapped {border: 1px dashed gray;margin: 0 0.4em 0.5em 0.4em;box-sizing: border-box;padding-bottom: 0.4em;background-color: white;}#sk-container-id-1 div.sk-label label {font-family: monospace;font-weight: bold;display: inline-block;line-height: 1.2em;}#sk-container-id-1 div.sk-label-container {text-align: center;}#sk-container-id-1 div.sk-container {/* jupyter's `normalize.less` sets `[hidden] { display: none; }` but bootstrap.min.css set `[hidden] { display: none !important; }` so we also need the `!important` here to be able to override the default hidden behavior on the sphinx rendered scikit-learn.org. See: https://github.com/scikit-learn/scikit-learn/issues/21755 */display: inline-block !important;position: relative;}#sk-container-id-1 div.sk-text-repr-fallback {display: none;}</style><div id=\"sk-container-id-1\" class=\"sk-top-container\"><div class=\"sk-text-repr-fallback\"><pre>LogisticRegression()</pre><b>In a Jupyter environment, please rerun this cell to show the HTML representation or trust the notebook. <br />On GitHub, the HTML representation is unable to render, please try loading this page with nbviewer.org.</b></div><div class=\"sk-container\" hidden><div class=\"sk-item\"><div class=\"sk-estimator sk-toggleable\"><input class=\"sk-toggleable__control sk-hidden--visually\" id=\"sk-estimator-id-1\" type=\"checkbox\" checked><label for=\"sk-estimator-id-1\" class=\"sk-toggleable__label sk-toggleable__label-arrow\">LogisticRegression</label><div class=\"sk-toggleable__content\"><pre>LogisticRegression()</pre></div></div></div></div></div>"
      ],
      "text/plain": [
       "LogisticRegression()"
      ]
     },
     "execution_count": 25,
     "metadata": {},
     "output_type": "execute_result"
    }
   ],
   "source": [
    "lr = LogisticRegression()\n",
    "lr.fit(xtrain, ytrain)"
   ]
  },
  {
   "cell_type": "code",
   "execution_count": 26,
   "metadata": {},
   "outputs": [
    {
     "data": {
      "text/plain": [
       "0.7684679334916864"
      ]
     },
     "execution_count": 26,
     "metadata": {},
     "output_type": "execute_result"
    }
   ],
   "source": [
    "lr.score(xtrain, ytrain)"
   ]
  },
  {
   "cell_type": "code",
   "execution_count": 27,
   "metadata": {},
   "outputs": [
    {
     "data": {
      "text/plain": [
       "0.7679334916864609"
      ]
     },
     "execution_count": 27,
     "metadata": {},
     "output_type": "execute_result"
    }
   ],
   "source": [
    "lr.score(xtest, ytest)"
   ]
  },
  {
   "cell_type": "code",
   "execution_count": 28,
   "metadata": {},
   "outputs": [
    {
     "data": {
      "text/html": [
       "<style>#sk-container-id-2 {color: black;}#sk-container-id-2 pre{padding: 0;}#sk-container-id-2 div.sk-toggleable {background-color: white;}#sk-container-id-2 label.sk-toggleable__label {cursor: pointer;display: block;width: 100%;margin-bottom: 0;padding: 0.3em;box-sizing: border-box;text-align: center;}#sk-container-id-2 label.sk-toggleable__label-arrow:before {content: \"▸\";float: left;margin-right: 0.25em;color: #696969;}#sk-container-id-2 label.sk-toggleable__label-arrow:hover:before {color: black;}#sk-container-id-2 div.sk-estimator:hover label.sk-toggleable__label-arrow:before {color: black;}#sk-container-id-2 div.sk-toggleable__content {max-height: 0;max-width: 0;overflow: hidden;text-align: left;background-color: #f0f8ff;}#sk-container-id-2 div.sk-toggleable__content pre {margin: 0.2em;color: black;border-radius: 0.25em;background-color: #f0f8ff;}#sk-container-id-2 input.sk-toggleable__control:checked~div.sk-toggleable__content {max-height: 200px;max-width: 100%;overflow: auto;}#sk-container-id-2 input.sk-toggleable__control:checked~label.sk-toggleable__label-arrow:before {content: \"▾\";}#sk-container-id-2 div.sk-estimator input.sk-toggleable__control:checked~label.sk-toggleable__label {background-color: #d4ebff;}#sk-container-id-2 div.sk-label input.sk-toggleable__control:checked~label.sk-toggleable__label {background-color: #d4ebff;}#sk-container-id-2 input.sk-hidden--visually {border: 0;clip: rect(1px 1px 1px 1px);clip: rect(1px, 1px, 1px, 1px);height: 1px;margin: -1px;overflow: hidden;padding: 0;position: absolute;width: 1px;}#sk-container-id-2 div.sk-estimator {font-family: monospace;background-color: #f0f8ff;border: 1px dotted black;border-radius: 0.25em;box-sizing: border-box;margin-bottom: 0.5em;}#sk-container-id-2 div.sk-estimator:hover {background-color: #d4ebff;}#sk-container-id-2 div.sk-parallel-item::after {content: \"\";width: 100%;border-bottom: 1px solid gray;flex-grow: 1;}#sk-container-id-2 div.sk-label:hover label.sk-toggleable__label {background-color: #d4ebff;}#sk-container-id-2 div.sk-serial::before {content: \"\";position: absolute;border-left: 1px solid gray;box-sizing: border-box;top: 0;bottom: 0;left: 50%;z-index: 0;}#sk-container-id-2 div.sk-serial {display: flex;flex-direction: column;align-items: center;background-color: white;padding-right: 0.2em;padding-left: 0.2em;position: relative;}#sk-container-id-2 div.sk-item {position: relative;z-index: 1;}#sk-container-id-2 div.sk-parallel {display: flex;align-items: stretch;justify-content: center;background-color: white;position: relative;}#sk-container-id-2 div.sk-item::before, #sk-container-id-2 div.sk-parallel-item::before {content: \"\";position: absolute;border-left: 1px solid gray;box-sizing: border-box;top: 0;bottom: 0;left: 50%;z-index: -1;}#sk-container-id-2 div.sk-parallel-item {display: flex;flex-direction: column;z-index: 1;position: relative;background-color: white;}#sk-container-id-2 div.sk-parallel-item:first-child::after {align-self: flex-end;width: 50%;}#sk-container-id-2 div.sk-parallel-item:last-child::after {align-self: flex-start;width: 50%;}#sk-container-id-2 div.sk-parallel-item:only-child::after {width: 0;}#sk-container-id-2 div.sk-dashed-wrapped {border: 1px dashed gray;margin: 0 0.4em 0.5em 0.4em;box-sizing: border-box;padding-bottom: 0.4em;background-color: white;}#sk-container-id-2 div.sk-label label {font-family: monospace;font-weight: bold;display: inline-block;line-height: 1.2em;}#sk-container-id-2 div.sk-label-container {text-align: center;}#sk-container-id-2 div.sk-container {/* jupyter's `normalize.less` sets `[hidden] { display: none; }` but bootstrap.min.css set `[hidden] { display: none !important; }` so we also need the `!important` here to be able to override the default hidden behavior on the sphinx rendered scikit-learn.org. See: https://github.com/scikit-learn/scikit-learn/issues/21755 */display: inline-block !important;position: relative;}#sk-container-id-2 div.sk-text-repr-fallback {display: none;}</style><div id=\"sk-container-id-2\" class=\"sk-top-container\"><div class=\"sk-text-repr-fallback\"><pre>GradientBoostingClassifier()</pre><b>In a Jupyter environment, please rerun this cell to show the HTML representation or trust the notebook. <br />On GitHub, the HTML representation is unable to render, please try loading this page with nbviewer.org.</b></div><div class=\"sk-container\" hidden><div class=\"sk-item\"><div class=\"sk-estimator sk-toggleable\"><input class=\"sk-toggleable__control sk-hidden--visually\" id=\"sk-estimator-id-2\" type=\"checkbox\" checked><label for=\"sk-estimator-id-2\" class=\"sk-toggleable__label sk-toggleable__label-arrow\">GradientBoostingClassifier</label><div class=\"sk-toggleable__content\"><pre>GradientBoostingClassifier()</pre></div></div></div></div></div>"
      ],
      "text/plain": [
       "GradientBoostingClassifier()"
      ]
     },
     "execution_count": 28,
     "metadata": {},
     "output_type": "execute_result"
    }
   ],
   "source": [
    "from sklearn.ensemble import GradientBoostingClassifier\n",
    "gbc = GradientBoostingClassifier()\n",
    "gbc.fit(xtrain, ytrain)"
   ]
  },
  {
   "cell_type": "code",
   "execution_count": 29,
   "metadata": {},
   "outputs": [
    {
     "data": {
      "text/plain": [
       "0.811520190023753"
      ]
     },
     "execution_count": 29,
     "metadata": {},
     "output_type": "execute_result"
    }
   ],
   "source": [
    "gbc.score(xtrain, ytrain)"
   ]
  },
  {
   "cell_type": "code",
   "execution_count": 30,
   "metadata": {},
   "outputs": [
    {
     "data": {
      "text/plain": [
       "0.8125890736342043"
      ]
     },
     "execution_count": 30,
     "metadata": {},
     "output_type": "execute_result"
    }
   ],
   "source": [
    "gbc.score(xtest, ytest)"
   ]
  },
  {
   "cell_type": "code",
   "execution_count": 31,
   "metadata": {},
   "outputs": [],
   "source": [
    "params = {'learning_rate':[0.001, 0.01, 0.1, 0.2],\n",
    "          'max_depth':[2,3,4,5],\n",
    "          'min_samples_split':[4,5,6,7]}"
   ]
  },
  {
   "cell_type": "code",
   "execution_count": 32,
   "metadata": {},
   "outputs": [
    {
     "data": {
      "text/html": [
       "<style>#sk-container-id-3 {color: black;}#sk-container-id-3 pre{padding: 0;}#sk-container-id-3 div.sk-toggleable {background-color: white;}#sk-container-id-3 label.sk-toggleable__label {cursor: pointer;display: block;width: 100%;margin-bottom: 0;padding: 0.3em;box-sizing: border-box;text-align: center;}#sk-container-id-3 label.sk-toggleable__label-arrow:before {content: \"▸\";float: left;margin-right: 0.25em;color: #696969;}#sk-container-id-3 label.sk-toggleable__label-arrow:hover:before {color: black;}#sk-container-id-3 div.sk-estimator:hover label.sk-toggleable__label-arrow:before {color: black;}#sk-container-id-3 div.sk-toggleable__content {max-height: 0;max-width: 0;overflow: hidden;text-align: left;background-color: #f0f8ff;}#sk-container-id-3 div.sk-toggleable__content pre {margin: 0.2em;color: black;border-radius: 0.25em;background-color: #f0f8ff;}#sk-container-id-3 input.sk-toggleable__control:checked~div.sk-toggleable__content {max-height: 200px;max-width: 100%;overflow: auto;}#sk-container-id-3 input.sk-toggleable__control:checked~label.sk-toggleable__label-arrow:before {content: \"▾\";}#sk-container-id-3 div.sk-estimator input.sk-toggleable__control:checked~label.sk-toggleable__label {background-color: #d4ebff;}#sk-container-id-3 div.sk-label input.sk-toggleable__control:checked~label.sk-toggleable__label {background-color: #d4ebff;}#sk-container-id-3 input.sk-hidden--visually {border: 0;clip: rect(1px 1px 1px 1px);clip: rect(1px, 1px, 1px, 1px);height: 1px;margin: -1px;overflow: hidden;padding: 0;position: absolute;width: 1px;}#sk-container-id-3 div.sk-estimator {font-family: monospace;background-color: #f0f8ff;border: 1px dotted black;border-radius: 0.25em;box-sizing: border-box;margin-bottom: 0.5em;}#sk-container-id-3 div.sk-estimator:hover {background-color: #d4ebff;}#sk-container-id-3 div.sk-parallel-item::after {content: \"\";width: 100%;border-bottom: 1px solid gray;flex-grow: 1;}#sk-container-id-3 div.sk-label:hover label.sk-toggleable__label {background-color: #d4ebff;}#sk-container-id-3 div.sk-serial::before {content: \"\";position: absolute;border-left: 1px solid gray;box-sizing: border-box;top: 0;bottom: 0;left: 50%;z-index: 0;}#sk-container-id-3 div.sk-serial {display: flex;flex-direction: column;align-items: center;background-color: white;padding-right: 0.2em;padding-left: 0.2em;position: relative;}#sk-container-id-3 div.sk-item {position: relative;z-index: 1;}#sk-container-id-3 div.sk-parallel {display: flex;align-items: stretch;justify-content: center;background-color: white;position: relative;}#sk-container-id-3 div.sk-item::before, #sk-container-id-3 div.sk-parallel-item::before {content: \"\";position: absolute;border-left: 1px solid gray;box-sizing: border-box;top: 0;bottom: 0;left: 50%;z-index: -1;}#sk-container-id-3 div.sk-parallel-item {display: flex;flex-direction: column;z-index: 1;position: relative;background-color: white;}#sk-container-id-3 div.sk-parallel-item:first-child::after {align-self: flex-end;width: 50%;}#sk-container-id-3 div.sk-parallel-item:last-child::after {align-self: flex-start;width: 50%;}#sk-container-id-3 div.sk-parallel-item:only-child::after {width: 0;}#sk-container-id-3 div.sk-dashed-wrapped {border: 1px dashed gray;margin: 0 0.4em 0.5em 0.4em;box-sizing: border-box;padding-bottom: 0.4em;background-color: white;}#sk-container-id-3 div.sk-label label {font-family: monospace;font-weight: bold;display: inline-block;line-height: 1.2em;}#sk-container-id-3 div.sk-label-container {text-align: center;}#sk-container-id-3 div.sk-container {/* jupyter's `normalize.less` sets `[hidden] { display: none; }` but bootstrap.min.css set `[hidden] { display: none !important; }` so we also need the `!important` here to be able to override the default hidden behavior on the sphinx rendered scikit-learn.org. See: https://github.com/scikit-learn/scikit-learn/issues/21755 */display: inline-block !important;position: relative;}#sk-container-id-3 div.sk-text-repr-fallback {display: none;}</style><div id=\"sk-container-id-3\" class=\"sk-top-container\"><div class=\"sk-text-repr-fallback\"><pre>RandomizedSearchCV(cv=5, estimator=GradientBoostingClassifier(random_state=21),\n",
       "                   n_jobs=-1,\n",
       "                   param_distributions={&#x27;learning_rate&#x27;: [0.001, 0.01, 0.1,\n",
       "                                                          0.2],\n",
       "                                        &#x27;max_depth&#x27;: [2, 3, 4, 5],\n",
       "                                        &#x27;min_samples_split&#x27;: [4, 5, 6, 7]},\n",
       "                   scoring=&#x27;f1&#x27;)</pre><b>In a Jupyter environment, please rerun this cell to show the HTML representation or trust the notebook. <br />On GitHub, the HTML representation is unable to render, please try loading this page with nbviewer.org.</b></div><div class=\"sk-container\" hidden><div class=\"sk-item sk-dashed-wrapped\"><div class=\"sk-label-container\"><div class=\"sk-label sk-toggleable\"><input class=\"sk-toggleable__control sk-hidden--visually\" id=\"sk-estimator-id-3\" type=\"checkbox\" ><label for=\"sk-estimator-id-3\" class=\"sk-toggleable__label sk-toggleable__label-arrow\">RandomizedSearchCV</label><div class=\"sk-toggleable__content\"><pre>RandomizedSearchCV(cv=5, estimator=GradientBoostingClassifier(random_state=21),\n",
       "                   n_jobs=-1,\n",
       "                   param_distributions={&#x27;learning_rate&#x27;: [0.001, 0.01, 0.1,\n",
       "                                                          0.2],\n",
       "                                        &#x27;max_depth&#x27;: [2, 3, 4, 5],\n",
       "                                        &#x27;min_samples_split&#x27;: [4, 5, 6, 7]},\n",
       "                   scoring=&#x27;f1&#x27;)</pre></div></div></div><div class=\"sk-parallel\"><div class=\"sk-parallel-item\"><div class=\"sk-item\"><div class=\"sk-label-container\"><div class=\"sk-label sk-toggleable\"><input class=\"sk-toggleable__control sk-hidden--visually\" id=\"sk-estimator-id-4\" type=\"checkbox\" ><label for=\"sk-estimator-id-4\" class=\"sk-toggleable__label sk-toggleable__label-arrow\">estimator: GradientBoostingClassifier</label><div class=\"sk-toggleable__content\"><pre>GradientBoostingClassifier(random_state=21)</pre></div></div></div><div class=\"sk-serial\"><div class=\"sk-item\"><div class=\"sk-estimator sk-toggleable\"><input class=\"sk-toggleable__control sk-hidden--visually\" id=\"sk-estimator-id-5\" type=\"checkbox\" ><label for=\"sk-estimator-id-5\" class=\"sk-toggleable__label sk-toggleable__label-arrow\">GradientBoostingClassifier</label><div class=\"sk-toggleable__content\"><pre>GradientBoostingClassifier(random_state=21)</pre></div></div></div></div></div></div></div></div></div></div>"
      ],
      "text/plain": [
       "RandomizedSearchCV(cv=5, estimator=GradientBoostingClassifier(random_state=21),\n",
       "                   n_jobs=-1,\n",
       "                   param_distributions={'learning_rate': [0.001, 0.01, 0.1,\n",
       "                                                          0.2],\n",
       "                                        'max_depth': [2, 3, 4, 5],\n",
       "                                        'min_samples_split': [4, 5, 6, 7]},\n",
       "                   scoring='f1')"
      ]
     },
     "execution_count": 32,
     "metadata": {},
     "output_type": "execute_result"
    }
   ],
   "source": [
    "from sklearn.model_selection import RandomizedSearchCV\n",
    "gbc = GradientBoostingClassifier(random_state=21)\n",
    "rscv = RandomizedSearchCV(gbc,param_distributions=params,cv=5,scoring='f1',n_jobs=-1)\n",
    "rscv.fit(xtrain, ytrain)\n"
   ]
  },
  {
   "cell_type": "code",
   "execution_count": 33,
   "metadata": {},
   "outputs": [
    {
     "data": {
      "text/plain": [
       "{'min_samples_split': 6, 'max_depth': 3, 'learning_rate': 0.2}"
      ]
     },
     "execution_count": 33,
     "metadata": {},
     "output_type": "execute_result"
    }
   ],
   "source": [
    "rscv.best_params_"
   ]
  },
  {
   "cell_type": "code",
   "execution_count": 34,
   "metadata": {},
   "outputs": [
    {
     "data": {
      "text/plain": [
       "0.7542570817995793"
      ]
     },
     "execution_count": 34,
     "metadata": {},
     "output_type": "execute_result"
    }
   ],
   "source": [
    "rscv.best_score_"
   ]
  },
  {
   "cell_type": "code",
   "execution_count": 35,
   "metadata": {},
   "outputs": [
    {
     "data": {
      "text/html": [
       "<style>#sk-container-id-4 {color: black;}#sk-container-id-4 pre{padding: 0;}#sk-container-id-4 div.sk-toggleable {background-color: white;}#sk-container-id-4 label.sk-toggleable__label {cursor: pointer;display: block;width: 100%;margin-bottom: 0;padding: 0.3em;box-sizing: border-box;text-align: center;}#sk-container-id-4 label.sk-toggleable__label-arrow:before {content: \"▸\";float: left;margin-right: 0.25em;color: #696969;}#sk-container-id-4 label.sk-toggleable__label-arrow:hover:before {color: black;}#sk-container-id-4 div.sk-estimator:hover label.sk-toggleable__label-arrow:before {color: black;}#sk-container-id-4 div.sk-toggleable__content {max-height: 0;max-width: 0;overflow: hidden;text-align: left;background-color: #f0f8ff;}#sk-container-id-4 div.sk-toggleable__content pre {margin: 0.2em;color: black;border-radius: 0.25em;background-color: #f0f8ff;}#sk-container-id-4 input.sk-toggleable__control:checked~div.sk-toggleable__content {max-height: 200px;max-width: 100%;overflow: auto;}#sk-container-id-4 input.sk-toggleable__control:checked~label.sk-toggleable__label-arrow:before {content: \"▾\";}#sk-container-id-4 div.sk-estimator input.sk-toggleable__control:checked~label.sk-toggleable__label {background-color: #d4ebff;}#sk-container-id-4 div.sk-label input.sk-toggleable__control:checked~label.sk-toggleable__label {background-color: #d4ebff;}#sk-container-id-4 input.sk-hidden--visually {border: 0;clip: rect(1px 1px 1px 1px);clip: rect(1px, 1px, 1px, 1px);height: 1px;margin: -1px;overflow: hidden;padding: 0;position: absolute;width: 1px;}#sk-container-id-4 div.sk-estimator {font-family: monospace;background-color: #f0f8ff;border: 1px dotted black;border-radius: 0.25em;box-sizing: border-box;margin-bottom: 0.5em;}#sk-container-id-4 div.sk-estimator:hover {background-color: #d4ebff;}#sk-container-id-4 div.sk-parallel-item::after {content: \"\";width: 100%;border-bottom: 1px solid gray;flex-grow: 1;}#sk-container-id-4 div.sk-label:hover label.sk-toggleable__label {background-color: #d4ebff;}#sk-container-id-4 div.sk-serial::before {content: \"\";position: absolute;border-left: 1px solid gray;box-sizing: border-box;top: 0;bottom: 0;left: 50%;z-index: 0;}#sk-container-id-4 div.sk-serial {display: flex;flex-direction: column;align-items: center;background-color: white;padding-right: 0.2em;padding-left: 0.2em;position: relative;}#sk-container-id-4 div.sk-item {position: relative;z-index: 1;}#sk-container-id-4 div.sk-parallel {display: flex;align-items: stretch;justify-content: center;background-color: white;position: relative;}#sk-container-id-4 div.sk-item::before, #sk-container-id-4 div.sk-parallel-item::before {content: \"\";position: absolute;border-left: 1px solid gray;box-sizing: border-box;top: 0;bottom: 0;left: 50%;z-index: -1;}#sk-container-id-4 div.sk-parallel-item {display: flex;flex-direction: column;z-index: 1;position: relative;background-color: white;}#sk-container-id-4 div.sk-parallel-item:first-child::after {align-self: flex-end;width: 50%;}#sk-container-id-4 div.sk-parallel-item:last-child::after {align-self: flex-start;width: 50%;}#sk-container-id-4 div.sk-parallel-item:only-child::after {width: 0;}#sk-container-id-4 div.sk-dashed-wrapped {border: 1px dashed gray;margin: 0 0.4em 0.5em 0.4em;box-sizing: border-box;padding-bottom: 0.4em;background-color: white;}#sk-container-id-4 div.sk-label label {font-family: monospace;font-weight: bold;display: inline-block;line-height: 1.2em;}#sk-container-id-4 div.sk-label-container {text-align: center;}#sk-container-id-4 div.sk-container {/* jupyter's `normalize.less` sets `[hidden] { display: none; }` but bootstrap.min.css set `[hidden] { display: none !important; }` so we also need the `!important` here to be able to override the default hidden behavior on the sphinx rendered scikit-learn.org. See: https://github.com/scikit-learn/scikit-learn/issues/21755 */display: inline-block !important;position: relative;}#sk-container-id-4 div.sk-text-repr-fallback {display: none;}</style><div id=\"sk-container-id-4\" class=\"sk-top-container\"><div class=\"sk-text-repr-fallback\"><pre>GradientBoostingClassifier(learning_rate=0.2, min_samples_split=6,\n",
       "                           random_state=21)</pre><b>In a Jupyter environment, please rerun this cell to show the HTML representation or trust the notebook. <br />On GitHub, the HTML representation is unable to render, please try loading this page with nbviewer.org.</b></div><div class=\"sk-container\" hidden><div class=\"sk-item\"><div class=\"sk-estimator sk-toggleable\"><input class=\"sk-toggleable__control sk-hidden--visually\" id=\"sk-estimator-id-6\" type=\"checkbox\" checked><label for=\"sk-estimator-id-6\" class=\"sk-toggleable__label sk-toggleable__label-arrow\">GradientBoostingClassifier</label><div class=\"sk-toggleable__content\"><pre>GradientBoostingClassifier(learning_rate=0.2, min_samples_split=6,\n",
       "                           random_state=21)</pre></div></div></div></div></div>"
      ],
      "text/plain": [
       "GradientBoostingClassifier(learning_rate=0.2, min_samples_split=6,\n",
       "                           random_state=21)"
      ]
     },
     "execution_count": 35,
     "metadata": {},
     "output_type": "execute_result"
    }
   ],
   "source": [
    "best_gbc = rscv.best_estimator_\n",
    "best_gbc"
   ]
  },
  {
   "cell_type": "code",
   "execution_count": 36,
   "metadata": {},
   "outputs": [
    {
     "data": {
      "text/plain": [
       "0.819833729216152"
      ]
     },
     "execution_count": 36,
     "metadata": {},
     "output_type": "execute_result"
    }
   ],
   "source": [
    "best_gbc.score(xtrain, ytrain)"
   ]
  },
  {
   "cell_type": "code",
   "execution_count": 37,
   "metadata": {},
   "outputs": [
    {
     "data": {
      "text/plain": [
       "0.8146080760095011"
      ]
     },
     "execution_count": 37,
     "metadata": {},
     "output_type": "execute_result"
    }
   ],
   "source": [
    "best_gbc.score(xtest, ytest)"
   ]
  },
  {
   "cell_type": "code",
   "execution_count": 38,
   "metadata": {},
   "outputs": [],
   "source": [
    "ypred_tr = best_gbc.predict(xtrain)\n",
    "ypred_ts = best_gbc.predict(xtest)"
   ]
  },
  {
   "cell_type": "code",
   "execution_count": 39,
   "metadata": {},
   "outputs": [
    {
     "data": {
      "text/plain": [
       "<sklearn.metrics._plot.confusion_matrix.ConfusionMatrixDisplay at 0x24ad1b70610>"
      ]
     },
     "execution_count": 39,
     "metadata": {},
     "output_type": "execute_result"
    },
    {
     "data": {
      "image/png": "[encoded data removed]",
      "text/plain": [
       "<Figure size 640x480 with 2 Axes>"
      ]
     },
     "metadata": {},
     "output_type": "display_data"
    }
   ],
   "source": [
    "cf = confusion_matrix(ytest, ypred_ts)\n",
    "cfd = ConfusionMatrixDisplay(cf, display_labels=best_gbc.classes_)\n",
    "cfd.plot()"
   ]
  },
  {
   "cell_type": "code",
   "execution_count": 40,
   "metadata": {},
   "outputs": [
    {
     "name": "stdout",
     "output_type": "stream",
     "text": [
      "              precision    recall  f1-score   support\n",
      "\n",
      "           0       0.83      0.87      0.85      5150\n",
      "           1       0.78      0.72      0.75      3270\n",
      "\n",
      "    accuracy                           0.81      8420\n",
      "   macro avg       0.81      0.80      0.80      8420\n",
      "weighted avg       0.81      0.81      0.81      8420\n",
      "\n"
     ]
    }
   ],
   "source": [
    "from sklearn.metrics import classification_report\n",
    "print(classification_report(ytest, ypred_ts))"
   ]
  },
  {
   "cell_type": "markdown",
   "metadata": {},
   "source": [
    "### Predicting the test data"
   ]
  },
  {
   "cell_type": "code",
   "execution_count": 41,
   "metadata": {},
   "outputs": [
    {
     "data": {
      "text/html": [
       "<div>\n",
       "<style scoped>\n",
       "    .dataframe tbody tr th:only-of-type {\n",
       "        vertical-align: middle;\n",
       "    }\n",
       "\n",
       "    .dataframe tbody tr th {\n",
       "        vertical-align: top;\n",
       "    }\n",
       "\n",
       "    .dataframe thead th {\n",
       "        text-align: right;\n",
       "    }\n",
       "</style>\n",
       "<table border=\"1\" class=\"dataframe\">\n",
       "  <thead>\n",
       "    <tr style=\"text-align: right;\">\n",
       "      <th></th>\n",
       "      <th>id</th>\n",
       "      <th>no_of_adults</th>\n",
       "      <th>no_of_children</th>\n",
       "      <th>no_of_weekend_nights</th>\n",
       "      <th>no_of_week_nights</th>\n",
       "      <th>type_of_meal_plan</th>\n",
       "      <th>required_car_parking_space</th>\n",
       "      <th>room_type_reserved</th>\n",
       "      <th>lead_time</th>\n",
       "      <th>arrival_year</th>\n",
       "      <th>arrival_month</th>\n",
       "      <th>arrival_date</th>\n",
       "      <th>market_segment_type</th>\n",
       "      <th>repeated_guest</th>\n",
       "      <th>no_of_previous_cancellations</th>\n",
       "      <th>no_of_previous_bookings_not_canceled</th>\n",
       "      <th>avg_price_per_room</th>\n",
       "      <th>no_of_special_requests</th>\n",
       "    </tr>\n",
       "  </thead>\n",
       "  <tbody>\n",
       "    <tr>\n",
       "      <th>0</th>\n",
       "      <td>42100</td>\n",
       "      <td>3</td>\n",
       "      <td>0</td>\n",
       "      <td>1</td>\n",
       "      <td>4</td>\n",
       "      <td>0</td>\n",
       "      <td>0</td>\n",
       "      <td>1</td>\n",
       "      <td>111</td>\n",
       "      <td>2018</td>\n",
       "      <td>12</td>\n",
       "      <td>5</td>\n",
       "      <td>1</td>\n",
       "      <td>0</td>\n",
       "      <td>0</td>\n",
       "      <td>0</td>\n",
       "      <td>115.60</td>\n",
       "      <td>2</td>\n",
       "    </tr>\n",
       "    <tr>\n",
       "      <th>1</th>\n",
       "      <td>42101</td>\n",
       "      <td>2</td>\n",
       "      <td>0</td>\n",
       "      <td>0</td>\n",
       "      <td>3</td>\n",
       "      <td>0</td>\n",
       "      <td>0</td>\n",
       "      <td>0</td>\n",
       "      <td>22</td>\n",
       "      <td>2017</td>\n",
       "      <td>10</td>\n",
       "      <td>21</td>\n",
       "      <td>0</td>\n",
       "      <td>0</td>\n",
       "      <td>0</td>\n",
       "      <td>0</td>\n",
       "      <td>85.00</td>\n",
       "      <td>0</td>\n",
       "    </tr>\n",
       "    <tr>\n",
       "      <th>2</th>\n",
       "      <td>42102</td>\n",
       "      <td>2</td>\n",
       "      <td>2</td>\n",
       "      <td>0</td>\n",
       "      <td>1</td>\n",
       "      <td>0</td>\n",
       "      <td>0</td>\n",
       "      <td>3</td>\n",
       "      <td>18</td>\n",
       "      <td>2018</td>\n",
       "      <td>8</td>\n",
       "      <td>10</td>\n",
       "      <td>1</td>\n",
       "      <td>0</td>\n",
       "      <td>0</td>\n",
       "      <td>0</td>\n",
       "      <td>240.00</td>\n",
       "      <td>1</td>\n",
       "    </tr>\n",
       "    <tr>\n",
       "      <th>3</th>\n",
       "      <td>42103</td>\n",
       "      <td>2</td>\n",
       "      <td>0</td>\n",
       "      <td>0</td>\n",
       "      <td>3</td>\n",
       "      <td>0</td>\n",
       "      <td>0</td>\n",
       "      <td>0</td>\n",
       "      <td>88</td>\n",
       "      <td>2018</td>\n",
       "      <td>5</td>\n",
       "      <td>30</td>\n",
       "      <td>0</td>\n",
       "      <td>0</td>\n",
       "      <td>0</td>\n",
       "      <td>0</td>\n",
       "      <td>80.75</td>\n",
       "      <td>0</td>\n",
       "    </tr>\n",
       "    <tr>\n",
       "      <th>4</th>\n",
       "      <td>42104</td>\n",
       "      <td>1</td>\n",
       "      <td>0</td>\n",
       "      <td>0</td>\n",
       "      <td>2</td>\n",
       "      <td>2</td>\n",
       "      <td>0</td>\n",
       "      <td>0</td>\n",
       "      <td>7</td>\n",
       "      <td>2018</td>\n",
       "      <td>9</td>\n",
       "      <td>21</td>\n",
       "      <td>1</td>\n",
       "      <td>0</td>\n",
       "      <td>0</td>\n",
       "      <td>0</td>\n",
       "      <td>144.00</td>\n",
       "      <td>0</td>\n",
       "    </tr>\n",
       "  </tbody>\n",
       "</table>\n",
       "</div>"
      ],
      "text/plain": [
       "      id  no_of_adults  no_of_children  no_of_weekend_nights  \\\n",
       "0  42100             3               0                     1   \n",
       "1  42101             2               0                     0   \n",
       "2  42102             2               2                     0   \n",
       "3  42103             2               0                     0   \n",
       "4  42104             1               0                     0   \n",
       "\n",
       "   no_of_week_nights  type_of_meal_plan  required_car_parking_space  \\\n",
       "0                  4                  0                           0   \n",
       "1                  3                  0                           0   \n",
       "2                  1                  0                           0   \n",
       "3                  3                  0                           0   \n",
       "4                  2                  2                           0   \n",
       "\n",
       "   room_type_reserved  lead_time  arrival_year  arrival_month  arrival_date  \\\n",
       "0                   1        111          2018             12             5   \n",
       "1                   0         22          2017             10            21   \n",
       "2                   3         18          2018              8            10   \n",
       "3                   0         88          2018              5            30   \n",
       "4                   0          7          2018              9            21   \n",
       "\n",
       "   market_segment_type  repeated_guest  no_of_previous_cancellations  \\\n",
       "0                    1               0                             0   \n",
       "1                    0               0                             0   \n",
       "2                    1               0                             0   \n",
       "3                    0               0                             0   \n",
       "4                    1               0                             0   \n",
       "\n",
       "   no_of_previous_bookings_not_canceled  avg_price_per_room  \\\n",
       "0                                     0              115.60   \n",
       "1                                     0               85.00   \n",
       "2                                     0              240.00   \n",
       "3                                     0               80.75   \n",
       "4                                     0              144.00   \n",
       "\n",
       "   no_of_special_requests  \n",
       "0                       2  \n",
       "1                       0  \n",
       "2                       1  \n",
       "3                       0  \n",
       "4                       0  "
      ]
     },
     "execution_count": 41,
     "metadata": {},
     "output_type": "execute_result"
    }
   ],
   "source": [
    "xnew = pd.read_csv('test.csv')\n",
    "xnew.head()"
   ]
  },
  {
   "cell_type": "code",
   "execution_count": 42,
   "metadata": {},
   "outputs": [],
   "source": [
    "xnew_pre = xnew.drop(columns=['id'])"
   ]
  },
  {
   "cell_type": "code",
   "execution_count": 43,
   "metadata": {},
   "outputs": [
    {
     "data": {
      "text/plain": [
       "array([[ 2.05600472, -0.31345354,  0.13025905, ..., -0.10147907,\n",
       "         0.29709213,  1.84284918],\n",
       "       [ 0.15103974, -0.31345354, -0.99881361, ..., -0.10147907,\n",
       "        -0.5268457 , -0.73769133],\n",
       "       [ 0.15103974,  4.12977678, -0.99881361, ..., -0.10147907,\n",
       "         3.64669564,  0.55257892],\n",
       "       ...,\n",
       "       [ 0.15103974, -0.31345354,  0.13025905, ..., -0.10147907,\n",
       "        -0.5268457 , -0.73769133],\n",
       "       [ 2.05600472, -0.31345354, -0.99881361, ..., -0.10147907,\n",
       "         1.56665649, -0.73769133],\n",
       "       [ 0.15103974, -0.31345354,  1.25933171, ..., -0.10147907,\n",
       "        -0.54542469, -0.73769133]])"
      ]
     },
     "execution_count": 43,
     "metadata": {},
     "output_type": "execute_result"
    }
   ],
   "source": [
    "xnew_pre = num_pipe.transform(xnew_pre)\n",
    "xnew_pre"
   ]
  },
  {
   "cell_type": "code",
   "execution_count": 44,
   "metadata": {},
   "outputs": [],
   "source": [
    "xnew_pre = pd.DataFrame(xnew_pre, columns=cols)"
   ]
  },
  {
   "cell_type": "code",
   "execution_count": 45,
   "metadata": {},
   "outputs": [
    {
     "data": {
      "text/html": [
       "<div>\n",
       "<style scoped>\n",
       "    .dataframe tbody tr th:only-of-type {\n",
       "        vertical-align: middle;\n",
       "    }\n",
       "\n",
       "    .dataframe tbody tr th {\n",
       "        vertical-align: top;\n",
       "    }\n",
       "\n",
       "    .dataframe thead th {\n",
       "        text-align: right;\n",
       "    }\n",
       "</style>\n",
       "<table border=\"1\" class=\"dataframe\">\n",
       "  <thead>\n",
       "    <tr style=\"text-align: right;\">\n",
       "      <th></th>\n",
       "      <th>no_of_adults</th>\n",
       "      <th>no_of_children</th>\n",
       "      <th>no_of_weekend_nights</th>\n",
       "      <th>no_of_week_nights</th>\n",
       "      <th>type_of_meal_plan</th>\n",
       "      <th>required_car_parking_space</th>\n",
       "      <th>room_type_reserved</th>\n",
       "      <th>lead_time</th>\n",
       "      <th>arrival_year</th>\n",
       "      <th>arrival_month</th>\n",
       "      <th>arrival_date</th>\n",
       "      <th>market_segment_type</th>\n",
       "      <th>repeated_guest</th>\n",
       "      <th>no_of_previous_cancellations</th>\n",
       "      <th>no_of_previous_bookings_not_canceled</th>\n",
       "      <th>avg_price_per_room</th>\n",
       "      <th>no_of_special_requests</th>\n",
       "    </tr>\n",
       "  </thead>\n",
       "  <tbody>\n",
       "    <tr>\n",
       "      <th>0</th>\n",
       "      <td>2.056005</td>\n",
       "      <td>-0.313454</td>\n",
       "      <td>0.130259</td>\n",
       "      <td>1.122386</td>\n",
       "      <td>-0.407020</td>\n",
       "      <td>-0.160945</td>\n",
       "      <td>0.685890</td>\n",
       "      <td>0.087728</td>\n",
       "      <td>0.409661</td>\n",
       "      <td>1.557404</td>\n",
       "      <td>-1.226638</td>\n",
       "      <td>0.428551</td>\n",
       "      <td>-0.173408</td>\n",
       "      <td>-0.060506</td>\n",
       "      <td>-0.101479</td>\n",
       "      <td>0.297092</td>\n",
       "      <td>1.842849</td>\n",
       "    </tr>\n",
       "    <tr>\n",
       "      <th>1</th>\n",
       "      <td>0.151040</td>\n",
       "      <td>-0.313454</td>\n",
       "      <td>-0.998814</td>\n",
       "      <td>0.421768</td>\n",
       "      <td>-0.407020</td>\n",
       "      <td>-0.160945</td>\n",
       "      <td>-0.515173</td>\n",
       "      <td>-1.010111</td>\n",
       "      <td>-2.441040</td>\n",
       "      <td>0.850531</td>\n",
       "      <td>0.573445</td>\n",
       "      <td>-1.149928</td>\n",
       "      <td>-0.173408</td>\n",
       "      <td>-0.060506</td>\n",
       "      <td>-0.101479</td>\n",
       "      <td>-0.526846</td>\n",
       "      <td>-0.737691</td>\n",
       "    </tr>\n",
       "    <tr>\n",
       "      <th>2</th>\n",
       "      <td>0.151040</td>\n",
       "      <td>4.129777</td>\n",
       "      <td>-0.998814</td>\n",
       "      <td>-0.979466</td>\n",
       "      <td>-0.407020</td>\n",
       "      <td>-0.160945</td>\n",
       "      <td>3.088017</td>\n",
       "      <td>-1.059452</td>\n",
       "      <td>0.409661</td>\n",
       "      <td>0.143658</td>\n",
       "      <td>-0.664112</td>\n",
       "      <td>0.428551</td>\n",
       "      <td>-0.173408</td>\n",
       "      <td>-0.060506</td>\n",
       "      <td>-0.101479</td>\n",
       "      <td>3.646696</td>\n",
       "      <td>0.552579</td>\n",
       "    </tr>\n",
       "    <tr>\n",
       "      <th>3</th>\n",
       "      <td>0.151040</td>\n",
       "      <td>-0.313454</td>\n",
       "      <td>-0.998814</td>\n",
       "      <td>0.421768</td>\n",
       "      <td>-0.407020</td>\n",
       "      <td>-0.160945</td>\n",
       "      <td>-0.515173</td>\n",
       "      <td>-0.195983</td>\n",
       "      <td>0.409661</td>\n",
       "      <td>-0.916652</td>\n",
       "      <td>1.585992</td>\n",
       "      <td>-1.149928</td>\n",
       "      <td>-0.173408</td>\n",
       "      <td>-0.060506</td>\n",
       "      <td>-0.101479</td>\n",
       "      <td>-0.641282</td>\n",
       "      <td>-0.737691</td>\n",
       "    </tr>\n",
       "    <tr>\n",
       "      <th>4</th>\n",
       "      <td>-1.753925</td>\n",
       "      <td>-0.313454</td>\n",
       "      <td>-0.998814</td>\n",
       "      <td>-0.278849</td>\n",
       "      <td>2.996268</td>\n",
       "      <td>-0.160945</td>\n",
       "      <td>-0.515173</td>\n",
       "      <td>-1.195140</td>\n",
       "      <td>0.409661</td>\n",
       "      <td>0.497095</td>\n",
       "      <td>0.573445</td>\n",
       "      <td>0.428551</td>\n",
       "      <td>-0.173408</td>\n",
       "      <td>-0.060506</td>\n",
       "      <td>-0.101479</td>\n",
       "      <td>1.061793</td>\n",
       "      <td>-0.737691</td>\n",
       "    </tr>\n",
       "  </tbody>\n",
       "</table>\n",
       "</div>"
      ],
      "text/plain": [
       "   no_of_adults  no_of_children  no_of_weekend_nights  no_of_week_nights  \\\n",
       "0      2.056005       -0.313454              0.130259           1.122386   \n",
       "1      0.151040       -0.313454             -0.998814           0.421768   \n",
       "2      0.151040        4.129777             -0.998814          -0.979466   \n",
       "3      0.151040       -0.313454             -0.998814           0.421768   \n",
       "4     -1.753925       -0.313454             -0.998814          -0.278849   \n",
       "\n",
       "   type_of_meal_plan  required_car_parking_space  room_type_reserved  \\\n",
       "0          -0.407020                   -0.160945            0.685890   \n",
       "1          -0.407020                   -0.160945           -0.515173   \n",
       "2          -0.407020                   -0.160945            3.088017   \n",
       "3          -0.407020                   -0.160945           -0.515173   \n",
       "4           2.996268                   -0.160945           -0.515173   \n",
       "\n",
       "   lead_time  arrival_year  arrival_month  arrival_date  market_segment_type  \\\n",
       "0   0.087728      0.409661       1.557404     -1.226638             0.428551   \n",
       "1  -1.010111     -2.441040       0.850531      0.573445            -1.149928   \n",
       "2  -1.059452      0.409661       0.143658     -0.664112             0.428551   \n",
       "3  -0.195983      0.409661      -0.916652      1.585992            -1.149928   \n",
       "4  -1.195140      0.409661       0.497095      0.573445             0.428551   \n",
       "\n",
       "   repeated_guest  no_of_previous_cancellations  \\\n",
       "0       -0.173408                     -0.060506   \n",
       "1       -0.173408                     -0.060506   \n",
       "2       -0.173408                     -0.060506   \n",
       "3       -0.173408                     -0.060506   \n",
       "4       -0.173408                     -0.060506   \n",
       "\n",
       "   no_of_previous_bookings_not_canceled  avg_price_per_room  \\\n",
       "0                             -0.101479            0.297092   \n",
       "1                             -0.101479           -0.526846   \n",
       "2                             -0.101479            3.646696   \n",
       "3                             -0.101479           -0.641282   \n",
       "4                             -0.101479            1.061793   \n",
       "\n",
       "   no_of_special_requests  \n",
       "0                1.842849  \n",
       "1               -0.737691  \n",
       "2                0.552579  \n",
       "3               -0.737691  \n",
       "4               -0.737691  "
      ]
     },
     "execution_count": 45,
     "metadata": {},
     "output_type": "execute_result"
    }
   ],
   "source": [
    "xnew_pre.head()"
   ]
  },
  {
   "cell_type": "code",
   "execution_count": 46,
   "metadata": {},
   "outputs": [],
   "source": [
    "preds = best_gbc.predict(xnew_pre)"
   ]
  },
  {
   "cell_type": "code",
   "execution_count": 47,
   "metadata": {},
   "outputs": [],
   "source": [
    "probs = best_gbc.predict_proba(xnew_pre)[:,1]"
   ]
  },
  {
   "cell_type": "code",
   "execution_count": 48,
   "metadata": {},
   "outputs": [
    {
     "data": {
      "text/plain": [
       "array([0.07146749, 0.07009513, 0.38618645, ..., 0.13089283, 0.50577819,\n",
       "       0.86844612])"
      ]
     },
     "execution_count": 48,
     "metadata": {},
     "output_type": "execute_result"
    }
   ],
   "source": [
    "probs"
   ]
  },
  {
   "cell_type": "code",
   "execution_count": 49,
   "metadata": {},
   "outputs": [
    {
     "data": {
      "text/html": [
       "<div>\n",
       "<style scoped>\n",
       "    .dataframe tbody tr th:only-of-type {\n",
       "        vertical-align: middle;\n",
       "    }\n",
       "\n",
       "    .dataframe tbody tr th {\n",
       "        vertical-align: top;\n",
       "    }\n",
       "\n",
       "    .dataframe thead th {\n",
       "        text-align: right;\n",
       "    }\n",
       "</style>\n",
       "<table border=\"1\" class=\"dataframe\">\n",
       "  <thead>\n",
       "    <tr style=\"text-align: right;\">\n",
       "      <th></th>\n",
       "      <th>id</th>\n",
       "    </tr>\n",
       "  </thead>\n",
       "  <tbody>\n",
       "    <tr>\n",
       "      <th>0</th>\n",
       "      <td>42100</td>\n",
       "    </tr>\n",
       "    <tr>\n",
       "      <th>1</th>\n",
       "      <td>42101</td>\n",
       "    </tr>\n",
       "    <tr>\n",
       "      <th>2</th>\n",
       "      <td>42102</td>\n",
       "    </tr>\n",
       "    <tr>\n",
       "      <th>3</th>\n",
       "      <td>42103</td>\n",
       "    </tr>\n",
       "    <tr>\n",
       "      <th>4</th>\n",
       "      <td>42104</td>\n",
       "    </tr>\n",
       "    <tr>\n",
       "      <th>...</th>\n",
       "      <td>...</td>\n",
       "    </tr>\n",
       "    <tr>\n",
       "      <th>28063</th>\n",
       "      <td>70163</td>\n",
       "    </tr>\n",
       "    <tr>\n",
       "      <th>28064</th>\n",
       "      <td>70164</td>\n",
       "    </tr>\n",
       "    <tr>\n",
       "      <th>28065</th>\n",
       "      <td>70165</td>\n",
       "    </tr>\n",
       "    <tr>\n",
       "      <th>28066</th>\n",
       "      <td>70166</td>\n",
       "    </tr>\n",
       "    <tr>\n",
       "      <th>28067</th>\n",
       "      <td>70167</td>\n",
       "    </tr>\n",
       "  </tbody>\n",
       "</table>\n",
       "<p>28068 rows × 1 columns</p>\n",
       "</div>"
      ],
      "text/plain": [
       "          id\n",
       "0      42100\n",
       "1      42101\n",
       "2      42102\n",
       "3      42103\n",
       "4      42104\n",
       "...      ...\n",
       "28063  70163\n",
       "28064  70164\n",
       "28065  70165\n",
       "28066  70166\n",
       "28067  70167\n",
       "\n",
       "[28068 rows x 1 columns]"
      ]
     },
     "execution_count": 49,
     "metadata": {},
     "output_type": "execute_result"
    }
   ],
   "source": [
    "df_final = xnew[['id']]\n",
    "df_final"
   ]
  },
  {
   "cell_type": "code",
   "execution_count": 50,
   "metadata": {},
   "outputs": [],
   "source": [
    "df_final['booking_status']=probs"
   ]
  },
  {
   "cell_type": "code",
   "execution_count": 51,
   "metadata": {},
   "outputs": [
    {
     "data": {
      "text/html": [
       "<div>\n",
       "<style scoped>\n",
       "    .dataframe tbody tr th:only-of-type {\n",
       "        vertical-align: middle;\n",
       "    }\n",
       "\n",
       "    .dataframe tbody tr th {\n",
       "        vertical-align: top;\n",
       "    }\n",
       "\n",
       "    .dataframe thead th {\n",
       "        text-align: right;\n",
       "    }\n",
       "</style>\n",
       "<table border=\"1\" class=\"dataframe\">\n",
       "  <thead>\n",
       "    <tr style=\"text-align: right;\">\n",
       "      <th></th>\n",
       "      <th>id</th>\n",
       "      <th>booking_status</th>\n",
       "    </tr>\n",
       "  </thead>\n",
       "  <tbody>\n",
       "    <tr>\n",
       "      <th>0</th>\n",
       "      <td>42100</td>\n",
       "      <td>0.071467</td>\n",
       "    </tr>\n",
       "    <tr>\n",
       "      <th>1</th>\n",
       "      <td>42101</td>\n",
       "      <td>0.070095</td>\n",
       "    </tr>\n",
       "    <tr>\n",
       "      <th>2</th>\n",
       "      <td>42102</td>\n",
       "      <td>0.386186</td>\n",
       "    </tr>\n",
       "    <tr>\n",
       "      <th>3</th>\n",
       "      <td>42103</td>\n",
       "      <td>0.102579</td>\n",
       "    </tr>\n",
       "    <tr>\n",
       "      <th>4</th>\n",
       "      <td>42104</td>\n",
       "      <td>0.538090</td>\n",
       "    </tr>\n",
       "    <tr>\n",
       "      <th>...</th>\n",
       "      <td>...</td>\n",
       "      <td>...</td>\n",
       "    </tr>\n",
       "    <tr>\n",
       "      <th>28063</th>\n",
       "      <td>70163</td>\n",
       "      <td>0.947463</td>\n",
       "    </tr>\n",
       "    <tr>\n",
       "      <th>28064</th>\n",
       "      <td>70164</td>\n",
       "      <td>0.068066</td>\n",
       "    </tr>\n",
       "    <tr>\n",
       "      <th>28065</th>\n",
       "      <td>70165</td>\n",
       "      <td>0.130893</td>\n",
       "    </tr>\n",
       "    <tr>\n",
       "      <th>28066</th>\n",
       "      <td>70166</td>\n",
       "      <td>0.505778</td>\n",
       "    </tr>\n",
       "    <tr>\n",
       "      <th>28067</th>\n",
       "      <td>70167</td>\n",
       "      <td>0.868446</td>\n",
       "    </tr>\n",
       "  </tbody>\n",
       "</table>\n",
       "<p>28068 rows × 2 columns</p>\n",
       "</div>"
      ],
      "text/plain": [
       "          id  booking_status\n",
       "0      42100        0.071467\n",
       "1      42101        0.070095\n",
       "2      42102        0.386186\n",
       "3      42103        0.102579\n",
       "4      42104        0.538090\n",
       "...      ...             ...\n",
       "28063  70163        0.947463\n",
       "28064  70164        0.068066\n",
       "28065  70165        0.130893\n",
       "28066  70166        0.505778\n",
       "28067  70167        0.868446\n",
       "\n",
       "[28068 rows x 2 columns]"
      ]
     },
     "execution_count": 51,
     "metadata": {},
     "output_type": "execute_result"
    }
   ],
   "source": [
    "df_final"
   ]
  },
  {
   "cell_type": "code",
   "execution_count": 52,
   "metadata": {},
   "outputs": [],
   "source": [
    "df_final.to_csv('submission.csv',index=False)"
   ]
  }
 ],
 "metadata": {
  "kernelspec": {
   "display_name": "venv",
   "language": "python",
   "name": "python3"
  },
  "language_info": {
   "codemirror_mode": {
    "name": "ipython",
    "version": 3
   },
   "file_extension": ".py",
   "mimetype": "text/x-python",
   "name": "python",
   "nbconvert_exporter": "python",
   "pygments_lexer": "ipython3",
   "version": "3.10.7"
  },
  "orig_nbformat": 4
 },
 "nbformat": 4,
 "nbformat_minor": 2
}
