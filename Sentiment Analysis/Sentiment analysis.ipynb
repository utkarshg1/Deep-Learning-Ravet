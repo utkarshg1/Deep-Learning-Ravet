{
 "cells": [
  {
   "cell_type": "markdown",
   "metadata": {},
   "source": [
    "# Sentiment Analysis "
   ]
  },
  {
   "cell_type": "code",
   "execution_count": 36,
   "metadata": {},
   "outputs": [
    {
     "name": "stdout",
     "output_type": "stream",
     "text": [
      "Requirement already satisfied: nltk in e:\\deep learning\\repository\\venv\\lib\\site-packages (3.8.1)\n",
      "Requirement already satisfied: click in e:\\deep learning\\repository\\venv\\lib\\site-packages (from nltk) (8.1.6)\n",
      "Requirement already satisfied: joblib in e:\\deep learning\\repository\\venv\\lib\\site-packages (from nltk) (1.3.1)\n",
      "Requirement already satisfied: regex>=2021.8.3 in e:\\deep learning\\repository\\venv\\lib\\site-packages (from nltk) (2023.6.3)\n",
      "Requirement already satisfied: tqdm in e:\\deep learning\\repository\\venv\\lib\\site-packages (from nltk) (4.65.0)\n",
      "Requirement already satisfied: colorama in e:\\deep learning\\repository\\venv\\lib\\site-packages (from click->nltk) (0.4.6)\n",
      "Note: you may need to restart the kernel to use updated packages.\n"
     ]
    }
   ],
   "source": [
    "%pip install nltk"
   ]
  },
  {
   "cell_type": "markdown",
   "metadata": {},
   "source": [
    "### Restart kernel and run all cells"
   ]
  },
  {
   "cell_type": "code",
   "execution_count": 37,
   "metadata": {},
   "outputs": [],
   "source": [
    "from warnings import filterwarnings\n",
    "filterwarnings('ignore')"
   ]
  },
  {
   "cell_type": "markdown",
   "metadata": {},
   "source": [
    "### Read the dataset"
   ]
  },
  {
   "cell_type": "code",
   "execution_count": 38,
   "metadata": {},
   "outputs": [
    {
     "data": {
      "text/html": [
       "<div>\n",
       "<style scoped>\n",
       "    .dataframe tbody tr th:only-of-type {\n",
       "        vertical-align: middle;\n",
       "    }\n",
       "\n",
       "    .dataframe tbody tr th {\n",
       "        vertical-align: top;\n",
       "    }\n",
       "\n",
       "    .dataframe thead th {\n",
       "        text-align: right;\n",
       "    }\n",
       "</style>\n",
       "<table border=\"1\" class=\"dataframe\">\n",
       "  <thead>\n",
       "    <tr style=\"text-align: right;\">\n",
       "      <th></th>\n",
       "      <th>review</th>\n",
       "      <th>sentiment</th>\n",
       "    </tr>\n",
       "  </thead>\n",
       "  <tbody>\n",
       "    <tr>\n",
       "      <th>0</th>\n",
       "      <td>One of the other reviewers has mentioned that ...</td>\n",
       "      <td>positive</td>\n",
       "    </tr>\n",
       "    <tr>\n",
       "      <th>1</th>\n",
       "      <td>A wonderful little production. &lt;br /&gt;&lt;br /&gt;The...</td>\n",
       "      <td>positive</td>\n",
       "    </tr>\n",
       "    <tr>\n",
       "      <th>2</th>\n",
       "      <td>I thought this was a wonderful way to spend ti...</td>\n",
       "      <td>positive</td>\n",
       "    </tr>\n",
       "    <tr>\n",
       "      <th>3</th>\n",
       "      <td>Basically there's a family where a little boy ...</td>\n",
       "      <td>negative</td>\n",
       "    </tr>\n",
       "    <tr>\n",
       "      <th>4</th>\n",
       "      <td>Petter Mattei's \"Love in the Time of Money\" is...</td>\n",
       "      <td>positive</td>\n",
       "    </tr>\n",
       "  </tbody>\n",
       "</table>\n",
       "</div>"
      ],
      "text/plain": [
       "                                              review sentiment\n",
       "0  One of the other reviewers has mentioned that ...  positive\n",
       "1  A wonderful little production. <br /><br />The...  positive\n",
       "2  I thought this was a wonderful way to spend ti...  positive\n",
       "3  Basically there's a family where a little boy ...  negative\n",
       "4  Petter Mattei's \"Love in the Time of Money\" is...  positive"
      ]
     },
     "execution_count": 38,
     "metadata": {},
     "output_type": "execute_result"
    }
   ],
   "source": [
    "import pandas as pd\n",
    "df = pd.read_csv('a1_IMDB_Dataset.csv')\n",
    "df.head()"
   ]
  },
  {
   "cell_type": "code",
   "execution_count": 39,
   "metadata": {},
   "outputs": [
    {
     "name": "stdout",
     "output_type": "stream",
     "text": [
      "<class 'pandas.core.frame.DataFrame'>\n",
      "RangeIndex: 50000 entries, 0 to 49999\n",
      "Data columns (total 2 columns):\n",
      " #   Column     Non-Null Count  Dtype \n",
      "---  ------     --------------  ----- \n",
      " 0   review     50000 non-null  object\n",
      " 1   sentiment  50000 non-null  object\n",
      "dtypes: object(2)\n",
      "memory usage: 781.4+ KB\n"
     ]
    }
   ],
   "source": [
    "df.info()"
   ]
  },
  {
   "cell_type": "code",
   "execution_count": 40,
   "metadata": {},
   "outputs": [
    {
     "data": {
      "text/plain": [
       "review       0\n",
       "sentiment    0\n",
       "dtype: int64"
      ]
     },
     "execution_count": 40,
     "metadata": {},
     "output_type": "execute_result"
    }
   ],
   "source": [
    "df.isna().sum()"
   ]
  },
  {
   "cell_type": "code",
   "execution_count": 41,
   "metadata": {},
   "outputs": [
    {
     "data": {
      "text/plain": [
       "sentiment\n",
       "positive    25000\n",
       "negative    25000\n",
       "Name: count, dtype: int64"
      ]
     },
     "execution_count": 41,
     "metadata": {},
     "output_type": "execute_result"
    }
   ],
   "source": [
    "df['sentiment'].value_counts()"
   ]
  },
  {
   "cell_type": "code",
   "execution_count": 42,
   "metadata": {},
   "outputs": [
    {
     "data": {
      "text/plain": [
       "<Axes: xlabel='sentiment'>"
      ]
     },
     "execution_count": 42,
     "metadata": {},
     "output_type": "execute_result"
    },
    {
     "data": {
      "image/png": "[encoded data removed]",
      "text/plain": [
       "<Figure size 640x480 with 1 Axes>"
      ]
     },
     "metadata": {},
     "output_type": "display_data"
    }
   ],
   "source": [
    "df['sentiment'].value_counts().plot(kind='bar')"
   ]
  },
  {
   "cell_type": "markdown",
   "metadata": {},
   "source": [
    "### Text Preprocessing"
   ]
  },
  {
   "cell_type": "markdown",
   "metadata": {},
   "source": [
    "### Step 1: Remove HTML Tags"
   ]
  },
  {
   "cell_type": "code",
   "execution_count": 43,
   "metadata": {},
   "outputs": [
    {
     "name": "stdout",
     "output_type": "stream",
     "text": [
      "One of the other reviewers has mentioned that after watching just 1 Oz episode you'll be hooked. They are right, as this is exactly what happened with me.<br /><br />The first thing that struck me about Oz was its brutality and unflinching scenes of violence, which set in right from the word GO. Trust me, this is not a show for the faint hearted or timid. This show pulls no punches with regards to drugs, sex or violence. Its is hardcore, in the classic use of the word.<br /><br />It is called OZ as that is the nickname given to the Oswald Maximum Security State Penitentary. It focuses mainly on Emerald City, an experimental section of the prison where all the cells have glass fronts and face inwards, so privacy is not high on the agenda. Em City is home to many..Aryans, Muslims, gangstas, Latinos, Christians, Italians, Irish and more....so scuffles, death stares, dodgy dealings and shady agreements are never far away.<br /><br />I would say the main appeal of the show is due to the fact that it goes where other shows wouldn't dare. Forget pretty pictures painted for mainstream audiences, forget charm, forget romance...OZ doesn't mess around. The first episode I ever saw struck me as so nasty it was surreal, I couldn't say I was ready for it, but as I watched more, I developed a taste for Oz, and got accustomed to the high levels of graphic violence. Not just violence, but injustice (crooked guards who'll be sold out for a nickel, inmates who'll kill on order and get away with it, well mannered, middle class inmates being turned into prison bitches due to their lack of street skills or prison experience) Watching Oz, you may become comfortable with what is uncomfortable viewing....thats if you can get in touch with your darker side.\n"
     ]
    }
   ],
   "source": [
    "print(df['review'][0])"
   ]
  },
  {
   "cell_type": "code",
   "execution_count": 44,
   "metadata": {},
   "outputs": [],
   "source": [
    "import re\n",
    "tag_re = re.compile(r'<[^>]+>')\n",
    "\n",
    "def remove_tags(text):\n",
    "    return tag_re.sub('',text)"
   ]
  },
  {
   "cell_type": "code",
   "execution_count": 45,
   "metadata": {},
   "outputs": [
    {
     "data": {
      "text/plain": [
       "\"One of the other reviewers has mentioned that after watching just 1 Oz episode you'll be hooked. They are right, as this is exactly what happened with me.The first thing that struck me about Oz was its brutality and unflinching scenes of violence, which set in right from the word GO. Trust me, this is not a show for the faint hearted or timid. This show pulls no punches with regards to drugs, sex or violence. Its is hardcore, in the classic use of the word.It is called OZ as that is the nickname given to the Oswald Maximum Security State Penitentary. It focuses mainly on Emerald City, an experimental section of the prison where all the cells have glass fronts and face inwards, so privacy is not high on the agenda. Em City is home to many..Aryans, Muslims, gangstas, Latinos, Christians, Italians, Irish and more....so scuffles, death stares, dodgy dealings and shady agreements are never far away.I would say the main appeal of the show is due to the fact that it goes where other shows wouldn't dare. Forget pretty pictures painted for mainstream audiences, forget charm, forget romance...OZ doesn't mess around. The first episode I ever saw struck me as so nasty it was surreal, I couldn't say I was ready for it, but as I watched more, I developed a taste for Oz, and got accustomed to the high levels of graphic violence. Not just violence, but injustice (crooked guards who'll be sold out for a nickel, inmates who'll kill on order and get away with it, well mannered, middle class inmates being turned into prison bitches due to their lack of street skills or prison experience) Watching Oz, you may become comfortable with what is uncomfortable viewing....thats if you can get in touch with your darker side.\""
      ]
     },
     "execution_count": 45,
     "metadata": {},
     "output_type": "execute_result"
    }
   ],
   "source": [
    "remove_tags(df['review'][0])"
   ]
  },
  {
   "cell_type": "markdown",
   "metadata": {},
   "source": [
    "### Download stopwords"
   ]
  },
  {
   "cell_type": "code",
   "execution_count": 46,
   "metadata": {},
   "outputs": [
    {
     "name": "stderr",
     "output_type": "stream",
     "text": [
      "[nltk_data] Downloading package stopwords to C:\\Users\\Utkarsh\n",
      "[nltk_data]     Gaikwad\\AppData\\Roaming\\nltk_data...\n",
      "[nltk_data]   Package stopwords is already up-to-date!\n"
     ]
    },
    {
     "data": {
      "text/plain": [
       "True"
      ]
     },
     "execution_count": 46,
     "metadata": {},
     "output_type": "execute_result"
    }
   ],
   "source": [
    "import nltk\n",
    "nltk.download('stopwords')"
   ]
  },
  {
   "cell_type": "code",
   "execution_count": 47,
   "metadata": {},
   "outputs": [],
   "source": [
    "from nltk.corpus import stopwords"
   ]
  },
  {
   "cell_type": "code",
   "execution_count": 48,
   "metadata": {},
   "outputs": [
    {
     "data": {
      "text/plain": [
       "'etlhive'"
      ]
     },
     "execution_count": 48,
     "metadata": {},
     "output_type": "execute_result"
    }
   ],
   "source": [
    "'ETLHive'.lower()"
   ]
  },
  {
   "cell_type": "code",
   "execution_count": 49,
   "metadata": {},
   "outputs": [
    {
     "data": {
      "text/plain": [
       "['i',\n",
       " 'me',\n",
       " 'my',\n",
       " 'myself',\n",
       " 'we',\n",
       " 'our',\n",
       " 'ours',\n",
       " 'ourselves',\n",
       " 'you',\n",
       " \"you're\",\n",
       " \"you've\",\n",
       " \"you'll\",\n",
       " \"you'd\",\n",
       " 'your',\n",
       " 'yours',\n",
       " 'yourself',\n",
       " 'yourselves',\n",
       " 'he',\n",
       " 'him',\n",
       " 'his',\n",
       " 'himself',\n",
       " 'she',\n",
       " \"she's\",\n",
       " 'her',\n",
       " 'hers',\n",
       " 'herself',\n",
       " 'it',\n",
       " \"it's\",\n",
       " 'its',\n",
       " 'itself',\n",
       " 'they',\n",
       " 'them',\n",
       " 'their',\n",
       " 'theirs',\n",
       " 'themselves',\n",
       " 'what',\n",
       " 'which',\n",
       " 'who',\n",
       " 'whom',\n",
       " 'this',\n",
       " 'that',\n",
       " \"that'll\",\n",
       " 'these',\n",
       " 'those',\n",
       " 'am',\n",
       " 'is',\n",
       " 'are',\n",
       " 'was',\n",
       " 'were',\n",
       " 'be',\n",
       " 'been',\n",
       " 'being',\n",
       " 'have',\n",
       " 'has',\n",
       " 'had',\n",
       " 'having',\n",
       " 'do',\n",
       " 'does',\n",
       " 'did',\n",
       " 'doing',\n",
       " 'a',\n",
       " 'an',\n",
       " 'the',\n",
       " 'and',\n",
       " 'but',\n",
       " 'if',\n",
       " 'or',\n",
       " 'because',\n",
       " 'as',\n",
       " 'until',\n",
       " 'while',\n",
       " 'of',\n",
       " 'at',\n",
       " 'by',\n",
       " 'for',\n",
       " 'with',\n",
       " 'about',\n",
       " 'against',\n",
       " 'between',\n",
       " 'into',\n",
       " 'through',\n",
       " 'during',\n",
       " 'before',\n",
       " 'after',\n",
       " 'above',\n",
       " 'below',\n",
       " 'to',\n",
       " 'from',\n",
       " 'up',\n",
       " 'down',\n",
       " 'in',\n",
       " 'out',\n",
       " 'on',\n",
       " 'off',\n",
       " 'over',\n",
       " 'under',\n",
       " 'again',\n",
       " 'further',\n",
       " 'then',\n",
       " 'once',\n",
       " 'here',\n",
       " 'there',\n",
       " 'when',\n",
       " 'where',\n",
       " 'why',\n",
       " 'how',\n",
       " 'all',\n",
       " 'any',\n",
       " 'both',\n",
       " 'each',\n",
       " 'few',\n",
       " 'more',\n",
       " 'most',\n",
       " 'other',\n",
       " 'some',\n",
       " 'such',\n",
       " 'no',\n",
       " 'nor',\n",
       " 'not',\n",
       " 'only',\n",
       " 'own',\n",
       " 'same',\n",
       " 'so',\n",
       " 'than',\n",
       " 'too',\n",
       " 'very',\n",
       " 's',\n",
       " 't',\n",
       " 'can',\n",
       " 'will',\n",
       " 'just',\n",
       " 'don',\n",
       " \"don't\",\n",
       " 'should',\n",
       " \"should've\",\n",
       " 'now',\n",
       " 'd',\n",
       " 'll',\n",
       " 'm',\n",
       " 'o',\n",
       " 're',\n",
       " 've',\n",
       " 'y',\n",
       " 'ain',\n",
       " 'aren',\n",
       " \"aren't\",\n",
       " 'couldn',\n",
       " \"couldn't\",\n",
       " 'didn',\n",
       " \"didn't\",\n",
       " 'doesn',\n",
       " \"doesn't\",\n",
       " 'hadn',\n",
       " \"hadn't\",\n",
       " 'hasn',\n",
       " \"hasn't\",\n",
       " 'haven',\n",
       " \"haven't\",\n",
       " 'isn',\n",
       " \"isn't\",\n",
       " 'ma',\n",
       " 'mightn',\n",
       " \"mightn't\",\n",
       " 'mustn',\n",
       " \"mustn't\",\n",
       " 'needn',\n",
       " \"needn't\",\n",
       " 'shan',\n",
       " \"shan't\",\n",
       " 'shouldn',\n",
       " \"shouldn't\",\n",
       " 'wasn',\n",
       " \"wasn't\",\n",
       " 'weren',\n",
       " \"weren't\",\n",
       " 'won',\n",
       " \"won't\",\n",
       " 'wouldn',\n",
       " \"wouldn't\"]"
      ]
     },
     "execution_count": 49,
     "metadata": {},
     "output_type": "execute_result"
    }
   ],
   "source": [
    "stopwords.words('english')"
   ]
  },
  {
   "cell_type": "code",
   "execution_count": 50,
   "metadata": {},
   "outputs": [],
   "source": [
    "def preprocess_text(sen):\n",
    "\n",
    "    # Step 1: Convert sentence to lower case:\n",
    "    sentence = sen.lower()\n",
    "\n",
    "    # Step 2: Remove Html tags\n",
    "    sentence = remove_tags(sentence)    \n",
    "\n",
    "    # Step 3: Remove all puntuations and symbols\n",
    "    sentence = re.sub('[^a-z ]', ' ', sentence)\n",
    "\n",
    "    # Step 4: Remove single charactersa after removal of punctuations\n",
    "    sentence = re.sub(r\"\\s+[a-z]\\s+\", ' ', sentence)\n",
    "\n",
    "    # Step 5: Remove extra space\n",
    "    sentence = re.sub(r'\\s+',' ',sentence)\n",
    "\n",
    "    # Step 6: Remove stopwords\n",
    "    pattern = re.compile(r'\\b(' + r'|'.join(stopwords.words('english')) + r')\\b\\s*')\n",
    "    sentence = pattern.sub('', sentence)\n",
    "\n",
    "    return sentence   "
   ]
  },
  {
   "cell_type": "markdown",
   "metadata": {},
   "source": [
    "### Get preprocessed text in X "
   ]
  },
  {
   "cell_type": "code",
   "execution_count": 51,
   "metadata": {},
   "outputs": [],
   "source": [
    "X = []\n",
    "for i in df['review']:\n",
    "    X.append(preprocess_text(i))"
   ]
  },
  {
   "cell_type": "code",
   "execution_count": 52,
   "metadata": {},
   "outputs": [
    {
     "data": {
      "text/plain": [
       "'one reviewers mentioned watching oz episode hooked right exactly happened first thing struck oz brutality unflinching scenes violence set right word go trust show faint hearted timid show pulls punches regards drugs sex violence hardcore classic use word called oz nickname given oswald maximum security state penitentary focuses mainly emerald city experimental section prison cells glass fronts face inwards privacy high agenda em city home many aryans muslims gangstas latinos christians italians irish scuffles death stares dodgy dealings shady agreements never far away would say main appeal show due fact goes shows dare forget pretty pictures painted mainstream audiences forget charm forget romance oz mess around first episode ever saw struck nasty surreal say ready watched developed taste oz got accustomed high levels graphic violence violence injustice crooked guards sold nickel inmates kill order get away well mannered middle class inmates turned prison bitches due lack street skills prison experience watching oz may become comfortable uncomfortable viewing thats get touch darker side '"
      ]
     },
     "execution_count": 52,
     "metadata": {},
     "output_type": "execute_result"
    }
   ],
   "source": [
    "X[0]"
   ]
  },
  {
   "cell_type": "markdown",
   "metadata": {},
   "source": [
    "### Preprocessing of sentiments (Y)"
   ]
  },
  {
   "cell_type": "code",
   "execution_count": 53,
   "metadata": {},
   "outputs": [
    {
     "data": {
      "text/plain": [
       "array(['positive', 'negative'], dtype=object)"
      ]
     },
     "execution_count": 53,
     "metadata": {},
     "output_type": "execute_result"
    }
   ],
   "source": [
    "df['sentiment'].unique()"
   ]
  },
  {
   "cell_type": "code",
   "execution_count": 54,
   "metadata": {},
   "outputs": [
    {
     "data": {
      "text/plain": [
       "array([1, 1, 1, ..., 0, 0, 0], dtype=int64)"
      ]
     },
     "execution_count": 54,
     "metadata": {},
     "output_type": "execute_result"
    }
   ],
   "source": [
    "Y = df['sentiment'].replace({'positive':1, 'negative':0}).values\n",
    "Y"
   ]
  },
  {
   "cell_type": "markdown",
   "metadata": {},
   "source": [
    "### Perform train test split"
   ]
  },
  {
   "cell_type": "code",
   "execution_count": 55,
   "metadata": {},
   "outputs": [],
   "source": [
    "from sklearn.model_selection import train_test_split\n",
    "xtrain, xtest, ytrain, ytest = train_test_split(X,Y, test_size=0.2, random_state=42)"
   ]
  },
  {
   "cell_type": "code",
   "execution_count": 56,
   "metadata": {},
   "outputs": [
    {
     "data": {
      "text/plain": [
       "'kept asking many fights screaming matches swearing general mayhem permeate minutes comparisons also stand think one dimensional characters little depth virtually impossible care happens badly written cyphers director hang multicultural beliefs topic done much better dramas tv cinema must confess really one spotting bad performances film must said nichola burley heroine slutty best friend wasim zakir nasty bullying brother absolutely terrible know acting school graduated apply full refund post haste samina awan lead role manages impress cast called british talent probably never hear least hope next time hire different scout another intriguing thought hideously fashionable soundtrack featuring likes snow patrol ian brown keane bit music fan familiar artists output recognise tracks movie apart omnipresent run sides anyone get many many musical montages telegraph suppose feel accompanied startlingly original images couples kissing swollen lake canoodling doorways problem none songs convey mood efficiently realise director lacks ability carry emotional journey audience storytelling dialogue alone ending presumably meant desserts everybody gets comeuppance least one big shock store remained resolutely unmoved script given one root enough tackle hot button issue actually give us plot already done death individuals window dressing stands film noble failure promising lead actress mildly diverting punch ups save bin must try harder '"
      ]
     },
     "execution_count": 56,
     "metadata": {},
     "output_type": "execute_result"
    }
   ],
   "source": [
    "xtrain[0]"
   ]
  },
  {
   "cell_type": "code",
   "execution_count": 57,
   "metadata": {},
   "outputs": [
    {
     "data": {
      "text/plain": [
       "40000"
      ]
     },
     "execution_count": 57,
     "metadata": {},
     "output_type": "execute_result"
    }
   ],
   "source": [
    "len(xtrain)"
   ]
  },
  {
   "cell_type": "code",
   "execution_count": 58,
   "metadata": {},
   "outputs": [
    {
     "data": {
      "text/plain": [
       "10000"
      ]
     },
     "execution_count": 58,
     "metadata": {},
     "output_type": "execute_result"
    }
   ],
   "source": [
    "len(xtest)"
   ]
  },
  {
   "cell_type": "markdown",
   "metadata": {},
   "source": [
    "### Create Embedding matrix"
   ]
  },
  {
   "attachments": {
    "image.png": {
     "image/png": "[encoded data removed]"
    }
   },
   "cell_type": "markdown",
   "metadata": {},
   "source": [
    "![image.png](attachment:image.png)"
   ]
  },
  {
   "cell_type": "code",
   "execution_count": 59,
   "metadata": {},
   "outputs": [],
   "source": [
    "from keras.preprocessing.text import Tokenizer\n",
    "word_tokenizer = Tokenizer()\n",
    "word_tokenizer.fit_on_texts(xtrain)\n",
    "\n",
    "xtrain = word_tokenizer.texts_to_sequences(xtrain)\n",
    "xtest = word_tokenizer.texts_to_sequences(xtest)"
   ]
  },
  {
   "cell_type": "code",
   "execution_count": 60,
   "metadata": {},
   "outputs": [
    {
     "data": {
      "text/plain": [
       "[656,\n",
       " 1983,\n",
       " 32,\n",
       " 1723,\n",
       " 1851,\n",
       " 4139,\n",
       " 6264,\n",
       " 652,\n",
       " 4644,\n",
       " 21627,\n",
       " 120,\n",
       " 5949,\n",
       " 18,\n",
       " 635,\n",
       " 25,\n",
       " 3,\n",
       " 1830,\n",
       " 26,\n",
       " 41,\n",
       " 968,\n",
       " 2185,\n",
       " 1030,\n",
       " 330,\n",
       " 417,\n",
       " 762,\n",
       " 281,\n",
       " 28005,\n",
       " 59,\n",
       " 2795,\n",
       " 35554,\n",
       " 4176,\n",
       " 2757,\n",
       " 114,\n",
       " 13,\n",
       " 44,\n",
       " 2960,\n",
       " 126,\n",
       " 309,\n",
       " 96,\n",
       " 4746,\n",
       " 10,\n",
       " 3,\n",
       " 14235,\n",
       " 14,\n",
       " 244,\n",
       " 2,\n",
       " 96,\n",
       " 190,\n",
       " 56765,\n",
       " 39669,\n",
       " 1683,\n",
       " 9850,\n",
       " 38,\n",
       " 295,\n",
       " 45768,\n",
       " 45769,\n",
       " 1515,\n",
       " 11001,\n",
       " 439,\n",
       " 301,\n",
       " 259,\n",
       " 39,\n",
       " 37,\n",
       " 247,\n",
       " 11608,\n",
       " 6601,\n",
       " 243,\n",
       " 12033,\n",
       " 1012,\n",
       " 23694,\n",
       " 56766,\n",
       " 56767,\n",
       " 339,\n",
       " 110,\n",
       " 860,\n",
       " 3982,\n",
       " 75,\n",
       " 315,\n",
       " 555,\n",
       " 483,\n",
       " 127,\n",
       " 34,\n",
       " 700,\n",
       " 113,\n",
       " 305,\n",
       " 246,\n",
       " 6,\n",
       " 3555,\n",
       " 164,\n",
       " 10000,\n",
       " 62,\n",
       " 1536,\n",
       " 87,\n",
       " 11392,\n",
       " 11197,\n",
       " 585,\n",
       " 1767,\n",
       " 1044,\n",
       " 2698,\n",
       " 11198,\n",
       " 3531,\n",
       " 1516,\n",
       " 32471,\n",
       " 121,\n",
       " 100,\n",
       " 207,\n",
       " 919,\n",
       " 2651,\n",
       " 8472,\n",
       " 8963,\n",
       " 3832,\n",
       " 1,\n",
       " 843,\n",
       " 16494,\n",
       " 364,\n",
       " 2429,\n",
       " 136,\n",
       " 15,\n",
       " 32,\n",
       " 32,\n",
       " 553,\n",
       " 9712,\n",
       " 12506,\n",
       " 1197,\n",
       " 119,\n",
       " 4177,\n",
       " 17434,\n",
       " 102,\n",
       " 990,\n",
       " 4199,\n",
       " 5069,\n",
       " 24901,\n",
       " 2138,\n",
       " 45770,\n",
       " 29970,\n",
       " 320,\n",
       " 486,\n",
       " 577,\n",
       " 2775,\n",
       " 1114,\n",
       " 16071,\n",
       " 3430,\n",
       " 59,\n",
       " 1343,\n",
       " 1083,\n",
       " 1449,\n",
       " 732,\n",
       " 1091,\n",
       " 185,\n",
       " 2714,\n",
       " 288,\n",
       " 489,\n",
       " 154,\n",
       " 3373,\n",
       " 845,\n",
       " 13300,\n",
       " 1103,\n",
       " 111,\n",
       " 17435,\n",
       " 113,\n",
       " 3,\n",
       " 89,\n",
       " 1296,\n",
       " 935,\n",
       " 4726,\n",
       " 20778,\n",
       " 28006,\n",
       " 117,\n",
       " 238,\n",
       " 3,\n",
       " 3406,\n",
       " 92,\n",
       " 8003,\n",
       " 729,\n",
       " 3289,\n",
       " 1584,\n",
       " 63,\n",
       " 93,\n",
       " 76,\n",
       " 33,\n",
       " 340,\n",
       " 114,\n",
       " 208,\n",
       " 3290,\n",
       " 1707,\n",
       " 4526,\n",
       " 1231,\n",
       " 2,\n",
       " 3334,\n",
       " 1852,\n",
       " 2242,\n",
       " 339,\n",
       " 396,\n",
       " 2386,\n",
       " 17436,\n",
       " 2559,\n",
       " 1608,\n",
       " 449,\n",
       " 3609,\n",
       " 96,\n",
       " 232,\n",
       " 3671]"
      ]
     },
     "execution_count": 60,
     "metadata": {},
     "output_type": "execute_result"
    }
   ],
   "source": [
    "xtrain[0]"
   ]
  },
  {
   "cell_type": "code",
   "execution_count": 61,
   "metadata": {},
   "outputs": [
    {
     "data": {
      "text/plain": [
       "{'movie': 1,\n",
       " 'film': 2,\n",
       " 'one': 3,\n",
       " 'like': 4,\n",
       " 'good': 5,\n",
       " 'time': 6,\n",
       " 'even': 7,\n",
       " 'would': 8,\n",
       " 'story': 9,\n",
       " 'really': 10,\n",
       " 'see': 11,\n",
       " 'well': 12,\n",
       " 'much': 13,\n",
       " 'bad': 14,\n",
       " 'get': 15,\n",
       " 'people': 16,\n",
       " 'great': 17,\n",
       " 'also': 18,\n",
       " 'first': 19,\n",
       " 'made': 20,\n",
       " 'make': 21,\n",
       " 'could': 22,\n",
       " 'way': 23,\n",
       " 'movies': 24,\n",
       " 'think': 25,\n",
       " 'characters': 26,\n",
       " 'watch': 27,\n",
       " 'character': 28,\n",
       " 'films': 29,\n",
       " 'seen': 30,\n",
       " 'two': 31,\n",
       " 'many': 32,\n",
       " 'plot': 33,\n",
       " 'never': 34,\n",
       " 'love': 35,\n",
       " 'life': 36,\n",
       " 'acting': 37,\n",
       " 'best': 38,\n",
       " 'know': 39,\n",
       " 'show': 40,\n",
       " 'little': 41,\n",
       " 'ever': 42,\n",
       " 'man': 43,\n",
       " 'better': 44,\n",
       " 'end': 45,\n",
       " 'scene': 46,\n",
       " 'still': 47,\n",
       " 'say': 48,\n",
       " 'scenes': 49,\n",
       " 'something': 50,\n",
       " 'go': 51,\n",
       " 'back': 52,\n",
       " 'real': 53,\n",
       " 'watching': 54,\n",
       " 'thing': 55,\n",
       " 'actors': 56,\n",
       " 'though': 57,\n",
       " 'years': 58,\n",
       " 'director': 59,\n",
       " 'funny': 60,\n",
       " 'old': 61,\n",
       " 'another': 62,\n",
       " 'actually': 63,\n",
       " 'work': 64,\n",
       " 'makes': 65,\n",
       " 'nothing': 66,\n",
       " 'look': 67,\n",
       " 'going': 68,\n",
       " 'find': 69,\n",
       " 'lot': 70,\n",
       " 'new': 71,\n",
       " 'every': 72,\n",
       " 'part': 73,\n",
       " 'world': 74,\n",
       " 'cast': 75,\n",
       " 'us': 76,\n",
       " 'things': 77,\n",
       " 'quite': 78,\n",
       " 'want': 79,\n",
       " 'horror': 80,\n",
       " 'pretty': 81,\n",
       " 'around': 82,\n",
       " 'seems': 83,\n",
       " 'young': 84,\n",
       " 'take': 85,\n",
       " 'got': 86,\n",
       " 'thought': 87,\n",
       " 'however': 88,\n",
       " 'big': 89,\n",
       " 'long': 90,\n",
       " 'fact': 91,\n",
       " 'enough': 92,\n",
       " 'give': 93,\n",
       " 'may': 94,\n",
       " 'series': 95,\n",
       " 'must': 96,\n",
       " 'action': 97,\n",
       " 'right': 98,\n",
       " 'without': 99,\n",
       " 'music': 100,\n",
       " 'comedy': 101,\n",
       " 'original': 102,\n",
       " 'guy': 103,\n",
       " 'times': 104,\n",
       " 'saw': 105,\n",
       " 'always': 106,\n",
       " 'come': 107,\n",
       " 'almost': 108,\n",
       " 'point': 109,\n",
       " 'role': 110,\n",
       " 'gets': 111,\n",
       " 'whole': 112,\n",
       " 'least': 113,\n",
       " 'done': 114,\n",
       " 'interesting': 115,\n",
       " 'far': 116,\n",
       " 'script': 117,\n",
       " 'family': 118,\n",
       " 'feel': 119,\n",
       " 'minutes': 120,\n",
       " 'bit': 121,\n",
       " 'making': 122,\n",
       " 'anything': 123,\n",
       " 'might': 124,\n",
       " 'since': 125,\n",
       " 'tv': 126,\n",
       " 'probably': 127,\n",
       " 'last': 128,\n",
       " 'performance': 129,\n",
       " 'away': 130,\n",
       " 'kind': 131,\n",
       " 'girl': 132,\n",
       " 'worst': 133,\n",
       " 'fun': 134,\n",
       " 'yet': 135,\n",
       " 'anyone': 136,\n",
       " 'hard': 137,\n",
       " 'woman': 138,\n",
       " 'sure': 139,\n",
       " 'rather': 140,\n",
       " 'day': 141,\n",
       " 'found': 142,\n",
       " 'played': 143,\n",
       " 'although': 144,\n",
       " 'looking': 145,\n",
       " 'believe': 146,\n",
       " 'screen': 147,\n",
       " 'dvd': 148,\n",
       " 'especially': 149,\n",
       " 'trying': 150,\n",
       " 'course': 151,\n",
       " 'everything': 152,\n",
       " 'set': 153,\n",
       " 'ending': 154,\n",
       " 'put': 155,\n",
       " 'goes': 156,\n",
       " 'shows': 157,\n",
       " 'maybe': 158,\n",
       " 'place': 159,\n",
       " 'comes': 160,\n",
       " 'book': 161,\n",
       " 'worth': 162,\n",
       " 'three': 163,\n",
       " 'different': 164,\n",
       " 'main': 165,\n",
       " 'let': 166,\n",
       " 'effects': 167,\n",
       " 'actor': 168,\n",
       " 'sense': 169,\n",
       " 'someone': 170,\n",
       " 'watched': 171,\n",
       " 'looks': 172,\n",
       " 'everyone': 173,\n",
       " 'reason': 174,\n",
       " 'american': 175,\n",
       " 'year': 176,\n",
       " 'money': 177,\n",
       " 'true': 178,\n",
       " 'play': 179,\n",
       " 'together': 180,\n",
       " 'job': 181,\n",
       " 'war': 182,\n",
       " 'high': 183,\n",
       " 'special': 184,\n",
       " 'audience': 185,\n",
       " 'instead': 186,\n",
       " 'later': 187,\n",
       " 'half': 188,\n",
       " 'takes': 189,\n",
       " 'said': 190,\n",
       " 'plays': 191,\n",
       " 'left': 192,\n",
       " 'night': 193,\n",
       " 'john': 194,\n",
       " 'seem': 195,\n",
       " 'seeing': 196,\n",
       " 'beautiful': 197,\n",
       " 'house': 198,\n",
       " 'excellent': 199,\n",
       " 'shot': 200,\n",
       " 'black': 201,\n",
       " 'wife': 202,\n",
       " 'version': 203,\n",
       " 'star': 204,\n",
       " 'mind': 205,\n",
       " 'idea': 206,\n",
       " 'fan': 207,\n",
       " 'death': 208,\n",
       " 'else': 209,\n",
       " 'father': 210,\n",
       " 'budget': 211,\n",
       " 'short': 212,\n",
       " 'nice': 213,\n",
       " 'used': 214,\n",
       " 'second': 215,\n",
       " 'poor': 216,\n",
       " 'simply': 217,\n",
       " 'men': 218,\n",
       " 'completely': 219,\n",
       " 'read': 220,\n",
       " 'top': 221,\n",
       " 'along': 222,\n",
       " 'home': 223,\n",
       " 'dead': 224,\n",
       " 'either': 225,\n",
       " 'less': 226,\n",
       " 'boring': 227,\n",
       " 'help': 228,\n",
       " 'friends': 229,\n",
       " 'kids': 230,\n",
       " 'line': 231,\n",
       " 'try': 232,\n",
       " 'hollywood': 233,\n",
       " 'production': 234,\n",
       " 'camera': 235,\n",
       " 'enjoy': 236,\n",
       " 'need': 237,\n",
       " 'given': 238,\n",
       " 'classic': 239,\n",
       " 'low': 240,\n",
       " 'wrong': 241,\n",
       " 'use': 242,\n",
       " 'full': 243,\n",
       " 'performances': 244,\n",
       " 'rest': 245,\n",
       " 'next': 246,\n",
       " 'school': 247,\n",
       " 'stupid': 248,\n",
       " 'truly': 249,\n",
       " 'women': 250,\n",
       " 'couple': 251,\n",
       " 'video': 252,\n",
       " 'recommend': 253,\n",
       " 'tell': 254,\n",
       " 'awful': 255,\n",
       " 'sex': 256,\n",
       " 'start': 257,\n",
       " 'mean': 258,\n",
       " 'terrible': 259,\n",
       " 'came': 260,\n",
       " 'name': 261,\n",
       " 'perhaps': 262,\n",
       " 'mother': 263,\n",
       " 'understand': 264,\n",
       " 'moments': 265,\n",
       " 'person': 266,\n",
       " 'wonderful': 267,\n",
       " 'episode': 268,\n",
       " 'remember': 269,\n",
       " 'getting': 270,\n",
       " 'human': 271,\n",
       " 'keep': 272,\n",
       " 'face': 273,\n",
       " 'style': 274,\n",
       " 'small': 275,\n",
       " 'others': 276,\n",
       " 'early': 277,\n",
       " 'stars': 278,\n",
       " 'head': 279,\n",
       " 'boy': 280,\n",
       " 'written': 281,\n",
       " 'playing': 282,\n",
       " 'definitely': 283,\n",
       " 'perfect': 284,\n",
       " 'often': 285,\n",
       " 'gives': 286,\n",
       " 'children': 287,\n",
       " 'dialogue': 288,\n",
       " 'lines': 289,\n",
       " 'case': 290,\n",
       " 'finally': 291,\n",
       " 'piece': 292,\n",
       " 'oh': 293,\n",
       " 'title': 294,\n",
       " 'friend': 295,\n",
       " 'live': 296,\n",
       " 'went': 297,\n",
       " 'certainly': 298,\n",
       " 'laugh': 299,\n",
       " 'liked': 300,\n",
       " 'absolutely': 301,\n",
       " 'sort': 302,\n",
       " 'yes': 303,\n",
       " 'loved': 304,\n",
       " 'hope': 305,\n",
       " 'lost': 306,\n",
       " 'worse': 307,\n",
       " 'entertaining': 308,\n",
       " 'cinema': 309,\n",
       " 'become': 310,\n",
       " 'based': 311,\n",
       " 'several': 312,\n",
       " 'sound': 313,\n",
       " 'picture': 314,\n",
       " 'called': 315,\n",
       " 'supposed': 316,\n",
       " 'entire': 317,\n",
       " 'mr': 318,\n",
       " 'guys': 319,\n",
       " 'problem': 320,\n",
       " 'felt': 321,\n",
       " 'overall': 322,\n",
       " 'drama': 323,\n",
       " 'totally': 324,\n",
       " 'waste': 325,\n",
       " 'white': 326,\n",
       " 'game': 327,\n",
       " 'beginning': 328,\n",
       " 'dark': 329,\n",
       " 'care': 330,\n",
       " 'direction': 331,\n",
       " 'humor': 332,\n",
       " 'wanted': 333,\n",
       " 'seemed': 334,\n",
       " 'fans': 335,\n",
       " 'turn': 336,\n",
       " 'lives': 337,\n",
       " 'evil': 338,\n",
       " 'lead': 339,\n",
       " 'already': 340,\n",
       " 'despite': 341,\n",
       " 'example': 342,\n",
       " 'final': 343,\n",
       " 'throughout': 344,\n",
       " 'quality': 345,\n",
       " 'killer': 346,\n",
       " 'becomes': 347,\n",
       " 'son': 348,\n",
       " 'guess': 349,\n",
       " 'days': 350,\n",
       " 'unfortunately': 351,\n",
       " 'history': 352,\n",
       " 'able': 353,\n",
       " 'heart': 354,\n",
       " 'fine': 355,\n",
       " 'writing': 356,\n",
       " 'side': 357,\n",
       " 'michael': 358,\n",
       " 'flick': 359,\n",
       " 'wants': 360,\n",
       " 'horrible': 361,\n",
       " 'kill': 362,\n",
       " 'art': 363,\n",
       " 'run': 364,\n",
       " 'matter': 365,\n",
       " 'today': 366,\n",
       " 'amazing': 367,\n",
       " 'act': 368,\n",
       " 'close': 369,\n",
       " 'etc': 370,\n",
       " 'enjoyed': 371,\n",
       " 'town': 372,\n",
       " 'works': 373,\n",
       " 'child': 374,\n",
       " 'viewer': 375,\n",
       " 'behind': 376,\n",
       " 'tries': 377,\n",
       " 'kid': 378,\n",
       " 'god': 379,\n",
       " 'past': 380,\n",
       " 'eyes': 381,\n",
       " 'genre': 382,\n",
       " 'brilliant': 383,\n",
       " 'gave': 384,\n",
       " 'girls': 385,\n",
       " 'directed': 386,\n",
       " 'expect': 387,\n",
       " 'turns': 388,\n",
       " 'hand': 389,\n",
       " 'car': 390,\n",
       " 'city': 391,\n",
       " 'favorite': 392,\n",
       " 'parts': 393,\n",
       " 'late': 394,\n",
       " 'hour': 395,\n",
       " 'actress': 396,\n",
       " 'killed': 397,\n",
       " 'stuff': 398,\n",
       " 'soon': 399,\n",
       " 'obviously': 400,\n",
       " 'group': 401,\n",
       " 'decent': 402,\n",
       " 'says': 403,\n",
       " 'thinking': 404,\n",
       " 'highly': 405,\n",
       " 'stop': 406,\n",
       " 'daughter': 407,\n",
       " 'starts': 408,\n",
       " 'sometimes': 409,\n",
       " 'heard': 410,\n",
       " 'anyway': 411,\n",
       " 'type': 412,\n",
       " 'self': 413,\n",
       " 'blood': 414,\n",
       " 'known': 415,\n",
       " 'writer': 416,\n",
       " 'happens': 417,\n",
       " 'except': 418,\n",
       " 'voice': 419,\n",
       " 'took': 420,\n",
       " 'fight': 421,\n",
       " 'leave': 422,\n",
       " 'feeling': 423,\n",
       " 'experience': 424,\n",
       " 'slow': 425,\n",
       " 'told': 426,\n",
       " 'coming': 427,\n",
       " 'score': 428,\n",
       " 'strong': 429,\n",
       " 'ok': 430,\n",
       " 'including': 431,\n",
       " 'happen': 432,\n",
       " 'stories': 433,\n",
       " 'moment': 434,\n",
       " 'extremely': 435,\n",
       " 'age': 436,\n",
       " 'police': 437,\n",
       " 'violence': 438,\n",
       " 'brother': 439,\n",
       " 'wonder': 440,\n",
       " 'lack': 441,\n",
       " 'involved': 442,\n",
       " 'cannot': 443,\n",
       " 'crap': 444,\n",
       " 'hell': 445,\n",
       " 'obvious': 446,\n",
       " 'living': 447,\n",
       " 'hero': 448,\n",
       " 'save': 449,\n",
       " 'particularly': 450,\n",
       " 'looked': 451,\n",
       " 'cut': 452,\n",
       " 'song': 453,\n",
       " 'murder': 454,\n",
       " 'cool': 455,\n",
       " 'chance': 456,\n",
       " 'please': 457,\n",
       " 'shown': 458,\n",
       " 'complete': 459,\n",
       " 'gore': 460,\n",
       " 'attempt': 461,\n",
       " 'happened': 462,\n",
       " 'simple': 463,\n",
       " 'ago': 464,\n",
       " 'roles': 465,\n",
       " 'david': 466,\n",
       " 'hit': 467,\n",
       " 'hilarious': 468,\n",
       " 'husband': 469,\n",
       " 'james': 470,\n",
       " 'english': 471,\n",
       " 'taken': 472,\n",
       " 'released': 473,\n",
       " 'serious': 474,\n",
       " 'interest': 475,\n",
       " 'robert': 476,\n",
       " 'opening': 477,\n",
       " 'hours': 478,\n",
       " 'jokes': 479,\n",
       " 'possible': 480,\n",
       " 'number': 481,\n",
       " 'seriously': 482,\n",
       " 'talent': 483,\n",
       " 'across': 484,\n",
       " 'usually': 485,\n",
       " 'none': 486,\n",
       " 'cinematography': 487,\n",
       " 'order': 488,\n",
       " 'alone': 489,\n",
       " 'view': 490,\n",
       " 'reality': 491,\n",
       " 'career': 492,\n",
       " 'saying': 493,\n",
       " 'documentary': 494,\n",
       " 'light': 495,\n",
       " 'sad': 496,\n",
       " 'exactly': 497,\n",
       " 'huge': 498,\n",
       " 'running': 499,\n",
       " 'relationship': 500,\n",
       " 'annoying': 501,\n",
       " 'scary': 502,\n",
       " 'whose': 503,\n",
       " 'wish': 504,\n",
       " 'started': 505,\n",
       " 'taking': 506,\n",
       " 'ridiculous': 507,\n",
       " 'country': 508,\n",
       " 'shots': 509,\n",
       " 'body': 510,\n",
       " 'power': 511,\n",
       " 'middle': 512,\n",
       " 'female': 513,\n",
       " 'ends': 514,\n",
       " 'important': 515,\n",
       " 'word': 516,\n",
       " 'four': 517,\n",
       " 'turned': 518,\n",
       " 'change': 519,\n",
       " 'major': 520,\n",
       " 'rating': 521,\n",
       " 'call': 522,\n",
       " 'jack': 523,\n",
       " 'beyond': 524,\n",
       " 'opinion': 525,\n",
       " 'level': 526,\n",
       " 'ones': 527,\n",
       " 'somewhat': 528,\n",
       " 'silly': 529,\n",
       " 'talking': 530,\n",
       " 'happy': 531,\n",
       " 'room': 532,\n",
       " 'strange': 533,\n",
       " 'novel': 534,\n",
       " 'upon': 535,\n",
       " 'words': 536,\n",
       " 'usual': 537,\n",
       " 'knew': 538,\n",
       " 'mostly': 539,\n",
       " 'disappointed': 540,\n",
       " 'episodes': 541,\n",
       " 'modern': 542,\n",
       " 'apparently': 543,\n",
       " 'clich': 544,\n",
       " 'single': 545,\n",
       " 'basically': 546,\n",
       " 'attention': 547,\n",
       " 'problems': 548,\n",
       " 'miss': 549,\n",
       " 'knows': 550,\n",
       " 'due': 551,\n",
       " 'finds': 552,\n",
       " 'musical': 553,\n",
       " 'non': 554,\n",
       " 'british': 555,\n",
       " 'thriller': 556,\n",
       " 'class': 557,\n",
       " 'television': 558,\n",
       " 'five': 559,\n",
       " 'cheap': 560,\n",
       " 'earth': 561,\n",
       " 'clearly': 562,\n",
       " 'talk': 563,\n",
       " 'king': 564,\n",
       " 'events': 565,\n",
       " 'add': 566,\n",
       " 'team': 567,\n",
       " 'fast': 568,\n",
       " 'moving': 569,\n",
       " 'space': 570,\n",
       " 'local': 571,\n",
       " 'review': 572,\n",
       " 'ten': 573,\n",
       " 'predictable': 574,\n",
       " 'straight': 575,\n",
       " 'sequence': 576,\n",
       " 'songs': 577,\n",
       " 'tells': 578,\n",
       " 'dialog': 579,\n",
       " 'entertainment': 580,\n",
       " 'die': 581,\n",
       " 'future': 582,\n",
       " 'appears': 583,\n",
       " 'whether': 584,\n",
       " 'soundtrack': 585,\n",
       " 'enjoyable': 586,\n",
       " 'easily': 587,\n",
       " 'supporting': 588,\n",
       " 'sets': 589,\n",
       " 'sister': 590,\n",
       " 'french': 591,\n",
       " 'near': 592,\n",
       " 'hate': 593,\n",
       " 'giving': 594,\n",
       " 'lots': 595,\n",
       " 'falls': 596,\n",
       " 'within': 597,\n",
       " 'tried': 598,\n",
       " 'sequel': 599,\n",
       " 'george': 600,\n",
       " 'dull': 601,\n",
       " 'suspense': 602,\n",
       " 'similar': 603,\n",
       " 'release': 604,\n",
       " 'filmed': 605,\n",
       " 'romantic': 606,\n",
       " 'eye': 607,\n",
       " 'mention': 608,\n",
       " 'subject': 609,\n",
       " 'rock': 610,\n",
       " 'comic': 611,\n",
       " 'bring': 612,\n",
       " 'needs': 613,\n",
       " 'clear': 614,\n",
       " 'message': 615,\n",
       " 'working': 616,\n",
       " 'theme': 617,\n",
       " 'bunch': 618,\n",
       " 'easy': 619,\n",
       " 'parents': 620,\n",
       " 'surprised': 621,\n",
       " 'certain': 622,\n",
       " 'showing': 623,\n",
       " 'ways': 624,\n",
       " 'storyline': 625,\n",
       " 'stay': 626,\n",
       " 'tale': 627,\n",
       " 'th': 628,\n",
       " 'sorry': 629,\n",
       " 'effort': 630,\n",
       " 'theater': 631,\n",
       " 'monster': 632,\n",
       " 'among': 633,\n",
       " 'named': 634,\n",
       " 'stand': 635,\n",
       " 'feature': 636,\n",
       " 'lady': 637,\n",
       " 'realistic': 638,\n",
       " 'fall': 639,\n",
       " 'crime': 640,\n",
       " 'using': 641,\n",
       " 'editing': 642,\n",
       " 'minute': 643,\n",
       " 'comments': 644,\n",
       " 'typical': 645,\n",
       " 'deal': 646,\n",
       " 'elements': 647,\n",
       " 'avoid': 648,\n",
       " 'nearly': 649,\n",
       " 'buy': 650,\n",
       " 'dr': 651,\n",
       " 'general': 652,\n",
       " 'famous': 653,\n",
       " 'greatest': 654,\n",
       " 'feels': 655,\n",
       " 'kept': 656,\n",
       " 'doubt': 657,\n",
       " 'richard': 658,\n",
       " 'points': 659,\n",
       " 'means': 660,\n",
       " 'gone': 661,\n",
       " 'mystery': 662,\n",
       " 'check': 663,\n",
       " 'oscar': 664,\n",
       " 'viewers': 665,\n",
       " 'follow': 666,\n",
       " 'okay': 667,\n",
       " 'brought': 668,\n",
       " 'rent': 669,\n",
       " 'doctor': 670,\n",
       " 'actual': 671,\n",
       " 'dog': 672,\n",
       " 'peter': 673,\n",
       " 'reviews': 674,\n",
       " 'viewing': 675,\n",
       " 'red': 676,\n",
       " 'material': 677,\n",
       " 'fantastic': 678,\n",
       " 'imagine': 679,\n",
       " 'learn': 680,\n",
       " 'period': 681,\n",
       " 'move': 682,\n",
       " 'form': 683,\n",
       " 'begins': 684,\n",
       " 'weak': 685,\n",
       " 'believable': 686,\n",
       " 'imdb': 687,\n",
       " 'somehow': 688,\n",
       " 'paul': 689,\n",
       " 'tom': 690,\n",
       " 'animation': 691,\n",
       " 'fi': 692,\n",
       " 'deep': 693,\n",
       " 'leads': 694,\n",
       " 'forget': 695,\n",
       " 'figure': 696,\n",
       " 'sequences': 697,\n",
       " 'open': 698,\n",
       " 'sci': 699,\n",
       " 'hear': 700,\n",
       " 'america': 701,\n",
       " 'particular': 702,\n",
       " 'atmosphere': 703,\n",
       " 'average': 704,\n",
       " 'sit': 705,\n",
       " 'surprise': 706,\n",
       " 'boys': 707,\n",
       " 'killing': 708,\n",
       " 'whatever': 709,\n",
       " 'premise': 710,\n",
       " 'shame': 711,\n",
       " 'poorly': 712,\n",
       " 'york': 713,\n",
       " 'box': 714,\n",
       " 'lame': 715,\n",
       " 'wait': 716,\n",
       " 'truth': 717,\n",
       " 'dance': 718,\n",
       " 'season': 719,\n",
       " 'crew': 720,\n",
       " 'decided': 721,\n",
       " 'eventually': 722,\n",
       " 'expected': 723,\n",
       " 'indeed': 724,\n",
       " 'acted': 725,\n",
       " 'free': 726,\n",
       " 'note': 727,\n",
       " 'lee': 728,\n",
       " 'hot': 729,\n",
       " 'western': 730,\n",
       " 'society': 731,\n",
       " 'emotional': 732,\n",
       " 'forced': 733,\n",
       " 'situation': 734,\n",
       " 'credits': 735,\n",
       " 'third': 736,\n",
       " 'romance': 737,\n",
       " 'memorable': 738,\n",
       " 'male': 739,\n",
       " 'gay': 740,\n",
       " 'needed': 741,\n",
       " 'difficult': 742,\n",
       " 'nature': 743,\n",
       " 'sexual': 744,\n",
       " 'cheesy': 745,\n",
       " 'plus': 746,\n",
       " 'write': 747,\n",
       " 'reading': 748,\n",
       " 'unless': 749,\n",
       " 'leaves': 750,\n",
       " 'superb': 751,\n",
       " 'became': 752,\n",
       " 'question': 753,\n",
       " 'begin': 754,\n",
       " 'footage': 755,\n",
       " 'hands': 756,\n",
       " 'air': 757,\n",
       " 'possibly': 758,\n",
       " 'meets': 759,\n",
       " 'otherwise': 760,\n",
       " 'interested': 761,\n",
       " 'badly': 762,\n",
       " 'forward': 763,\n",
       " 'beauty': 764,\n",
       " 'earlier': 765,\n",
       " 'de': 766,\n",
       " 'laughs': 767,\n",
       " 'street': 768,\n",
       " 'effect': 769,\n",
       " 'masterpiece': 770,\n",
       " 'screenplay': 771,\n",
       " 'meet': 772,\n",
       " 'setting': 773,\n",
       " 'quickly': 774,\n",
       " 'water': 775,\n",
       " 'features': 776,\n",
       " 'inside': 777,\n",
       " 'stage': 778,\n",
       " 'mark': 779,\n",
       " 'weird': 780,\n",
       " 'incredibly': 781,\n",
       " 'background': 782,\n",
       " 'towards': 783,\n",
       " 'comment': 784,\n",
       " 'japanese': 785,\n",
       " 'girlfriend': 786,\n",
       " 'sounds': 787,\n",
       " 'dumb': 788,\n",
       " 'copy': 789,\n",
       " 'battle': 790,\n",
       " 'personal': 791,\n",
       " 'result': 792,\n",
       " 'baby': 793,\n",
       " 'following': 794,\n",
       " 'joe': 795,\n",
       " 'cop': 796,\n",
       " 'island': 797,\n",
       " 'unique': 798,\n",
       " 'powerful': 799,\n",
       " 'writers': 800,\n",
       " 'previous': 801,\n",
       " 'keeps': 802,\n",
       " 'directing': 803,\n",
       " 'fire': 804,\n",
       " 'development': 805,\n",
       " 'perfectly': 806,\n",
       " 'disney': 807,\n",
       " 'rate': 808,\n",
       " 'total': 809,\n",
       " 'realize': 810,\n",
       " 'joke': 811,\n",
       " 'ask': 812,\n",
       " 'dream': 813,\n",
       " 'worked': 814,\n",
       " 'bill': 815,\n",
       " 'older': 816,\n",
       " 'appear': 817,\n",
       " 'business': 818,\n",
       " 'mess': 819,\n",
       " 'gun': 820,\n",
       " 'portrayed': 821,\n",
       " 'front': 822,\n",
       " 'cover': 823,\n",
       " 'various': 824,\n",
       " 'creepy': 825,\n",
       " 'present': 826,\n",
       " 'plenty': 827,\n",
       " 'directors': 828,\n",
       " 'crazy': 829,\n",
       " 'outside': 830,\n",
       " 'spent': 831,\n",
       " 'reasons': 832,\n",
       " 'dramatic': 833,\n",
       " 'brings': 834,\n",
       " 'admit': 835,\n",
       " 'pay': 836,\n",
       " 'party': 837,\n",
       " 'telling': 838,\n",
       " 'deserves': 839,\n",
       " 'secret': 840,\n",
       " 'fairly': 841,\n",
       " 'break': 842,\n",
       " 'apart': 843,\n",
       " 'political': 844,\n",
       " 'meant': 845,\n",
       " 'wasted': 846,\n",
       " 'zombie': 847,\n",
       " 'create': 848,\n",
       " 'agree': 849,\n",
       " 'era': 850,\n",
       " 'list': 851,\n",
       " 'fails': 852,\n",
       " 'odd': 853,\n",
       " 'expecting': 854,\n",
       " 'attempts': 855,\n",
       " 'rich': 856,\n",
       " 'twist': 857,\n",
       " 'missing': 858,\n",
       " 'leading': 859,\n",
       " 'manages': 860,\n",
       " 'william': 861,\n",
       " 'caught': 862,\n",
       " 'ideas': 863,\n",
       " 'produced': 864,\n",
       " 'potential': 865,\n",
       " 'talented': 866,\n",
       " 'villain': 867,\n",
       " 'hardly': 868,\n",
       " 'fighting': 869,\n",
       " 'cute': 870,\n",
       " 'large': 871,\n",
       " 'laughing': 872,\n",
       " 'success': 873,\n",
       " 'match': 874,\n",
       " 'return': 875,\n",
       " 'members': 876,\n",
       " 'plain': 877,\n",
       " 'fantasy': 878,\n",
       " 'clever': 879,\n",
       " 'office': 880,\n",
       " 'century': 881,\n",
       " 'unlike': 882,\n",
       " 'co': 883,\n",
       " 'recently': 884,\n",
       " 'filmmakers': 885,\n",
       " 'flat': 886,\n",
       " 'missed': 887,\n",
       " 'scott': 888,\n",
       " 'remake': 889,\n",
       " 'public': 890,\n",
       " 'created': 891,\n",
       " 'state': 892,\n",
       " 'company': 893,\n",
       " 'ended': 894,\n",
       " 'nudity': 895,\n",
       " 'german': 896,\n",
       " 'casting': 897,\n",
       " 'sadly': 898,\n",
       " 'wrote': 899,\n",
       " 'filled': 900,\n",
       " 'pure': 901,\n",
       " 'cartoon': 902,\n",
       " 'slightly': 903,\n",
       " 'escape': 904,\n",
       " 'married': 905,\n",
       " 'hold': 906,\n",
       " 'cause': 907,\n",
       " 'spoilers': 908,\n",
       " 'speak': 909,\n",
       " 'mentioned': 910,\n",
       " 'cold': 911,\n",
       " 'italian': 912,\n",
       " 'train': 913,\n",
       " 'pace': 914,\n",
       " 'incredible': 915,\n",
       " 'hair': 916,\n",
       " 'died': 917,\n",
       " 'uses': 918,\n",
       " 'familiar': 919,\n",
       " 'visual': 920,\n",
       " 'language': 921,\n",
       " 'science': 922,\n",
       " 'dancing': 923,\n",
       " 'popular': 924,\n",
       " 'intelligent': 925,\n",
       " 'credit': 926,\n",
       " 'sees': 927,\n",
       " 'waiting': 928,\n",
       " 'decides': 929,\n",
       " 'considering': 930,\n",
       " 'convincing': 931,\n",
       " 'band': 932,\n",
       " 'brothers': 933,\n",
       " 'force': 934,\n",
       " 'store': 935,\n",
       " 'alien': 936,\n",
       " 'portrayal': 937,\n",
       " 'anti': 938,\n",
       " 'fear': 939,\n",
       " 'former': 940,\n",
       " 'sweet': 941,\n",
       " 'sick': 942,\n",
       " 'younger': 943,\n",
       " 'value': 944,\n",
       " 'trouble': 945,\n",
       " 'law': 946,\n",
       " 'follows': 947,\n",
       " 'social': 948,\n",
       " 'entirely': 949,\n",
       " 'yeah': 950,\n",
       " 'alive': 951,\n",
       " 'exciting': 952,\n",
       " 'fit': 953,\n",
       " 'suddenly': 954,\n",
       " 'amount': 955,\n",
       " 'mad': 956,\n",
       " 'appreciate': 957,\n",
       " 'common': 958,\n",
       " 'biggest': 959,\n",
       " 'cat': 960,\n",
       " 'van': 961,\n",
       " 'college': 962,\n",
       " 'tension': 963,\n",
       " 'successful': 964,\n",
       " 'compared': 965,\n",
       " 'jane': 966,\n",
       " 'violent': 967,\n",
       " 'depth': 968,\n",
       " 'neither': 969,\n",
       " 'moves': 970,\n",
       " 'focus': 971,\n",
       " 'honest': 972,\n",
       " 'control': 973,\n",
       " 'project': 974,\n",
       " 'longer': 975,\n",
       " 'situations': 976,\n",
       " 'recommended': 977,\n",
       " 'concept': 978,\n",
       " 'pointless': 979,\n",
       " 'la': 980,\n",
       " 'culture': 981,\n",
       " 'spend': 982,\n",
       " 'choice': 983,\n",
       " 'bored': 984,\n",
       " 'amusing': 985,\n",
       " 'spirit': 986,\n",
       " 'bizarre': 987,\n",
       " 'studio': 988,\n",
       " 'brain': 989,\n",
       " 'images': 990,\n",
       " 'ultimately': 991,\n",
       " 'positive': 992,\n",
       " 'adventure': 993,\n",
       " 'producers': 994,\n",
       " 'meaning': 995,\n",
       " 'drug': 996,\n",
       " 'respect': 997,\n",
       " 'awesome': 998,\n",
       " 'kills': 999,\n",
       " 'fake': 1000,\n",
       " ...}"
      ]
     },
     "execution_count": 61,
     "metadata": {},
     "output_type": "execute_result"
    }
   ],
   "source": [
    "word_tokenizer.word_index"
   ]
  },
  {
   "cell_type": "markdown",
   "metadata": {},
   "source": [
    "# Get vocal length"
   ]
  },
  {
   "cell_type": "code",
   "execution_count": 62,
   "metadata": {},
   "outputs": [],
   "source": [
    "vocab_len = len(word_tokenizer.word_index) + 1"
   ]
  },
  {
   "cell_type": "code",
   "execution_count": 63,
   "metadata": {},
   "outputs": [
    {
     "data": {
      "text/plain": [
       "92394"
      ]
     },
     "execution_count": 63,
     "metadata": {},
     "output_type": "execute_result"
    }
   ],
   "source": [
    "vocab_len"
   ]
  },
  {
   "cell_type": "markdown",
   "metadata": {},
   "source": [
    "### Perform padding on your sequences"
   ]
  },
  {
   "cell_type": "code",
   "execution_count": 65,
   "metadata": {},
   "outputs": [],
   "source": [
    "from keras.utils import pad_sequences\n",
    "maxlen = 100\n",
    "xtrain = pad_sequences(xtrain, maxlen=maxlen, padding='post')\n",
    "xtest = pad_sequences(xtest, maxlen=maxlen, padding='post')"
   ]
  },
  {
   "cell_type": "code",
   "execution_count": 66,
   "metadata": {},
   "outputs": [
    {
     "data": {
      "text/plain": [
       "array([32471,   121,   100,   207,   919,  2651,  8472,  8963,  3832,\n",
       "           1,   843, 16494,   364,  2429,   136,    15,    32,    32,\n",
       "         553,  9712, 12506,  1197,   119,  4177, 17434,   102,   990,\n",
       "        4199,  5069, 24901,  2138, 45770, 29970,   320,   486,   577,\n",
       "        2775,  1114, 16071,  3430,    59,  1343,  1083,  1449,   732,\n",
       "        1091,   185,  2714,   288,   489,   154,  3373,   845, 13300,\n",
       "        1103,   111, 17435,   113,     3,    89,  1296,   935,  4726,\n",
       "       20778, 28006,   117,   238,     3,  3406,    92,  8003,   729,\n",
       "        3289,  1584,    63,    93,    76,    33,   340,   114,   208,\n",
       "        3290,  1707,  4526,  1231,     2,  3334,  1852,  2242,   339,\n",
       "         396,  2386, 17436,  2559,  1608,   449,  3609,    96,   232,\n",
       "        3671])"
      ]
     },
     "execution_count": 66,
     "metadata": {},
     "output_type": "execute_result"
    }
   ],
   "source": [
    "xtrain[0]"
   ]
  },
  {
   "cell_type": "markdown",
   "metadata": {},
   "source": [
    "### Import the embeddings from GLOVE model"
   ]
  },
  {
   "cell_type": "code",
   "execution_count": 67,
   "metadata": {},
   "outputs": [],
   "source": [
    "from numpy import asarray, zeros"
   ]
  },
  {
   "cell_type": "code",
   "execution_count": 69,
   "metadata": {},
   "outputs": [
    {
     "data": {
      "text/plain": [
       "array([[0., 0.],\n",
       "       [0., 0.],\n",
       "       [0., 0.]])"
      ]
     },
     "execution_count": 69,
     "metadata": {},
     "output_type": "execute_result"
    }
   ],
   "source": [
    "zeros((3,2))"
   ]
  },
  {
   "cell_type": "code",
   "execution_count": 70,
   "metadata": {},
   "outputs": [],
   "source": [
    "embedding_dictionary = dict()\n",
    "glove_file = open('a2_glove.6B.100d.txt', encoding='utf8')\n",
    "\n",
    "for line in glove_file:\n",
    "    records = line.split()\n",
    "    word = records[0]\n",
    "    vector_dimension = asarray(records[1:],dtype='float32')\n",
    "    embedding_dictionary[word] = vector_dimension\n",
    "glove_file.close()"
   ]
  },
  {
   "cell_type": "code",
   "execution_count": 73,
   "metadata": {},
   "outputs": [
    {
     "data": {
      "text/plain": [
       "array([ 0.38251  ,  0.14821  ,  0.60601  , -0.51533  ,  0.43992  ,\n",
       "        0.061053 , -0.62716  , -0.025385 ,  0.1643   , -0.22101  ,\n",
       "        0.14423  , -0.37213  , -0.21683  , -0.08895  ,  0.097904 ,\n",
       "        0.6561   ,  0.64455  ,  0.47698  ,  0.83849  ,  1.6486   ,\n",
       "        0.88922  , -0.1181   , -0.012465 , -0.52082  ,  0.77854  ,\n",
       "        0.48723  , -0.014991 , -0.14127  , -0.34747  , -0.29595  ,\n",
       "        0.1028   ,  0.57191  , -0.045594 ,  0.026443 ,  0.53816  ,\n",
       "        0.32257  ,  0.40788  , -0.043599 , -0.146    , -0.48346  ,\n",
       "        0.32036  ,  0.55086  , -0.76259  ,  0.43269  ,  0.61753  ,\n",
       "       -0.36503  , -0.60599  , -0.79615  ,  0.3929   , -0.23668  ,\n",
       "       -0.34719  , -0.61201  ,  0.54747  ,  0.94812  ,  0.20941  ,\n",
       "       -2.7771   , -0.6022   ,  0.8495   ,  1.2549   ,  0.017893 ,\n",
       "       -0.041901 ,  2.1147   , -0.026618 , -0.28104  ,  0.68124  ,\n",
       "       -0.14165  ,  0.99249  ,  0.49879  , -0.67538  ,  0.6417   ,\n",
       "        0.42303  , -0.27913  ,  0.063403 ,  0.68909  , -0.36183  ,\n",
       "        0.053709 , -0.16806  ,  0.19422  , -0.47073  , -0.14803  ,\n",
       "       -0.58986  , -0.2797   ,  0.16792  ,  0.10568  , -1.7601   ,\n",
       "        0.0088254, -0.83326  , -0.5836   , -0.37079  , -0.56591  ,\n",
       "        0.20699  ,  0.071315 ,  0.055586 , -0.29757  , -0.072659 ,\n",
       "       -0.25596  ,  0.42688  ,  0.058921 ,  0.091112 ,  0.47283  ],\n",
       "      dtype=float32)"
      ]
     },
     "execution_count": 73,
     "metadata": {},
     "output_type": "execute_result"
    }
   ],
   "source": [
    "embedding_dictionary['movie']"
   ]
  },
  {
   "cell_type": "code",
   "execution_count": 74,
   "metadata": {},
   "outputs": [
    {
     "data": {
      "text/plain": [
       "100"
      ]
     },
     "execution_count": 74,
     "metadata": {},
     "output_type": "execute_result"
    }
   ],
   "source": [
    "len(embedding_dictionary['movie'])"
   ]
  },
  {
   "cell_type": "markdown",
   "metadata": {},
   "source": [
    "### Embedding matrix creation"
   ]
  },
  {
   "cell_type": "code",
   "execution_count": 75,
   "metadata": {},
   "outputs": [],
   "source": [
    "embedding_matrix = zeros((vocab_len,100))"
   ]
  },
  {
   "cell_type": "code",
   "execution_count": 76,
   "metadata": {},
   "outputs": [
    {
     "data": {
      "text/plain": [
       "array([[0., 0., 0., ..., 0., 0., 0.],\n",
       "       [0., 0., 0., ..., 0., 0., 0.],\n",
       "       [0., 0., 0., ..., 0., 0., 0.],\n",
       "       ...,\n",
       "       [0., 0., 0., ..., 0., 0., 0.],\n",
       "       [0., 0., 0., ..., 0., 0., 0.],\n",
       "       [0., 0., 0., ..., 0., 0., 0.]])"
      ]
     },
     "execution_count": 76,
     "metadata": {},
     "output_type": "execute_result"
    }
   ],
   "source": [
    "embedding_matrix"
   ]
  },
  {
   "cell_type": "code",
   "execution_count": 77,
   "metadata": {},
   "outputs": [],
   "source": [
    "for word, index in word_tokenizer.word_index.items():\n",
    "    embedding_vector = embedding_dictionary.get(word)\n",
    "    if embedding_vector is not None:\n",
    "        embedding_matrix[index]=embedding_vector"
   ]
  },
  {
   "cell_type": "code",
   "execution_count": 78,
   "metadata": {},
   "outputs": [
    {
     "data": {
      "text/plain": [
       "array([[ 0.        ,  0.        ,  0.        , ...,  0.        ,\n",
       "         0.        ,  0.        ],\n",
       "       [ 0.38251001,  0.14821   ,  0.60601002, ...,  0.058921  ,\n",
       "         0.091112  ,  0.47283   ],\n",
       "       [ 0.19915999, -0.049702  ,  0.24579   , ..., -0.068109  ,\n",
       "         0.017651  ,  0.06455   ],\n",
       "       ...,\n",
       "       [ 0.        ,  0.        ,  0.        , ...,  0.        ,\n",
       "         0.        ,  0.        ],\n",
       "       [ 0.37771001,  0.22946   , -0.30311   , ..., -0.33610001,\n",
       "         0.02637   , -0.72302002],\n",
       "       [ 0.99882001,  0.044     ,  0.58508003, ..., -0.54869002,\n",
       "         0.15141   ,  1.36880004]])"
      ]
     },
     "execution_count": 78,
     "metadata": {},
     "output_type": "execute_result"
    }
   ],
   "source": [
    "embedding_matrix"
   ]
  },
  {
   "cell_type": "code",
   "execution_count": 79,
   "metadata": {},
   "outputs": [
    {
     "data": {
      "text/plain": [
       "(92394, 100)"
      ]
     },
     "execution_count": 79,
     "metadata": {},
     "output_type": "execute_result"
    }
   ],
   "source": [
    "embedding_matrix.shape"
   ]
  },
  {
   "cell_type": "markdown",
   "metadata": {},
   "source": [
    "### Training the neural network"
   ]
  },
  {
   "cell_type": "code",
   "execution_count": 80,
   "metadata": {},
   "outputs": [],
   "source": [
    "from keras.models import Sequential\n",
    "from keras.layers import Embedding, LSTM, Dense"
   ]
  },
  {
   "cell_type": "code",
   "execution_count": 81,
   "metadata": {},
   "outputs": [],
   "source": [
    "lstm_model = Sequential()\n",
    "\n",
    "embedding_layer = Embedding(vocab_len, 100, weights=[embedding_matrix], input_length=maxlen, trainable=False)\n",
    "\n",
    "# Layer1 Embedding\n",
    "lstm_model.add(embedding_layer)\n",
    "\n",
    "# Layer2 LSTM \n",
    "lstm_model.add(LSTM(128))\n",
    "\n",
    "# Layer3 Dense Layers\n",
    "lstm_model.add(Dense(1, activation='sigmoid'))"
   ]
  },
  {
   "cell_type": "code",
   "execution_count": 82,
   "metadata": {},
   "outputs": [
    {
     "name": "stdout",
     "output_type": "stream",
     "text": [
      "Model: \"sequential\"\n",
      "_________________________________________________________________\n",
      " Layer (type)                Output Shape              Param #   \n",
      "=================================================================\n",
      " embedding (Embedding)       (None, 100, 100)          9239400   \n",
      "                                                                 \n",
      " lstm (LSTM)                 (None, 128)               117248    \n",
      "                                                                 \n",
      " dense (Dense)               (None, 1)                 129       \n",
      "                                                                 \n",
      "=================================================================\n",
      "Total params: 9356777 (35.69 MB)\n",
      "Trainable params: 117377 (458.50 KB)\n",
      "Non-trainable params: 9239400 (35.25 MB)\n",
      "_________________________________________________________________\n"
     ]
    }
   ],
   "source": [
    "lstm_model.summary()"
   ]
  },
  {
   "cell_type": "markdown",
   "metadata": {},
   "source": [
    "### Compile the model"
   ]
  },
  {
   "cell_type": "code",
   "execution_count": 83,
   "metadata": {},
   "outputs": [],
   "source": [
    "lstm_model.compile(optimizer='adam',loss='binary_crossentropy',metrics=['accuracy'])"
   ]
  },
  {
   "cell_type": "code",
   "execution_count": 84,
   "metadata": {},
   "outputs": [
    {
     "name": "stdout",
     "output_type": "stream",
     "text": [
      "Epoch 1/5\n",
      "250/250 [==============================] - 41s 152ms/step - loss: 0.5155 - accuracy: 0.7472 - val_loss: 0.4268 - val_accuracy: 0.8031\n",
      "Epoch 2/5\n",
      "250/250 [==============================] - 37s 148ms/step - loss: 0.4196 - accuracy: 0.8158 - val_loss: 0.3950 - val_accuracy: 0.8259\n",
      "Epoch 3/5\n",
      "250/250 [==============================] - 38s 152ms/step - loss: 0.3643 - accuracy: 0.8417 - val_loss: 0.3487 - val_accuracy: 0.8528\n",
      "Epoch 4/5\n",
      "250/250 [==============================] - 37s 150ms/step - loss: 0.3366 - accuracy: 0.8582 - val_loss: 0.3360 - val_accuracy: 0.8560\n",
      "Epoch 5/5\n",
      "250/250 [==============================] - 37s 150ms/step - loss: 0.3196 - accuracy: 0.8649 - val_loss: 0.3358 - val_accuracy: 0.8629\n"
     ]
    }
   ],
   "source": [
    "hist = lstm_model.fit(xtrain, ytrain, validation_split=0.2, epochs=5, batch_size=128)"
   ]
  },
  {
   "cell_type": "markdown",
   "metadata": {},
   "source": [
    "### Plot the learning curve"
   ]
  },
  {
   "cell_type": "code",
   "execution_count": 87,
   "metadata": {},
   "outputs": [
    {
     "data": {
      "image/png": "[encoded data removed]",
      "text/plain": [
       "<Figure size 1600x800 with 1 Axes>"
      ]
     },
     "metadata": {},
     "output_type": "display_data"
    }
   ],
   "source": [
    "import matplotlib.pyplot as plt\n",
    "plt.figure(figsize=(16,8))\n",
    "plt.plot(hist.history['loss'],label='Train Loss')\n",
    "plt.plot(hist.history['val_loss'],label='Val Loss')\n",
    "plt.xlabel('Epochs')\n",
    "plt.ylabel('Binary Crossentropy')\n",
    "plt.title('Learning Curve')\n",
    "plt.legend()\n",
    "plt.show()"
   ]
  },
  {
   "cell_type": "markdown",
   "metadata": {},
   "source": [
    "### Evaluate model"
   ]
  },
  {
   "cell_type": "code",
   "execution_count": 88,
   "metadata": {},
   "outputs": [
    {
     "name": "stdout",
     "output_type": "stream",
     "text": [
      "1250/1250 [==============================] - 35s 28ms/step - loss: 0.3060 - accuracy: 0.8754\n"
     ]
    },
    {
     "data": {
      "text/plain": [
       "[0.3059839606285095, 0.8754000067710876]"
      ]
     },
     "execution_count": 88,
     "metadata": {},
     "output_type": "execute_result"
    }
   ],
   "source": [
    "lstm_model.evaluate(xtrain, ytrain)"
   ]
  },
  {
   "cell_type": "code",
   "execution_count": 89,
   "metadata": {},
   "outputs": [
    {
     "name": "stdout",
     "output_type": "stream",
     "text": [
      "313/313 [==============================] - 7s 23ms/step - loss: 0.3403 - accuracy: 0.8617\n"
     ]
    },
    {
     "data": {
      "text/plain": [
       "[0.34026405215263367, 0.8616999983787537]"
      ]
     },
     "execution_count": 89,
     "metadata": {},
     "output_type": "execute_result"
    }
   ],
   "source": [
    "lstm_model.evaluate(xtest, ytest)"
   ]
  },
  {
   "cell_type": "markdown",
   "metadata": {},
   "source": [
    "### Predict train and test data"
   ]
  },
  {
   "cell_type": "code",
   "execution_count": 90,
   "metadata": {},
   "outputs": [
    {
     "name": "stdout",
     "output_type": "stream",
     "text": [
      "1250/1250 [==============================] - 31s 24ms/step\n",
      "313/313 [==============================] - 9s 27ms/step\n"
     ]
    }
   ],
   "source": [
    "yprob_tr = lstm_model.predict(xtrain)\n",
    "yprob_ts = lstm_model.predict(xtest)"
   ]
  },
  {
   "cell_type": "code",
   "execution_count": 91,
   "metadata": {},
   "outputs": [],
   "source": [
    "ypred_ts = []\n",
    "for i in yprob_ts:\n",
    "    if i>=0.5:\n",
    "        ypred_ts.append(1)\n",
    "    else:\n",
    "        ypred_ts.append(0)"
   ]
  },
  {
   "cell_type": "code",
   "execution_count": 92,
   "metadata": {},
   "outputs": [
    {
     "data": {
      "text/plain": [
       "[0, 1, 0, 1, 0]"
      ]
     },
     "execution_count": 92,
     "metadata": {},
     "output_type": "execute_result"
    }
   ],
   "source": [
    "ypred_ts[0:5]"
   ]
  },
  {
   "cell_type": "code",
   "execution_count": 94,
   "metadata": {},
   "outputs": [
    {
     "data": {
      "text/plain": [
       "array([1, 1, 0, 1, 0], dtype=int64)"
      ]
     },
     "execution_count": 94,
     "metadata": {},
     "output_type": "execute_result"
    }
   ],
   "source": [
    "ytest[0:5]"
   ]
  },
  {
   "cell_type": "markdown",
   "metadata": {},
   "source": [
    "### Confusion Matrix"
   ]
  },
  {
   "cell_type": "code",
   "execution_count": 95,
   "metadata": {},
   "outputs": [
    {
     "data": {
      "text/plain": [
       "<sklearn.metrics._plot.confusion_matrix.ConfusionMatrixDisplay at 0x286f3e18a00>"
      ]
     },
     "execution_count": 95,
     "metadata": {},
     "output_type": "execute_result"
    },
    {
     "data": {
      "image/png": "[encoded data removed]",
      "text/plain": [
       "<Figure size 640x480 with 2 Axes>"
      ]
     },
     "metadata": {},
     "output_type": "display_data"
    }
   ],
   "source": [
    "from sklearn.metrics import confusion_matrix, ConfusionMatrixDisplay\n",
    "cf = confusion_matrix(ytest, ypred_ts)\n",
    "cfd = ConfusionMatrixDisplay(cf)\n",
    "cfd.plot()"
   ]
  },
  {
   "cell_type": "markdown",
   "metadata": {},
   "source": [
    "### Classification Report"
   ]
  },
  {
   "cell_type": "code",
   "execution_count": 96,
   "metadata": {},
   "outputs": [
    {
     "name": "stdout",
     "output_type": "stream",
     "text": [
      "              precision    recall  f1-score   support\n",
      "\n",
      "           0       0.86      0.86      0.86      4961\n",
      "           1       0.87      0.86      0.86      5039\n",
      "\n",
      "    accuracy                           0.86     10000\n",
      "   macro avg       0.86      0.86      0.86     10000\n",
      "weighted avg       0.86      0.86      0.86     10000\n",
      "\n"
     ]
    }
   ],
   "source": [
    "from sklearn.metrics import classification_report\n",
    "print(classification_report(ytest, ypred_ts))"
   ]
  },
  {
   "cell_type": "markdown",
   "metadata": {},
   "source": [
    "### Predicting on unseen data"
   ]
  },
  {
   "cell_type": "code",
   "execution_count": 97,
   "metadata": {},
   "outputs": [
    {
     "data": {
      "text/html": [
       "<div>\n",
       "<style scoped>\n",
       "    .dataframe tbody tr th:only-of-type {\n",
       "        vertical-align: middle;\n",
       "    }\n",
       "\n",
       "    .dataframe tbody tr th {\n",
       "        vertical-align: top;\n",
       "    }\n",
       "\n",
       "    .dataframe thead th {\n",
       "        text-align: right;\n",
       "    }\n",
       "</style>\n",
       "<table border=\"1\" class=\"dataframe\">\n",
       "  <thead>\n",
       "    <tr style=\"text-align: right;\">\n",
       "      <th></th>\n",
       "      <th>Unnamed: 0</th>\n",
       "      <th>Movie</th>\n",
       "      <th>Review Text</th>\n",
       "      <th>IMDb Rating</th>\n",
       "    </tr>\n",
       "  </thead>\n",
       "  <tbody>\n",
       "    <tr>\n",
       "      <th>0</th>\n",
       "      <td>0</td>\n",
       "      <td>Ex Machina</td>\n",
       "      <td>Intelligent Movie.\\nThis movie is obviously al...</td>\n",
       "      <td>9</td>\n",
       "    </tr>\n",
       "    <tr>\n",
       "      <th>1</th>\n",
       "      <td>1</td>\n",
       "      <td>Ex Machina</td>\n",
       "      <td>Extraordinary and thought-provoking.\\n'Ex mach...</td>\n",
       "      <td>10</td>\n",
       "    </tr>\n",
       "    <tr>\n",
       "      <th>2</th>\n",
       "      <td>2</td>\n",
       "      <td>Ex Machina</td>\n",
       "      <td>Poor story, only reasonable otherwise.\\nIf I h...</td>\n",
       "      <td>3</td>\n",
       "    </tr>\n",
       "    <tr>\n",
       "      <th>3</th>\n",
       "      <td>3</td>\n",
       "      <td>Ex Machina</td>\n",
       "      <td>Had Great Potential.\\nThis movie is one of the...</td>\n",
       "      <td>1</td>\n",
       "    </tr>\n",
       "    <tr>\n",
       "      <th>4</th>\n",
       "      <td>4</td>\n",
       "      <td>Eternals</td>\n",
       "      <td>Amazing visuals and philosophical concepts!\\n\\...</td>\n",
       "      <td>10</td>\n",
       "    </tr>\n",
       "    <tr>\n",
       "      <th>5</th>\n",
       "      <td>5</td>\n",
       "      <td>Eternals</td>\n",
       "      <td>Worst MCU film ever\\n\\nFollowing the events of...</td>\n",
       "      <td>3</td>\n",
       "    </tr>\n",
       "  </tbody>\n",
       "</table>\n",
       "</div>"
      ],
      "text/plain": [
       "   Unnamed: 0       Movie                                        Review Text  \\\n",
       "0           0  Ex Machina  Intelligent Movie.\\nThis movie is obviously al...   \n",
       "1           1  Ex Machina  Extraordinary and thought-provoking.\\n'Ex mach...   \n",
       "2           2  Ex Machina  Poor story, only reasonable otherwise.\\nIf I h...   \n",
       "3           3  Ex Machina  Had Great Potential.\\nThis movie is one of the...   \n",
       "4           4    Eternals  Amazing visuals and philosophical concepts!\\n\\...   \n",
       "5           5    Eternals  Worst MCU film ever\\n\\nFollowing the events of...   \n",
       "\n",
       "   IMDb Rating  \n",
       "0            9  \n",
       "1           10  \n",
       "2            3  \n",
       "3            1  \n",
       "4           10  \n",
       "5            3  "
      ]
     },
     "execution_count": 97,
     "metadata": {},
     "output_type": "execute_result"
    }
   ],
   "source": [
    "sample_review = pd.read_csv('a3_IMDb_Unseen_Reviews.csv')\n",
    "sample_review"
   ]
  },
  {
   "cell_type": "code",
   "execution_count": 98,
   "metadata": {},
   "outputs": [
    {
     "data": {
      "text/plain": [
       "0    Intelligent Movie.\\nThis movie is obviously al...\n",
       "1    Extraordinary and thought-provoking.\\n'Ex mach...\n",
       "2    Poor story, only reasonable otherwise.\\nIf I h...\n",
       "3    Had Great Potential.\\nThis movie is one of the...\n",
       "4    Amazing visuals and philosophical concepts!\\n\\...\n",
       "5    Worst MCU film ever\\n\\nFollowing the events of...\n",
       "Name: Review Text, dtype: object"
      ]
     },
     "execution_count": 98,
     "metadata": {},
     "output_type": "execute_result"
    }
   ],
   "source": [
    "# Unseen reviews\n",
    "unseen_reviews = sample_review['Review Text']\n",
    "unseen_reviews"
   ]
  },
  {
   "cell_type": "code",
   "execution_count": 99,
   "metadata": {},
   "outputs": [],
   "source": [
    "# Preprocessing\n",
    "unseen_pre = []\n",
    "\n",
    "for i in unseen_reviews:\n",
    "    unseen_pre.append(preprocess_text(i))"
   ]
  },
  {
   "cell_type": "code",
   "execution_count": 100,
   "metadata": {},
   "outputs": [
    {
     "data": {
      "text/plain": [
       "['intelligent movie movie obviously allegorical fascinating tale ai mainly manipulation power wanting action spectacular cgi movie aimed people like think rather passively wait entertained themes ai also surveillance excellent points data us collected phone companies search engine companies commercial operating systems makers plot seems simple extremely clever protagonist playing games trying stay one step ahead one another movie perfectly consistent internal logic plays perfectly go expecting much however see people satisfied movie sets brilliantly therefore give least recent movies getting movie succeeds another recent movie ai transcendence think called failed interesting failure third movie ai spanish movie called eva also brilliant eva moving movie philosophical movies perfect different ways ai name movie ava seems nod title spanish movie aside nice stars appeared ex machina eva casting great course several aspects movie unrealistic often absurd allegorical movie acceptable movie making points rather striving realism fairytale accurate portrayal ',\n",
       " 'extraordinary thought provoking ex machina surprisingly dense titles alex garland written perhaps excepting annihilation simple concept given definite narrative narrative pointedly explores nature thought perception broaching nature ramifications morality psychological thriller fundamental construction minute rendering alike intense feature genre name offhand much almost classify horror movie emphasizes plays dire uncertainty intent motivation reality way climax even leaves us somewhat ambiguous ending ordinary beginning captivating ending every point ex machina absolutely marvelous performance seen oscar isaac none nearly forceful portrayal nathan exhibiting outstanding nuance sharp personality realization man exceptionally intelligent exceptionally cruel conniving especially familiar domhnall gleeson irish actor demonstrates admirable range poise readily matching traits immediately notable costars said certainly count anyone else involved alicia vikander phenomenal ava showing careful exactness every motion expression befitting character impressing skills subtle ways love score composed ben salisbury geoff barrow lending pensive unease film building great crescendo precise appropriate moments sound design exquisite soft unobtrusive qualities denoting meticulous craft feature highly advanced status ava special effects read little bit production history informs substantial effort made ensure every element nathan creation visualized utmost possibility realism think endeavor paid handsomely characters written wonderfully complex dialogue deceptively garland scene writing impeccable deeply engrossing say nothing overall narrative delves heavy subject matter even aware acclaim feature garnered since release wholly sure expect sat watch got far exceeded anything imagined mostly stepping away significantly common story ideas populate sci fi films artificial intelligence garland screenplay analyzes consciousness depth completeness potency anticipated genre picture result terrifically engaging exhilarating factor sound performances excellent music ex machina firmly first rate slice science fiction call must see ',\n",
       " 'poor story reasonable otherwise realised alex garland would bothered watching remember reading book beach years ago thinking something nice time sure seen ex machina feeling story chosen simply appeal large audience rather manipulative unthinking unfeeling way normally write bad reviews anything preferring focus positive dislike felt write something put people wasting time assimilating nastiness case ex machina imagine garland wondering would next project googling ai quickly finding ai box experiment rather heart soul searching work would necessary produce anything original imagine quickly turning somebody else idea next big proposal present film studio unoriginal idea presented fairly pedestrian way lots images derived young person view sexuality made also wonder film rather prejudiced women reasonably paced found yawning lot quite would expect good thriller domhnall gleeson ok pretty good job ',\n",
       " 'great potential movie one countless come hollywood great potential however like many personalities hollywood sold soul cheap finish beautiful ideas movie could great however producers chose go cheap thriller effect instead exploring truly makes us human machine conceived written produced idiots soul waste time redeeming part movie dweeb gets sent sticks surprised smartphone tell signal producers writers piece crap obviously signal also ',\n",
       " 'amazing visuals philosophical concepts eternals visual masterpiece inner challenges eternals face great signifier mcu moving mature meaningful phase look deeper plot events significance appreciate detail put timeline spans thousands years low underwhelming ratings seem obviously place despite fact many people loved mcu couple buff guys sexualised women transition mcu going inevitable franchise supported generations quite frankly awesome besides stunning visuals deep undertones chloe zhao certainly packs enough fight scenes possibly needed eternal represents unique power connected source cosmic energy variability allows exhilarating fight scenes arguably interesting couple punches kicks stray flying weapon love stories quaint meaningful certainly take much run time overall new age maturity deeper concepts seen movie definitely something look forward phase ',\n",
       " 'worst mcu film ever following events avengers endgame unexpected tragedy forces eternals ancient aliens living earth secret thousands years shadows reunite mankind ancient enemy deviants film far worst mcu film watch massive insuylt comics jack kirby days gender swapping eternals bad story telling makes absolutely sense unlikeable characters little action ridicules changes mcu sum bad film completely ruined endgame goods music cgi arishen well bonus points voiced david kaye good movie makes captain marvel iron man look good ']"
      ]
     },
     "execution_count": 100,
     "metadata": {},
     "output_type": "execute_result"
    }
   ],
   "source": [
    "unseen_pre"
   ]
  },
  {
   "cell_type": "code",
   "execution_count": 102,
   "metadata": {},
   "outputs": [],
   "source": [
    "## Unseen tokenize\n",
    "unseen_tokenized = word_tokenizer.texts_to_sequences(unseen_pre)"
   ]
  },
  {
   "cell_type": "code",
   "execution_count": 103,
   "metadata": {},
   "outputs": [],
   "source": [
    "## Unseen padded\n",
    "unseen_padded = pad_sequences(unseen_tokenized, maxlen=maxlen, padding='post')"
   ]
  },
  {
   "cell_type": "code",
   "execution_count": 105,
   "metadata": {},
   "outputs": [
    {
     "data": {
      "text/plain": [
       "array([  133,     2,    42,   794,   565, 15155, 28863,  1915,  1448,\n",
       "        1711,  2066,  1759,   447,   561,   840,  2801,    58,  3047,\n",
       "        8281,  4115,  2066,  1949, 32617,     2,   116,   133,     2,\n",
       "          27,  2371,  3603,   523, 23450,   350,  4973, 17597,    14,\n",
       "           9,   838,    65,   301,   169,  5183,    26,    41,    97,\n",
       "       13936,  1159,  2772,    14,     2,   219,  2230, 28863,  6241,\n",
       "         100,  1370,    12,  4185,   659,  4089,   466, 12639,     5,\n",
       "           1,    65,  1431,  5475,  3833,    43,    67,     5,     0,\n",
       "           0,     0,     0,     0,     0,     0,     0,     0,     0,\n",
       "           0,     0,     0,     0,     0,     0,     0,     0,     0,\n",
       "           0,     0,     0,     0,     0,     0,     0,     0,     0,\n",
       "           0])"
      ]
     },
     "execution_count": 105,
     "metadata": {},
     "output_type": "execute_result"
    }
   ],
   "source": [
    "unseen_padded[-1]"
   ]
  },
  {
   "cell_type": "code",
   "execution_count": 106,
   "metadata": {},
   "outputs": [
    {
     "name": "stdout",
     "output_type": "stream",
     "text": [
      "1/1 [==============================] - 0s 26ms/step\n"
     ]
    }
   ],
   "source": [
    "### Predict the sentiments\n",
    "sentiments = lstm_model.predict(unseen_padded)"
   ]
  },
  {
   "cell_type": "code",
   "execution_count": 107,
   "metadata": {},
   "outputs": [
    {
     "data": {
      "text/plain": [
       "array([[0.87359965],\n",
       "       [0.992022  ],\n",
       "       [0.18071699],\n",
       "       [0.90029234],\n",
       "       [0.94139814],\n",
       "       [0.01048254]], dtype=float32)"
      ]
     },
     "execution_count": 107,
     "metadata": {},
     "output_type": "execute_result"
    }
   ],
   "source": [
    "sentiments"
   ]
  },
  {
   "cell_type": "code",
   "execution_count": 108,
   "metadata": {},
   "outputs": [],
   "source": [
    "imdb_reviews = sentiments*10"
   ]
  },
  {
   "cell_type": "code",
   "execution_count": 109,
   "metadata": {},
   "outputs": [
    {
     "data": {
      "text/plain": [
       "array([[8.735996  ],\n",
       "       [9.920219  ],\n",
       "       [1.8071699 ],\n",
       "       [9.002923  ],\n",
       "       [9.413981  ],\n",
       "       [0.10482541]], dtype=float32)"
      ]
     },
     "execution_count": 109,
     "metadata": {},
     "output_type": "execute_result"
    }
   ],
   "source": [
    "imdb_reviews"
   ]
  },
  {
   "cell_type": "code",
   "execution_count": 110,
   "metadata": {},
   "outputs": [],
   "source": [
    "final_sentiment = []\n",
    "for i in sentiments:\n",
    "    if i>=0.5:\n",
    "        final_sentiment.append('Positive')\n",
    "    else:\n",
    "        final_sentiment.append('Negative')"
   ]
  },
  {
   "cell_type": "code",
   "execution_count": 111,
   "metadata": {},
   "outputs": [
    {
     "data": {
      "text/plain": [
       "['Positive', 'Positive', 'Negative', 'Positive', 'Positive', 'Negative']"
      ]
     },
     "execution_count": 111,
     "metadata": {},
     "output_type": "execute_result"
    }
   ],
   "source": [
    "final_sentiment"
   ]
  },
  {
   "cell_type": "code",
   "execution_count": 112,
   "metadata": {},
   "outputs": [],
   "source": [
    "sample_review['LSTM Sentiments']=imdb_reviews"
   ]
  },
  {
   "cell_type": "code",
   "execution_count": 113,
   "metadata": {},
   "outputs": [],
   "source": [
    "sample_review['Final Sentiments']=final_sentiment"
   ]
  },
  {
   "cell_type": "code",
   "execution_count": 114,
   "metadata": {},
   "outputs": [
    {
     "data": {
      "text/html": [
       "<div>\n",
       "<style scoped>\n",
       "    .dataframe tbody tr th:only-of-type {\n",
       "        vertical-align: middle;\n",
       "    }\n",
       "\n",
       "    .dataframe tbody tr th {\n",
       "        vertical-align: top;\n",
       "    }\n",
       "\n",
       "    .dataframe thead th {\n",
       "        text-align: right;\n",
       "    }\n",
       "</style>\n",
       "<table border=\"1\" class=\"dataframe\">\n",
       "  <thead>\n",
       "    <tr style=\"text-align: right;\">\n",
       "      <th></th>\n",
       "      <th>Unnamed: 0</th>\n",
       "      <th>Movie</th>\n",
       "      <th>Review Text</th>\n",
       "      <th>IMDb Rating</th>\n",
       "      <th>LSTM Sentiments</th>\n",
       "      <th>Final Sentiments</th>\n",
       "    </tr>\n",
       "  </thead>\n",
       "  <tbody>\n",
       "    <tr>\n",
       "      <th>0</th>\n",
       "      <td>0</td>\n",
       "      <td>Ex Machina</td>\n",
       "      <td>Intelligent Movie.\\nThis movie is obviously al...</td>\n",
       "      <td>9</td>\n",
       "      <td>8.735996</td>\n",
       "      <td>Positive</td>\n",
       "    </tr>\n",
       "    <tr>\n",
       "      <th>1</th>\n",
       "      <td>1</td>\n",
       "      <td>Ex Machina</td>\n",
       "      <td>Extraordinary and thought-provoking.\\n'Ex mach...</td>\n",
       "      <td>10</td>\n",
       "      <td>9.920219</td>\n",
       "      <td>Positive</td>\n",
       "    </tr>\n",
       "    <tr>\n",
       "      <th>2</th>\n",
       "      <td>2</td>\n",
       "      <td>Ex Machina</td>\n",
       "      <td>Poor story, only reasonable otherwise.\\nIf I h...</td>\n",
       "      <td>3</td>\n",
       "      <td>1.807170</td>\n",
       "      <td>Negative</td>\n",
       "    </tr>\n",
       "    <tr>\n",
       "      <th>3</th>\n",
       "      <td>3</td>\n",
       "      <td>Ex Machina</td>\n",
       "      <td>Had Great Potential.\\nThis movie is one of the...</td>\n",
       "      <td>1</td>\n",
       "      <td>9.002923</td>\n",
       "      <td>Positive</td>\n",
       "    </tr>\n",
       "    <tr>\n",
       "      <th>4</th>\n",
       "      <td>4</td>\n",
       "      <td>Eternals</td>\n",
       "      <td>Amazing visuals and philosophical concepts!\\n\\...</td>\n",
       "      <td>10</td>\n",
       "      <td>9.413981</td>\n",
       "      <td>Positive</td>\n",
       "    </tr>\n",
       "    <tr>\n",
       "      <th>5</th>\n",
       "      <td>5</td>\n",
       "      <td>Eternals</td>\n",
       "      <td>Worst MCU film ever\\n\\nFollowing the events of...</td>\n",
       "      <td>3</td>\n",
       "      <td>0.104825</td>\n",
       "      <td>Negative</td>\n",
       "    </tr>\n",
       "  </tbody>\n",
       "</table>\n",
       "</div>"
      ],
      "text/plain": [
       "   Unnamed: 0       Movie                                        Review Text  \\\n",
       "0           0  Ex Machina  Intelligent Movie.\\nThis movie is obviously al...   \n",
       "1           1  Ex Machina  Extraordinary and thought-provoking.\\n'Ex mach...   \n",
       "2           2  Ex Machina  Poor story, only reasonable otherwise.\\nIf I h...   \n",
       "3           3  Ex Machina  Had Great Potential.\\nThis movie is one of the...   \n",
       "4           4    Eternals  Amazing visuals and philosophical concepts!\\n\\...   \n",
       "5           5    Eternals  Worst MCU film ever\\n\\nFollowing the events of...   \n",
       "\n",
       "   IMDb Rating  LSTM Sentiments Final Sentiments  \n",
       "0            9         8.735996         Positive  \n",
       "1           10         9.920219         Positive  \n",
       "2            3         1.807170         Negative  \n",
       "3            1         9.002923         Positive  \n",
       "4           10         9.413981         Positive  \n",
       "5            3         0.104825         Negative  "
      ]
     },
     "execution_count": 114,
     "metadata": {},
     "output_type": "execute_result"
    }
   ],
   "source": [
    "sample_review"
   ]
  },
  {
   "cell_type": "markdown",
   "metadata": {},
   "source": [
    "### Save this model for fututure use"
   ]
  },
  {
   "cell_type": "code",
   "execution_count": 115,
   "metadata": {},
   "outputs": [],
   "source": [
    "lstm_model.save('Sentiment_Model.keras')"
   ]
  }
 ],
 "metadata": {
  "kernelspec": {
   "display_name": "venv",
   "language": "python",
   "name": "python3"
  },
  "language_info": {
   "codemirror_mode": {
    "name": "ipython",
    "version": 3
   },
   "file_extension": ".py",
   "mimetype": "text/x-python",
   "name": "python",
   "nbconvert_exporter": "python",
   "pygments_lexer": "ipython3",
   "version": "3.10.7"
  },
  "orig_nbformat": 4
 },
 "nbformat": 4,
 "nbformat_minor": 2
}
