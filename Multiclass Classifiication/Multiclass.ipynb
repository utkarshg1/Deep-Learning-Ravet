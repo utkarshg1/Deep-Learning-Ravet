{
 "cells": [
  {
   "cell_type": "markdown",
   "metadata": {},
   "source": [
    "# Multiclass classification"
   ]
  },
  {
   "cell_type": "code",
   "execution_count": 1,
   "metadata": {},
   "outputs": [],
   "source": [
    "from sklearn.datasets import make_classification\n",
    "X,Y = make_classification(n_samples=6000, n_classes=3, n_features=30, n_informative=15, random_state=42)"
   ]
  },
  {
   "cell_type": "code",
   "execution_count": 2,
   "metadata": {},
   "outputs": [
    {
     "data": {
      "text/plain": [
       "array([[-1.44143883,  0.99759432,  0.64881894, ...,  0.26075709,\n",
       "        -2.4917032 , -0.52457062],\n",
       "       [-5.14274116,  2.44379509,  0.59681357, ..., -0.67343933,\n",
       "         2.13880873, -1.34828698],\n",
       "       [ 0.65562953, -1.84153079,  0.80405201, ..., -1.45272723,\n",
       "        -3.46992694,  1.12992925],\n",
       "       ...,\n",
       "       [ 4.12653393, -4.34701772, -0.2590811 , ..., -0.28741425,\n",
       "         7.28922344, -1.18100918],\n",
       "       [-0.71009863,  3.94052935,  1.83897001, ...,  3.29290311,\n",
       "         6.91505595,  0.80226731],\n",
       "       [ 1.24909105,  3.92319056, -0.05696048, ..., -2.61261051,\n",
       "        -3.21501144, -0.04845804]])"
      ]
     },
     "execution_count": 2,
     "metadata": {},
     "output_type": "execute_result"
    }
   ],
   "source": [
    "X"
   ]
  },
  {
   "cell_type": "code",
   "execution_count": 3,
   "metadata": {},
   "outputs": [
    {
     "data": {
      "text/plain": [
       "array([2, 2, 0, ..., 1, 0, 2])"
      ]
     },
     "execution_count": 3,
     "metadata": {},
     "output_type": "execute_result"
    }
   ],
   "source": [
    "Y"
   ]
  },
  {
   "cell_type": "code",
   "execution_count": 4,
   "metadata": {},
   "outputs": [
    {
     "data": {
      "text/plain": [
       "array([0, 1, 2])"
      ]
     },
     "execution_count": 4,
     "metadata": {},
     "output_type": "execute_result"
    }
   ],
   "source": [
    "import numpy as np\n",
    "np.unique(Y)"
   ]
  },
  {
   "cell_type": "code",
   "execution_count": 5,
   "metadata": {},
   "outputs": [
    {
     "data": {
      "text/plain": [
       "['x1',\n",
       " 'x2',\n",
       " 'x3',\n",
       " 'x4',\n",
       " 'x5',\n",
       " 'x6',\n",
       " 'x7',\n",
       " 'x8',\n",
       " 'x9',\n",
       " 'x10',\n",
       " 'x11',\n",
       " 'x12',\n",
       " 'x13',\n",
       " 'x14',\n",
       " 'x15',\n",
       " 'x16',\n",
       " 'x17',\n",
       " 'x18',\n",
       " 'x19',\n",
       " 'x20',\n",
       " 'x21',\n",
       " 'x22',\n",
       " 'x23',\n",
       " 'x24',\n",
       " 'x25',\n",
       " 'x26',\n",
       " 'x27',\n",
       " 'x28',\n",
       " 'x29',\n",
       " 'x30']"
      ]
     },
     "execution_count": 5,
     "metadata": {},
     "output_type": "execute_result"
    }
   ],
   "source": [
    "cols = [f'x{i+1}' for i in range(30)]\n",
    "cols"
   ]
  },
  {
   "cell_type": "code",
   "execution_count": 6,
   "metadata": {},
   "outputs": [
    {
     "data": {
      "text/html": [
       "<div>\n",
       "<style scoped>\n",
       "    .dataframe tbody tr th:only-of-type {\n",
       "        vertical-align: middle;\n",
       "    }\n",
       "\n",
       "    .dataframe tbody tr th {\n",
       "        vertical-align: top;\n",
       "    }\n",
       "\n",
       "    .dataframe thead th {\n",
       "        text-align: right;\n",
       "    }\n",
       "</style>\n",
       "<table border=\"1\" class=\"dataframe\">\n",
       "  <thead>\n",
       "    <tr style=\"text-align: right;\">\n",
       "      <th></th>\n",
       "      <th>x1</th>\n",
       "      <th>x2</th>\n",
       "      <th>x3</th>\n",
       "      <th>x4</th>\n",
       "      <th>x5</th>\n",
       "      <th>x6</th>\n",
       "      <th>x7</th>\n",
       "      <th>x8</th>\n",
       "      <th>x9</th>\n",
       "      <th>x10</th>\n",
       "      <th>...</th>\n",
       "      <th>x21</th>\n",
       "      <th>x22</th>\n",
       "      <th>x23</th>\n",
       "      <th>x24</th>\n",
       "      <th>x25</th>\n",
       "      <th>x26</th>\n",
       "      <th>x27</th>\n",
       "      <th>x28</th>\n",
       "      <th>x29</th>\n",
       "      <th>x30</th>\n",
       "    </tr>\n",
       "  </thead>\n",
       "  <tbody>\n",
       "    <tr>\n",
       "      <th>0</th>\n",
       "      <td>-1.441439</td>\n",
       "      <td>0.997594</td>\n",
       "      <td>0.648819</td>\n",
       "      <td>-0.939605</td>\n",
       "      <td>1.757397</td>\n",
       "      <td>0.578914</td>\n",
       "      <td>2.427303</td>\n",
       "      <td>-2.051151</td>\n",
       "      <td>2.229941</td>\n",
       "      <td>4.161986</td>\n",
       "      <td>...</td>\n",
       "      <td>-1.479880</td>\n",
       "      <td>-0.348015</td>\n",
       "      <td>-0.607153</td>\n",
       "      <td>-1.081817</td>\n",
       "      <td>-1.993413</td>\n",
       "      <td>1.533084</td>\n",
       "      <td>-1.496706</td>\n",
       "      <td>0.260757</td>\n",
       "      <td>-2.491703</td>\n",
       "      <td>-0.524571</td>\n",
       "    </tr>\n",
       "    <tr>\n",
       "      <th>1</th>\n",
       "      <td>-5.142741</td>\n",
       "      <td>2.443795</td>\n",
       "      <td>0.596814</td>\n",
       "      <td>-5.863056</td>\n",
       "      <td>1.387833</td>\n",
       "      <td>0.481951</td>\n",
       "      <td>4.083274</td>\n",
       "      <td>-0.973058</td>\n",
       "      <td>0.552966</td>\n",
       "      <td>2.620579</td>\n",
       "      <td>...</td>\n",
       "      <td>-0.743816</td>\n",
       "      <td>-0.382961</td>\n",
       "      <td>-0.274725</td>\n",
       "      <td>-0.832032</td>\n",
       "      <td>-1.148192</td>\n",
       "      <td>-0.926654</td>\n",
       "      <td>0.970663</td>\n",
       "      <td>-0.673439</td>\n",
       "      <td>2.138809</td>\n",
       "      <td>-1.348287</td>\n",
       "    </tr>\n",
       "    <tr>\n",
       "      <th>2</th>\n",
       "      <td>0.655630</td>\n",
       "      <td>-1.841531</td>\n",
       "      <td>0.804052</td>\n",
       "      <td>2.357834</td>\n",
       "      <td>-4.326275</td>\n",
       "      <td>-0.973050</td>\n",
       "      <td>-4.126278</td>\n",
       "      <td>-6.036214</td>\n",
       "      <td>-3.200378</td>\n",
       "      <td>1.758776</td>\n",
       "      <td>...</td>\n",
       "      <td>0.240042</td>\n",
       "      <td>-1.137683</td>\n",
       "      <td>-0.927894</td>\n",
       "      <td>0.697630</td>\n",
       "      <td>0.631764</td>\n",
       "      <td>0.240156</td>\n",
       "      <td>0.139782</td>\n",
       "      <td>-1.452727</td>\n",
       "      <td>-3.469927</td>\n",
       "      <td>1.129929</td>\n",
       "    </tr>\n",
       "    <tr>\n",
       "      <th>3</th>\n",
       "      <td>-1.598327</td>\n",
       "      <td>1.024581</td>\n",
       "      <td>0.237928</td>\n",
       "      <td>1.391549</td>\n",
       "      <td>-0.488321</td>\n",
       "      <td>-1.089719</td>\n",
       "      <td>-3.627360</td>\n",
       "      <td>0.757025</td>\n",
       "      <td>-0.750550</td>\n",
       "      <td>1.952786</td>\n",
       "      <td>...</td>\n",
       "      <td>1.769143</td>\n",
       "      <td>0.310551</td>\n",
       "      <td>1.196544</td>\n",
       "      <td>1.108069</td>\n",
       "      <td>0.824942</td>\n",
       "      <td>0.480005</td>\n",
       "      <td>1.255185</td>\n",
       "      <td>-1.671230</td>\n",
       "      <td>3.642342</td>\n",
       "      <td>-1.862065</td>\n",
       "    </tr>\n",
       "    <tr>\n",
       "      <th>4</th>\n",
       "      <td>-1.079465</td>\n",
       "      <td>-0.613138</td>\n",
       "      <td>-2.654921</td>\n",
       "      <td>1.533515</td>\n",
       "      <td>1.009928</td>\n",
       "      <td>-0.910633</td>\n",
       "      <td>-0.973801</td>\n",
       "      <td>-1.726216</td>\n",
       "      <td>-2.431381</td>\n",
       "      <td>1.305569</td>\n",
       "      <td>...</td>\n",
       "      <td>0.724812</td>\n",
       "      <td>1.708111</td>\n",
       "      <td>-0.302242</td>\n",
       "      <td>0.858970</td>\n",
       "      <td>0.878317</td>\n",
       "      <td>-0.369408</td>\n",
       "      <td>0.278626</td>\n",
       "      <td>-2.291166</td>\n",
       "      <td>-0.044003</td>\n",
       "      <td>0.627598</td>\n",
       "    </tr>\n",
       "  </tbody>\n",
       "</table>\n",
       "<p>5 rows × 30 columns</p>\n",
       "</div>"
      ],
      "text/plain": [
       "         x1        x2        x3        x4        x5        x6        x7  \\\n",
       "0 -1.441439  0.997594  0.648819 -0.939605  1.757397  0.578914  2.427303   \n",
       "1 -5.142741  2.443795  0.596814 -5.863056  1.387833  0.481951  4.083274   \n",
       "2  0.655630 -1.841531  0.804052  2.357834 -4.326275 -0.973050 -4.126278   \n",
       "3 -1.598327  1.024581  0.237928  1.391549 -0.488321 -1.089719 -3.627360   \n",
       "4 -1.079465 -0.613138 -2.654921  1.533515  1.009928 -0.910633 -0.973801   \n",
       "\n",
       "         x8        x9       x10  ...       x21       x22       x23       x24  \\\n",
       "0 -2.051151  2.229941  4.161986  ... -1.479880 -0.348015 -0.607153 -1.081817   \n",
       "1 -0.973058  0.552966  2.620579  ... -0.743816 -0.382961 -0.274725 -0.832032   \n",
       "2 -6.036214 -3.200378  1.758776  ...  0.240042 -1.137683 -0.927894  0.697630   \n",
       "3  0.757025 -0.750550  1.952786  ...  1.769143  0.310551  1.196544  1.108069   \n",
       "4 -1.726216 -2.431381  1.305569  ...  0.724812  1.708111 -0.302242  0.858970   \n",
       "\n",
       "        x25       x26       x27       x28       x29       x30  \n",
       "0 -1.993413  1.533084 -1.496706  0.260757 -2.491703 -0.524571  \n",
       "1 -1.148192 -0.926654  0.970663 -0.673439  2.138809 -1.348287  \n",
       "2  0.631764  0.240156  0.139782 -1.452727 -3.469927  1.129929  \n",
       "3  0.824942  0.480005  1.255185 -1.671230  3.642342 -1.862065  \n",
       "4  0.878317 -0.369408  0.278626 -2.291166 -0.044003  0.627598  \n",
       "\n",
       "[5 rows x 30 columns]"
      ]
     },
     "execution_count": 6,
     "metadata": {},
     "output_type": "execute_result"
    }
   ],
   "source": [
    "import pandas as pd\n",
    "X = pd.DataFrame(X, columns=cols)\n",
    "X.head()"
   ]
  },
  {
   "cell_type": "code",
   "execution_count": 7,
   "metadata": {},
   "outputs": [
    {
     "data": {
      "text/html": [
       "<div>\n",
       "<style scoped>\n",
       "    .dataframe tbody tr th:only-of-type {\n",
       "        vertical-align: middle;\n",
       "    }\n",
       "\n",
       "    .dataframe tbody tr th {\n",
       "        vertical-align: top;\n",
       "    }\n",
       "\n",
       "    .dataframe thead th {\n",
       "        text-align: right;\n",
       "    }\n",
       "</style>\n",
       "<table border=\"1\" class=\"dataframe\">\n",
       "  <thead>\n",
       "    <tr style=\"text-align: right;\">\n",
       "      <th></th>\n",
       "      <th>y</th>\n",
       "    </tr>\n",
       "  </thead>\n",
       "  <tbody>\n",
       "    <tr>\n",
       "      <th>0</th>\n",
       "      <td>2</td>\n",
       "    </tr>\n",
       "    <tr>\n",
       "      <th>1</th>\n",
       "      <td>2</td>\n",
       "    </tr>\n",
       "    <tr>\n",
       "      <th>2</th>\n",
       "      <td>0</td>\n",
       "    </tr>\n",
       "    <tr>\n",
       "      <th>3</th>\n",
       "      <td>0</td>\n",
       "    </tr>\n",
       "    <tr>\n",
       "      <th>4</th>\n",
       "      <td>0</td>\n",
       "    </tr>\n",
       "  </tbody>\n",
       "</table>\n",
       "</div>"
      ],
      "text/plain": [
       "   y\n",
       "0  2\n",
       "1  2\n",
       "2  0\n",
       "3  0\n",
       "4  0"
      ]
     },
     "execution_count": 7,
     "metadata": {},
     "output_type": "execute_result"
    }
   ],
   "source": [
    "Y = pd.DataFrame(Y,columns=['y'])\n",
    "Y.head()"
   ]
  },
  {
   "cell_type": "markdown",
   "metadata": {},
   "source": [
    "## One Hot encode target feature"
   ]
  },
  {
   "cell_type": "code",
   "execution_count": 8,
   "metadata": {},
   "outputs": [],
   "source": [
    "# One Hot Encode Targe feature\n",
    "from keras.utils import to_categorical\n",
    "Y_cat = to_categorical(Y)"
   ]
  },
  {
   "cell_type": "code",
   "execution_count": 9,
   "metadata": {},
   "outputs": [
    {
     "data": {
      "text/plain": [
       "array([[0., 0., 1.],\n",
       "       [0., 0., 1.],\n",
       "       [1., 0., 0.],\n",
       "       ...,\n",
       "       [0., 1., 0.],\n",
       "       [1., 0., 0.],\n",
       "       [0., 0., 1.]], dtype=float32)"
      ]
     },
     "execution_count": 9,
     "metadata": {},
     "output_type": "execute_result"
    }
   ],
   "source": [
    "Y_cat"
   ]
  },
  {
   "cell_type": "markdown",
   "metadata": {},
   "source": [
    "### Preprocessing pipeline"
   ]
  },
  {
   "cell_type": "code",
   "execution_count": 10,
   "metadata": {},
   "outputs": [],
   "source": [
    "from sklearn.pipeline import Pipeline\n",
    "from sklearn.impute import SimpleImputer\n",
    "from sklearn.preprocessing import StandardScaler"
   ]
  },
  {
   "cell_type": "code",
   "execution_count": 11,
   "metadata": {},
   "outputs": [],
   "source": [
    "num_pipe = Pipeline(steps=[('imputer',SimpleImputer(strategy='mean')),\n",
    "                           ('scaler',StandardScaler())])"
   ]
  },
  {
   "cell_type": "code",
   "execution_count": 12,
   "metadata": {},
   "outputs": [
    {
     "data": {
      "text/plain": [
       "array([[-0.52671961,  0.27230193,  0.65623137, ...,  0.23135323,\n",
       "        -0.25895458, -0.52958856],\n",
       "       [-1.93121764,  0.87478938,  0.6049309 , ..., -0.14098636,\n",
       "         0.73357158, -1.35982943],\n",
       "       [ 0.269035  , -0.91047798,  0.80936035, ..., -0.45158456,\n",
       "        -0.46863176,  1.13801631],\n",
       "       ...,\n",
       "       [ 1.58610611, -1.95426419, -0.23936264, ...,  0.01287038,\n",
       "         1.8375362 , -1.19122665],\n",
       "       [-0.2492049 ,  1.49832908,  1.83025067, ...,  1.43986566,\n",
       "         1.75733535,  0.80775901],\n",
       "       [ 0.4942302 ,  1.49110574, -0.03998164, ..., -0.91387541,\n",
       "        -0.41399194, -0.04970478]])"
      ]
     },
     "execution_count": 12,
     "metadata": {},
     "output_type": "execute_result"
    }
   ],
   "source": [
    "X_pre = num_pipe.fit_transform(X)\n",
    "X_pre"
   ]
  },
  {
   "cell_type": "code",
   "execution_count": 13,
   "metadata": {},
   "outputs": [
    {
     "data": {
      "text/html": [
       "<div>\n",
       "<style scoped>\n",
       "    .dataframe tbody tr th:only-of-type {\n",
       "        vertical-align: middle;\n",
       "    }\n",
       "\n",
       "    .dataframe tbody tr th {\n",
       "        vertical-align: top;\n",
       "    }\n",
       "\n",
       "    .dataframe thead th {\n",
       "        text-align: right;\n",
       "    }\n",
       "</style>\n",
       "<table border=\"1\" class=\"dataframe\">\n",
       "  <thead>\n",
       "    <tr style=\"text-align: right;\">\n",
       "      <th></th>\n",
       "      <th>x1</th>\n",
       "      <th>x2</th>\n",
       "      <th>x3</th>\n",
       "      <th>x4</th>\n",
       "      <th>x5</th>\n",
       "      <th>x6</th>\n",
       "      <th>x7</th>\n",
       "      <th>x8</th>\n",
       "      <th>x9</th>\n",
       "      <th>x10</th>\n",
       "      <th>...</th>\n",
       "      <th>x21</th>\n",
       "      <th>x22</th>\n",
       "      <th>x23</th>\n",
       "      <th>x24</th>\n",
       "      <th>x25</th>\n",
       "      <th>x26</th>\n",
       "      <th>x27</th>\n",
       "      <th>x28</th>\n",
       "      <th>x29</th>\n",
       "      <th>x30</th>\n",
       "    </tr>\n",
       "  </thead>\n",
       "  <tbody>\n",
       "    <tr>\n",
       "      <th>0</th>\n",
       "      <td>-0.526720</td>\n",
       "      <td>0.272302</td>\n",
       "      <td>0.656231</td>\n",
       "      <td>-0.225921</td>\n",
       "      <td>0.751405</td>\n",
       "      <td>0.574286</td>\n",
       "      <td>1.249114</td>\n",
       "      <td>-0.570934</td>\n",
       "      <td>0.927751</td>\n",
       "      <td>1.673181</td>\n",
       "      <td>...</td>\n",
       "      <td>-1.489109</td>\n",
       "      <td>-0.340353</td>\n",
       "      <td>-0.625233</td>\n",
       "      <td>-1.075979</td>\n",
       "      <td>-0.827133</td>\n",
       "      <td>1.529565</td>\n",
       "      <td>-1.530454</td>\n",
       "      <td>0.231353</td>\n",
       "      <td>-0.258955</td>\n",
       "      <td>-0.529589</td>\n",
       "    </tr>\n",
       "    <tr>\n",
       "      <th>1</th>\n",
       "      <td>-1.931218</td>\n",
       "      <td>0.874789</td>\n",
       "      <td>0.604931</td>\n",
       "      <td>-2.081035</td>\n",
       "      <td>0.592913</td>\n",
       "      <td>0.476724</td>\n",
       "      <td>2.000062</td>\n",
       "      <td>-0.120260</td>\n",
       "      <td>0.223806</td>\n",
       "      <td>0.998535</td>\n",
       "      <td>...</td>\n",
       "      <td>-0.752340</td>\n",
       "      <td>-0.375454</td>\n",
       "      <td>-0.294869</td>\n",
       "      <td>-0.826403</td>\n",
       "      <td>-0.483039</td>\n",
       "      <td>-0.934985</td>\n",
       "      <td>0.957838</td>\n",
       "      <td>-0.140986</td>\n",
       "      <td>0.733572</td>\n",
       "      <td>-1.359829</td>\n",
       "    </tr>\n",
       "    <tr>\n",
       "      <th>2</th>\n",
       "      <td>0.269035</td>\n",
       "      <td>-0.910478</td>\n",
       "      <td>0.809360</td>\n",
       "      <td>1.016526</td>\n",
       "      <td>-1.857657</td>\n",
       "      <td>-0.987252</td>\n",
       "      <td>-1.722796</td>\n",
       "      <td>-2.236805</td>\n",
       "      <td>-1.351737</td>\n",
       "      <td>0.621340</td>\n",
       "      <td>...</td>\n",
       "      <td>0.232462</td>\n",
       "      <td>-1.133510</td>\n",
       "      <td>-0.943983</td>\n",
       "      <td>0.701980</td>\n",
       "      <td>0.241593</td>\n",
       "      <td>0.234107</td>\n",
       "      <td>0.119910</td>\n",
       "      <td>-0.451585</td>\n",
       "      <td>-0.468632</td>\n",
       "      <td>1.138016</td>\n",
       "    </tr>\n",
       "    <tr>\n",
       "      <th>3</th>\n",
       "      <td>-0.586253</td>\n",
       "      <td>0.283545</td>\n",
       "      <td>0.250910</td>\n",
       "      <td>0.652438</td>\n",
       "      <td>-0.211700</td>\n",
       "      <td>-1.104641</td>\n",
       "      <td>-1.496547</td>\n",
       "      <td>0.602964</td>\n",
       "      <td>-0.323371</td>\n",
       "      <td>0.706255</td>\n",
       "      <td>...</td>\n",
       "      <td>1.763030</td>\n",
       "      <td>0.321121</td>\n",
       "      <td>1.167266</td>\n",
       "      <td>1.112076</td>\n",
       "      <td>0.320237</td>\n",
       "      <td>0.474425</td>\n",
       "      <td>1.244772</td>\n",
       "      <td>-0.538672</td>\n",
       "      <td>1.055846</td>\n",
       "      <td>-1.877677</td>\n",
       "    </tr>\n",
       "    <tr>\n",
       "      <th>4</th>\n",
       "      <td>-0.389365</td>\n",
       "      <td>-0.398729</td>\n",
       "      <td>-2.602729</td>\n",
       "      <td>0.705930</td>\n",
       "      <td>0.430843</td>\n",
       "      <td>-0.924450</td>\n",
       "      <td>-0.293215</td>\n",
       "      <td>-0.435102</td>\n",
       "      <td>-1.028935</td>\n",
       "      <td>0.422980</td>\n",
       "      <td>...</td>\n",
       "      <td>0.717698</td>\n",
       "      <td>1.724856</td>\n",
       "      <td>-0.322215</td>\n",
       "      <td>0.863185</td>\n",
       "      <td>0.341966</td>\n",
       "      <td>-0.376649</td>\n",
       "      <td>0.259932</td>\n",
       "      <td>-0.785758</td>\n",
       "      <td>0.265697</td>\n",
       "      <td>0.631707</td>\n",
       "    </tr>\n",
       "    <tr>\n",
       "      <th>...</th>\n",
       "      <td>...</td>\n",
       "      <td>...</td>\n",
       "      <td>...</td>\n",
       "      <td>...</td>\n",
       "      <td>...</td>\n",
       "      <td>...</td>\n",
       "      <td>...</td>\n",
       "      <td>...</td>\n",
       "      <td>...</td>\n",
       "      <td>...</td>\n",
       "      <td>...</td>\n",
       "      <td>...</td>\n",
       "      <td>...</td>\n",
       "      <td>...</td>\n",
       "      <td>...</td>\n",
       "      <td>...</td>\n",
       "      <td>...</td>\n",
       "      <td>...</td>\n",
       "      <td>...</td>\n",
       "      <td>...</td>\n",
       "      <td>...</td>\n",
       "    </tr>\n",
       "    <tr>\n",
       "      <th>5995</th>\n",
       "      <td>-0.492894</td>\n",
       "      <td>0.401955</td>\n",
       "      <td>-0.272049</td>\n",
       "      <td>-1.514929</td>\n",
       "      <td>1.378480</td>\n",
       "      <td>-1.431636</td>\n",
       "      <td>0.900758</td>\n",
       "      <td>-0.055414</td>\n",
       "      <td>-0.555541</td>\n",
       "      <td>0.511672</td>\n",
       "      <td>...</td>\n",
       "      <td>-0.451408</td>\n",
       "      <td>-0.303729</td>\n",
       "      <td>0.548324</td>\n",
       "      <td>-1.119441</td>\n",
       "      <td>-0.204855</td>\n",
       "      <td>0.843833</td>\n",
       "      <td>-0.609540</td>\n",
       "      <td>-0.296115</td>\n",
       "      <td>-0.145897</td>\n",
       "      <td>0.134450</td>\n",
       "    </tr>\n",
       "    <tr>\n",
       "      <th>5996</th>\n",
       "      <td>-0.194481</td>\n",
       "      <td>0.179532</td>\n",
       "      <td>1.776192</td>\n",
       "      <td>0.394610</td>\n",
       "      <td>-0.188197</td>\n",
       "      <td>0.761528</td>\n",
       "      <td>0.807500</td>\n",
       "      <td>1.545477</td>\n",
       "      <td>-0.547269</td>\n",
       "      <td>-1.399177</td>\n",
       "      <td>...</td>\n",
       "      <td>0.869606</td>\n",
       "      <td>-0.278598</td>\n",
       "      <td>-0.651923</td>\n",
       "      <td>0.078641</td>\n",
       "      <td>1.192585</td>\n",
       "      <td>-1.958489</td>\n",
       "      <td>1.757138</td>\n",
       "      <td>1.256771</td>\n",
       "      <td>1.072181</td>\n",
       "      <td>0.546948</td>\n",
       "    </tr>\n",
       "    <tr>\n",
       "      <th>5997</th>\n",
       "      <td>1.586106</td>\n",
       "      <td>-1.954264</td>\n",
       "      <td>-0.239363</td>\n",
       "      <td>1.577404</td>\n",
       "      <td>1.820098</td>\n",
       "      <td>-1.790333</td>\n",
       "      <td>2.186171</td>\n",
       "      <td>0.728098</td>\n",
       "      <td>0.394889</td>\n",
       "      <td>0.061157</td>\n",
       "      <td>...</td>\n",
       "      <td>1.879956</td>\n",
       "      <td>-0.167211</td>\n",
       "      <td>1.006957</td>\n",
       "      <td>0.936831</td>\n",
       "      <td>0.674192</td>\n",
       "      <td>0.744569</td>\n",
       "      <td>-0.388232</td>\n",
       "      <td>0.012870</td>\n",
       "      <td>1.837536</td>\n",
       "      <td>-1.191227</td>\n",
       "    </tr>\n",
       "    <tr>\n",
       "      <th>5998</th>\n",
       "      <td>-0.249205</td>\n",
       "      <td>1.498329</td>\n",
       "      <td>1.830251</td>\n",
       "      <td>1.131158</td>\n",
       "      <td>-0.207717</td>\n",
       "      <td>-0.265529</td>\n",
       "      <td>2.078287</td>\n",
       "      <td>0.274412</td>\n",
       "      <td>-0.762612</td>\n",
       "      <td>-0.154087</td>\n",
       "      <td>...</td>\n",
       "      <td>0.827674</td>\n",
       "      <td>-2.085527</td>\n",
       "      <td>-1.632159</td>\n",
       "      <td>-0.555308</td>\n",
       "      <td>0.727176</td>\n",
       "      <td>1.024927</td>\n",
       "      <td>-2.147435</td>\n",
       "      <td>1.439866</td>\n",
       "      <td>1.757335</td>\n",
       "      <td>0.807759</td>\n",
       "    </tr>\n",
       "    <tr>\n",
       "      <th>5999</th>\n",
       "      <td>0.494230</td>\n",
       "      <td>1.491106</td>\n",
       "      <td>-0.039982</td>\n",
       "      <td>0.411921</td>\n",
       "      <td>-1.057853</td>\n",
       "      <td>1.135627</td>\n",
       "      <td>0.077095</td>\n",
       "      <td>0.056388</td>\n",
       "      <td>-1.946825</td>\n",
       "      <td>-0.772791</td>\n",
       "      <td>...</td>\n",
       "      <td>-0.782059</td>\n",
       "      <td>-1.682435</td>\n",
       "      <td>0.809573</td>\n",
       "      <td>0.144614</td>\n",
       "      <td>-0.613233</td>\n",
       "      <td>1.358886</td>\n",
       "      <td>-0.753570</td>\n",
       "      <td>-0.913875</td>\n",
       "      <td>-0.413992</td>\n",
       "      <td>-0.049705</td>\n",
       "    </tr>\n",
       "  </tbody>\n",
       "</table>\n",
       "<p>6000 rows × 30 columns</p>\n",
       "</div>"
      ],
      "text/plain": [
       "            x1        x2        x3        x4        x5        x6        x7  \\\n",
       "0    -0.526720  0.272302  0.656231 -0.225921  0.751405  0.574286  1.249114   \n",
       "1    -1.931218  0.874789  0.604931 -2.081035  0.592913  0.476724  2.000062   \n",
       "2     0.269035 -0.910478  0.809360  1.016526 -1.857657 -0.987252 -1.722796   \n",
       "3    -0.586253  0.283545  0.250910  0.652438 -0.211700 -1.104641 -1.496547   \n",
       "4    -0.389365 -0.398729 -2.602729  0.705930  0.430843 -0.924450 -0.293215   \n",
       "...        ...       ...       ...       ...       ...       ...       ...   \n",
       "5995 -0.492894  0.401955 -0.272049 -1.514929  1.378480 -1.431636  0.900758   \n",
       "5996 -0.194481  0.179532  1.776192  0.394610 -0.188197  0.761528  0.807500   \n",
       "5997  1.586106 -1.954264 -0.239363  1.577404  1.820098 -1.790333  2.186171   \n",
       "5998 -0.249205  1.498329  1.830251  1.131158 -0.207717 -0.265529  2.078287   \n",
       "5999  0.494230  1.491106 -0.039982  0.411921 -1.057853  1.135627  0.077095   \n",
       "\n",
       "            x8        x9       x10  ...       x21       x22       x23  \\\n",
       "0    -0.570934  0.927751  1.673181  ... -1.489109 -0.340353 -0.625233   \n",
       "1    -0.120260  0.223806  0.998535  ... -0.752340 -0.375454 -0.294869   \n",
       "2    -2.236805 -1.351737  0.621340  ...  0.232462 -1.133510 -0.943983   \n",
       "3     0.602964 -0.323371  0.706255  ...  1.763030  0.321121  1.167266   \n",
       "4    -0.435102 -1.028935  0.422980  ...  0.717698  1.724856 -0.322215   \n",
       "...        ...       ...       ...  ...       ...       ...       ...   \n",
       "5995 -0.055414 -0.555541  0.511672  ... -0.451408 -0.303729  0.548324   \n",
       "5996  1.545477 -0.547269 -1.399177  ...  0.869606 -0.278598 -0.651923   \n",
       "5997  0.728098  0.394889  0.061157  ...  1.879956 -0.167211  1.006957   \n",
       "5998  0.274412 -0.762612 -0.154087  ...  0.827674 -2.085527 -1.632159   \n",
       "5999  0.056388 -1.946825 -0.772791  ... -0.782059 -1.682435  0.809573   \n",
       "\n",
       "           x24       x25       x26       x27       x28       x29       x30  \n",
       "0    -1.075979 -0.827133  1.529565 -1.530454  0.231353 -0.258955 -0.529589  \n",
       "1    -0.826403 -0.483039 -0.934985  0.957838 -0.140986  0.733572 -1.359829  \n",
       "2     0.701980  0.241593  0.234107  0.119910 -0.451585 -0.468632  1.138016  \n",
       "3     1.112076  0.320237  0.474425  1.244772 -0.538672  1.055846 -1.877677  \n",
       "4     0.863185  0.341966 -0.376649  0.259932 -0.785758  0.265697  0.631707  \n",
       "...        ...       ...       ...       ...       ...       ...       ...  \n",
       "5995 -1.119441 -0.204855  0.843833 -0.609540 -0.296115 -0.145897  0.134450  \n",
       "5996  0.078641  1.192585 -1.958489  1.757138  1.256771  1.072181  0.546948  \n",
       "5997  0.936831  0.674192  0.744569 -0.388232  0.012870  1.837536 -1.191227  \n",
       "5998 -0.555308  0.727176  1.024927 -2.147435  1.439866  1.757335  0.807759  \n",
       "5999  0.144614 -0.613233  1.358886 -0.753570 -0.913875 -0.413992 -0.049705  \n",
       "\n",
       "[6000 rows x 30 columns]"
      ]
     },
     "execution_count": 13,
     "metadata": {},
     "output_type": "execute_result"
    }
   ],
   "source": [
    "X_pre = pd.DataFrame(X_pre,columns=num_pipe.get_feature_names_out())\n",
    "X_pre"
   ]
  },
  {
   "cell_type": "markdown",
   "metadata": {},
   "source": [
    "### Train Test Split"
   ]
  },
  {
   "cell_type": "code",
   "execution_count": 14,
   "metadata": {},
   "outputs": [],
   "source": [
    "from sklearn.model_selection import train_test_split\n",
    "xtrain, xtest, ytrain, ytest = train_test_split(X_pre,Y_cat, test_size=0.2, random_state=57)"
   ]
  },
  {
   "cell_type": "code",
   "execution_count": 15,
   "metadata": {},
   "outputs": [
    {
     "data": {
      "text/plain": [
       "(4800, 30)"
      ]
     },
     "execution_count": 15,
     "metadata": {},
     "output_type": "execute_result"
    }
   ],
   "source": [
    "xtrain.shape"
   ]
  },
  {
   "cell_type": "code",
   "execution_count": 16,
   "metadata": {},
   "outputs": [
    {
     "data": {
      "text/plain": [
       "(1200, 30)"
      ]
     },
     "execution_count": 16,
     "metadata": {},
     "output_type": "execute_result"
    }
   ],
   "source": [
    "xtest.shape"
   ]
  },
  {
   "cell_type": "markdown",
   "metadata": {},
   "source": [
    "## Creating a base neural network"
   ]
  },
  {
   "attachments": {
    "image.png": {
     "image/png": "[encoded data removed]"
    }
   },
   "cell_type": "markdown",
   "metadata": {},
   "source": [
    "![image.png](attachment:image.png)"
   ]
  },
  {
   "cell_type": "code",
   "execution_count": 17,
   "metadata": {},
   "outputs": [],
   "source": [
    "from keras.models import Sequential\n",
    "from keras.layers import Dense"
   ]
  },
  {
   "cell_type": "code",
   "execution_count": 18,
   "metadata": {},
   "outputs": [],
   "source": [
    "model1 = Sequential()\n",
    "\n",
    "# Hidden Layer 1\n",
    "model1.add(Dense(64,activation='relu',input_dim=xtrain.shape[1]))\n",
    "\n",
    "# Hidden Layer 2\n",
    "model1.add(Dense(32,activation='relu'))\n",
    "\n",
    "# Outuput Layer\n",
    "model1.add(Dense(3,activation='softmax'))\n"
   ]
  },
  {
   "cell_type": "code",
   "execution_count": 19,
   "metadata": {},
   "outputs": [
    {
     "name": "stdout",
     "output_type": "stream",
     "text": [
      "Model: \"sequential\"\n",
      "_________________________________________________________________\n",
      " Layer (type)                Output Shape              Param #   \n",
      "=================================================================\n",
      " dense (Dense)               (None, 64)                1984      \n",
      "                                                                 \n",
      " dense_1 (Dense)             (None, 32)                2080      \n",
      "                                                                 \n",
      " dense_2 (Dense)             (None, 3)                 99        \n",
      "                                                                 \n",
      "=================================================================\n",
      "Total params: 4163 (16.26 KB)\n",
      "Trainable params: 4163 (16.26 KB)\n",
      "Non-trainable params: 0 (0.00 Byte)\n",
      "_________________________________________________________________\n"
     ]
    }
   ],
   "source": [
    "# Model Summary\n",
    "model1.summary()"
   ]
  },
  {
   "cell_type": "markdown",
   "metadata": {},
   "source": [
    "## Compile the model"
   ]
  },
  {
   "cell_type": "code",
   "execution_count": 20,
   "metadata": {},
   "outputs": [],
   "source": [
    "model1.compile(optimizer='adam', loss='categorical_crossentropy', metrics=['accuracy'])"
   ]
  },
  {
   "cell_type": "markdown",
   "metadata": {},
   "source": [
    "## Fit the model"
   ]
  },
  {
   "cell_type": "code",
   "execution_count": 21,
   "metadata": {},
   "outputs": [
    {
     "name": "stdout",
     "output_type": "stream",
     "text": [
      "Epoch 1/100\n"
     ]
    },
    {
     "name": "stdout",
     "output_type": "stream",
     "text": [
      "120/120 [==============================] - 1s 2ms/step - loss: 0.8875 - accuracy: 0.5865 - val_loss: 0.6943 - val_accuracy: 0.7188\n",
      "Epoch 2/100\n",
      "120/120 [==============================] - 0s 1ms/step - loss: 0.6118 - accuracy: 0.7479 - val_loss: 0.5523 - val_accuracy: 0.7698\n",
      "Epoch 3/100\n",
      "120/120 [==============================] - 0s 1ms/step - loss: 0.4868 - accuracy: 0.8102 - val_loss: 0.4793 - val_accuracy: 0.8104\n",
      "Epoch 4/100\n",
      "120/120 [==============================] - 0s 1ms/step - loss: 0.4027 - accuracy: 0.8542 - val_loss: 0.4183 - val_accuracy: 0.8375\n",
      "Epoch 5/100\n",
      "120/120 [==============================] - 0s 1ms/step - loss: 0.3398 - accuracy: 0.8792 - val_loss: 0.3821 - val_accuracy: 0.8562\n",
      "Epoch 6/100\n",
      "120/120 [==============================] - 0s 1ms/step - loss: 0.2909 - accuracy: 0.9070 - val_loss: 0.3555 - val_accuracy: 0.8698\n",
      "Epoch 7/100\n",
      "120/120 [==============================] - 0s 1ms/step - loss: 0.2539 - accuracy: 0.9177 - val_loss: 0.3380 - val_accuracy: 0.8813\n",
      "Epoch 8/100\n",
      "120/120 [==============================] - 0s 1ms/step - loss: 0.2272 - accuracy: 0.9312 - val_loss: 0.3211 - val_accuracy: 0.8896\n",
      "Epoch 9/100\n",
      "120/120 [==============================] - 0s 1ms/step - loss: 0.2049 - accuracy: 0.9383 - val_loss: 0.3212 - val_accuracy: 0.8813\n",
      "Epoch 10/100\n",
      "120/120 [==============================] - 0s 1ms/step - loss: 0.1872 - accuracy: 0.9464 - val_loss: 0.3086 - val_accuracy: 0.8865\n",
      "Epoch 11/100\n",
      "120/120 [==============================] - 0s 1ms/step - loss: 0.1688 - accuracy: 0.9529 - val_loss: 0.3186 - val_accuracy: 0.8854\n",
      "Epoch 12/100\n",
      "120/120 [==============================] - 0s 1ms/step - loss: 0.1547 - accuracy: 0.9578 - val_loss: 0.3083 - val_accuracy: 0.8917\n",
      "Epoch 13/100\n",
      "120/120 [==============================] - 0s 1ms/step - loss: 0.1426 - accuracy: 0.9625 - val_loss: 0.3091 - val_accuracy: 0.8927\n",
      "Epoch 14/100\n",
      "120/120 [==============================] - 0s 1ms/step - loss: 0.1339 - accuracy: 0.9685 - val_loss: 0.2990 - val_accuracy: 0.8979\n",
      "Epoch 15/100\n",
      "120/120 [==============================] - 0s 1ms/step - loss: 0.1225 - accuracy: 0.9719 - val_loss: 0.3126 - val_accuracy: 0.9021\n",
      "Epoch 16/100\n",
      "120/120 [==============================] - 0s 1ms/step - loss: 0.1137 - accuracy: 0.9721 - val_loss: 0.3075 - val_accuracy: 0.8969\n",
      "Epoch 17/100\n",
      "120/120 [==============================] - 0s 1ms/step - loss: 0.1052 - accuracy: 0.9799 - val_loss: 0.3113 - val_accuracy: 0.8990\n",
      "Epoch 18/100\n",
      "120/120 [==============================] - 0s 1ms/step - loss: 0.0973 - accuracy: 0.9792 - val_loss: 0.3132 - val_accuracy: 0.8969\n",
      "Epoch 19/100\n",
      "120/120 [==============================] - 0s 1ms/step - loss: 0.0931 - accuracy: 0.9815 - val_loss: 0.3225 - val_accuracy: 0.8917\n",
      "Epoch 20/100\n",
      "120/120 [==============================] - 0s 1ms/step - loss: 0.0868 - accuracy: 0.9820 - val_loss: 0.3230 - val_accuracy: 0.8990\n",
      "Epoch 21/100\n",
      "120/120 [==============================] - 0s 1ms/step - loss: 0.0811 - accuracy: 0.9836 - val_loss: 0.3227 - val_accuracy: 0.8948\n",
      "Epoch 22/100\n",
      "120/120 [==============================] - 0s 1ms/step - loss: 0.0780 - accuracy: 0.9854 - val_loss: 0.3448 - val_accuracy: 0.8948\n",
      "Epoch 23/100\n",
      "120/120 [==============================] - 0s 1ms/step - loss: 0.0708 - accuracy: 0.9852 - val_loss: 0.3372 - val_accuracy: 0.9021\n",
      "Epoch 24/100\n",
      "120/120 [==============================] - 0s 1ms/step - loss: 0.0666 - accuracy: 0.9872 - val_loss: 0.3403 - val_accuracy: 0.9031\n",
      "Epoch 25/100\n",
      "120/120 [==============================] - 0s 1ms/step - loss: 0.0608 - accuracy: 0.9885 - val_loss: 0.3481 - val_accuracy: 0.8979\n",
      "Epoch 26/100\n",
      "120/120 [==============================] - 0s 1ms/step - loss: 0.0549 - accuracy: 0.9891 - val_loss: 0.3777 - val_accuracy: 0.8927\n",
      "Epoch 27/100\n",
      "120/120 [==============================] - 0s 1ms/step - loss: 0.0516 - accuracy: 0.9917 - val_loss: 0.3609 - val_accuracy: 0.8938\n",
      "Epoch 28/100\n",
      "120/120 [==============================] - 0s 1ms/step - loss: 0.0475 - accuracy: 0.9930 - val_loss: 0.3782 - val_accuracy: 0.8938\n",
      "Epoch 29/100\n",
      "120/120 [==============================] - 0s 1ms/step - loss: 0.0440 - accuracy: 0.9940 - val_loss: 0.3674 - val_accuracy: 0.9000\n",
      "Epoch 30/100\n",
      "120/120 [==============================] - 0s 1ms/step - loss: 0.0400 - accuracy: 0.9940 - val_loss: 0.3821 - val_accuracy: 0.8906\n",
      "Epoch 31/100\n",
      "120/120 [==============================] - 0s 1ms/step - loss: 0.0365 - accuracy: 0.9951 - val_loss: 0.3856 - val_accuracy: 0.8927\n",
      "Epoch 32/100\n",
      "120/120 [==============================] - 0s 1ms/step - loss: 0.0350 - accuracy: 0.9951 - val_loss: 0.4001 - val_accuracy: 0.8917\n",
      "Epoch 33/100\n",
      "120/120 [==============================] - 0s 1ms/step - loss: 0.0310 - accuracy: 0.9961 - val_loss: 0.4127 - val_accuracy: 0.8885\n",
      "Epoch 34/100\n",
      "120/120 [==============================] - 0s 1ms/step - loss: 0.0297 - accuracy: 0.9951 - val_loss: 0.4174 - val_accuracy: 0.8917\n",
      "Epoch 35/100\n",
      "120/120 [==============================] - 0s 1ms/step - loss: 0.0272 - accuracy: 0.9966 - val_loss: 0.4124 - val_accuracy: 0.8885\n",
      "Epoch 36/100\n",
      "120/120 [==============================] - 0s 1ms/step - loss: 0.0240 - accuracy: 0.9979 - val_loss: 0.4349 - val_accuracy: 0.8917\n",
      "Epoch 37/100\n",
      "120/120 [==============================] - 0s 1ms/step - loss: 0.0220 - accuracy: 0.9971 - val_loss: 0.4443 - val_accuracy: 0.8823\n",
      "Epoch 38/100\n",
      "120/120 [==============================] - 0s 1ms/step - loss: 0.0208 - accuracy: 0.9982 - val_loss: 0.4481 - val_accuracy: 0.8906\n",
      "Epoch 39/100\n",
      "120/120 [==============================] - 0s 1ms/step - loss: 0.0196 - accuracy: 0.9974 - val_loss: 0.4595 - val_accuracy: 0.8906\n",
      "Epoch 40/100\n",
      "120/120 [==============================] - 0s 1ms/step - loss: 0.0184 - accuracy: 0.9990 - val_loss: 0.4459 - val_accuracy: 0.8958\n",
      "Epoch 41/100\n",
      "120/120 [==============================] - 0s 1ms/step - loss: 0.0160 - accuracy: 0.9987 - val_loss: 0.4592 - val_accuracy: 0.8938\n",
      "Epoch 42/100\n",
      "120/120 [==============================] - 0s 1ms/step - loss: 0.0128 - accuracy: 0.9995 - val_loss: 0.4641 - val_accuracy: 0.8885\n",
      "Epoch 43/100\n",
      "120/120 [==============================] - 0s 1ms/step - loss: 0.0118 - accuracy: 0.9995 - val_loss: 0.4754 - val_accuracy: 0.8885\n",
      "Epoch 44/100\n",
      "120/120 [==============================] - 0s 1ms/step - loss: 0.0114 - accuracy: 0.9997 - val_loss: 0.4723 - val_accuracy: 0.8906\n",
      "Epoch 45/100\n",
      "120/120 [==============================] - 0s 1ms/step - loss: 0.0100 - accuracy: 0.9997 - val_loss: 0.4811 - val_accuracy: 0.8938\n",
      "Epoch 46/100\n",
      "120/120 [==============================] - 0s 1ms/step - loss: 0.0103 - accuracy: 0.9992 - val_loss: 0.5035 - val_accuracy: 0.8938\n",
      "Epoch 47/100\n",
      "120/120 [==============================] - 0s 1ms/step - loss: 0.0083 - accuracy: 1.0000 - val_loss: 0.4935 - val_accuracy: 0.8875\n",
      "Epoch 48/100\n",
      "120/120 [==============================] - 0s 1ms/step - loss: 0.0070 - accuracy: 1.0000 - val_loss: 0.5088 - val_accuracy: 0.8917\n",
      "Epoch 49/100\n",
      "120/120 [==============================] - 0s 1ms/step - loss: 0.0068 - accuracy: 0.9997 - val_loss: 0.5086 - val_accuracy: 0.8906\n",
      "Epoch 50/100\n",
      "120/120 [==============================] - 0s 1ms/step - loss: 0.0059 - accuracy: 1.0000 - val_loss: 0.5184 - val_accuracy: 0.8917\n",
      "Epoch 51/100\n",
      "120/120 [==============================] - 0s 1ms/step - loss: 0.0075 - accuracy: 0.9992 - val_loss: 0.5588 - val_accuracy: 0.8833\n",
      "Epoch 52/100\n",
      "120/120 [==============================] - 0s 1ms/step - loss: 0.0118 - accuracy: 0.9979 - val_loss: 0.5269 - val_accuracy: 0.8854\n",
      "Epoch 53/100\n",
      "120/120 [==============================] - 0s 1ms/step - loss: 0.0069 - accuracy: 1.0000 - val_loss: 0.5275 - val_accuracy: 0.8844\n",
      "Epoch 54/100\n",
      "120/120 [==============================] - 0s 1ms/step - loss: 0.0053 - accuracy: 1.0000 - val_loss: 0.5408 - val_accuracy: 0.8896\n",
      "Epoch 55/100\n",
      "120/120 [==============================] - 0s 1ms/step - loss: 0.0039 - accuracy: 1.0000 - val_loss: 0.5463 - val_accuracy: 0.8917\n",
      "Epoch 56/100\n",
      "120/120 [==============================] - 0s 1ms/step - loss: 0.0032 - accuracy: 1.0000 - val_loss: 0.5579 - val_accuracy: 0.8948\n",
      "Epoch 57/100\n",
      "120/120 [==============================] - 0s 1ms/step - loss: 0.0031 - accuracy: 1.0000 - val_loss: 0.5519 - val_accuracy: 0.8927\n",
      "Epoch 58/100\n",
      "120/120 [==============================] - 0s 1ms/step - loss: 0.0034 - accuracy: 1.0000 - val_loss: 0.5641 - val_accuracy: 0.8896\n",
      "Epoch 59/100\n",
      "120/120 [==============================] - 0s 1ms/step - loss: 0.0025 - accuracy: 1.0000 - val_loss: 0.5660 - val_accuracy: 0.8958\n",
      "Epoch 60/100\n",
      "120/120 [==============================] - 0s 1ms/step - loss: 0.0023 - accuracy: 1.0000 - val_loss: 0.5760 - val_accuracy: 0.8958\n",
      "Epoch 61/100\n",
      "120/120 [==============================] - 0s 1ms/step - loss: 0.0022 - accuracy: 1.0000 - val_loss: 0.6020 - val_accuracy: 0.8885\n",
      "Epoch 62/100\n",
      "120/120 [==============================] - 0s 1ms/step - loss: 0.0022 - accuracy: 1.0000 - val_loss: 0.5936 - val_accuracy: 0.8906\n",
      "Epoch 63/100\n",
      "120/120 [==============================] - 0s 1ms/step - loss: 0.0018 - accuracy: 1.0000 - val_loss: 0.6026 - val_accuracy: 0.8896\n",
      "Epoch 64/100\n",
      "120/120 [==============================] - 0s 1ms/step - loss: 0.0017 - accuracy: 1.0000 - val_loss: 0.5972 - val_accuracy: 0.8938\n",
      "Epoch 65/100\n",
      "120/120 [==============================] - 0s 1ms/step - loss: 0.0015 - accuracy: 1.0000 - val_loss: 0.6147 - val_accuracy: 0.8906\n",
      "Epoch 66/100\n",
      "120/120 [==============================] - 0s 1ms/step - loss: 0.0015 - accuracy: 1.0000 - val_loss: 0.6068 - val_accuracy: 0.8958\n",
      "Epoch 67/100\n",
      "120/120 [==============================] - 0s 1ms/step - loss: 0.0015 - accuracy: 1.0000 - val_loss: 0.6166 - val_accuracy: 0.8885\n",
      "Epoch 68/100\n",
      "120/120 [==============================] - 0s 1ms/step - loss: 0.0013 - accuracy: 1.0000 - val_loss: 0.6157 - val_accuracy: 0.8906\n",
      "Epoch 69/100\n",
      "120/120 [==============================] - 0s 1ms/step - loss: 0.0012 - accuracy: 1.0000 - val_loss: 0.6370 - val_accuracy: 0.8885\n",
      "Epoch 70/100\n",
      "120/120 [==============================] - 0s 1ms/step - loss: 0.0011 - accuracy: 1.0000 - val_loss: 0.6218 - val_accuracy: 0.8958\n",
      "Epoch 71/100\n",
      "120/120 [==============================] - 0s 1ms/step - loss: 0.0011 - accuracy: 1.0000 - val_loss: 0.6361 - val_accuracy: 0.8906\n",
      "Epoch 72/100\n",
      "120/120 [==============================] - 0s 1ms/step - loss: 9.8583e-04 - accuracy: 1.0000 - val_loss: 0.6459 - val_accuracy: 0.8906\n",
      "Epoch 73/100\n",
      "120/120 [==============================] - 0s 1ms/step - loss: 9.0245e-04 - accuracy: 1.0000 - val_loss: 0.6439 - val_accuracy: 0.8906\n",
      "Epoch 74/100\n",
      "120/120 [==============================] - 0s 1ms/step - loss: 8.5135e-04 - accuracy: 1.0000 - val_loss: 0.6569 - val_accuracy: 0.8896\n",
      "Epoch 75/100\n",
      "120/120 [==============================] - 0s 1ms/step - loss: 7.8822e-04 - accuracy: 1.0000 - val_loss: 0.6643 - val_accuracy: 0.8896\n",
      "Epoch 76/100\n",
      "120/120 [==============================] - 0s 1ms/step - loss: 7.3697e-04 - accuracy: 1.0000 - val_loss: 0.6772 - val_accuracy: 0.8885\n",
      "Epoch 77/100\n",
      "120/120 [==============================] - 0s 1ms/step - loss: 6.8450e-04 - accuracy: 1.0000 - val_loss: 0.6856 - val_accuracy: 0.8875\n",
      "Epoch 78/100\n",
      "120/120 [==============================] - 0s 1ms/step - loss: 6.3473e-04 - accuracy: 1.0000 - val_loss: 0.6760 - val_accuracy: 0.8906\n",
      "Epoch 79/100\n",
      "120/120 [==============================] - 0s 1ms/step - loss: 6.2104e-04 - accuracy: 1.0000 - val_loss: 0.6868 - val_accuracy: 0.8938\n",
      "Epoch 80/100\n",
      "120/120 [==============================] - 0s 1ms/step - loss: 5.4923e-04 - accuracy: 1.0000 - val_loss: 0.6913 - val_accuracy: 0.8927\n",
      "Epoch 81/100\n",
      "120/120 [==============================] - 0s 1ms/step - loss: 5.1701e-04 - accuracy: 1.0000 - val_loss: 0.6968 - val_accuracy: 0.8938\n",
      "Epoch 82/100\n",
      "120/120 [==============================] - 0s 1ms/step - loss: 4.7684e-04 - accuracy: 1.0000 - val_loss: 0.6980 - val_accuracy: 0.8927\n",
      "Epoch 83/100\n",
      "120/120 [==============================] - 0s 1ms/step - loss: 4.4986e-04 - accuracy: 1.0000 - val_loss: 0.7154 - val_accuracy: 0.8885\n",
      "Epoch 84/100\n",
      "120/120 [==============================] - 0s 1ms/step - loss: 4.1223e-04 - accuracy: 1.0000 - val_loss: 0.7084 - val_accuracy: 0.8927\n",
      "Epoch 85/100\n",
      "120/120 [==============================] - 0s 1ms/step - loss: 3.9489e-04 - accuracy: 1.0000 - val_loss: 0.7261 - val_accuracy: 0.8938\n",
      "Epoch 86/100\n",
      "120/120 [==============================] - 0s 1ms/step - loss: 3.6939e-04 - accuracy: 1.0000 - val_loss: 0.7274 - val_accuracy: 0.8917\n",
      "Epoch 87/100\n",
      "120/120 [==============================] - 0s 1ms/step - loss: 3.3768e-04 - accuracy: 1.0000 - val_loss: 0.7414 - val_accuracy: 0.8938\n",
      "Epoch 88/100\n",
      "120/120 [==============================] - 0s 1ms/step - loss: 3.0545e-04 - accuracy: 1.0000 - val_loss: 0.7508 - val_accuracy: 0.8906\n",
      "Epoch 89/100\n",
      "120/120 [==============================] - 0s 1ms/step - loss: 2.9426e-04 - accuracy: 1.0000 - val_loss: 0.7527 - val_accuracy: 0.8896\n",
      "Epoch 90/100\n",
      "120/120 [==============================] - 0s 1ms/step - loss: 2.7864e-04 - accuracy: 1.0000 - val_loss: 0.7526 - val_accuracy: 0.8885\n",
      "Epoch 91/100\n",
      "120/120 [==============================] - 0s 1ms/step - loss: 2.5229e-04 - accuracy: 1.0000 - val_loss: 0.7617 - val_accuracy: 0.8906\n",
      "Epoch 92/100\n",
      "120/120 [==============================] - 0s 1ms/step - loss: 2.5091e-04 - accuracy: 1.0000 - val_loss: 0.7658 - val_accuracy: 0.8917\n",
      "Epoch 93/100\n",
      "120/120 [==============================] - 0s 1ms/step - loss: 2.4662e-04 - accuracy: 1.0000 - val_loss: 0.7776 - val_accuracy: 0.8938\n",
      "Epoch 94/100\n",
      "120/120 [==============================] - 0s 1ms/step - loss: 2.1023e-04 - accuracy: 1.0000 - val_loss: 0.7807 - val_accuracy: 0.8906\n",
      "Epoch 95/100\n",
      "120/120 [==============================] - 0s 1ms/step - loss: 1.9189e-04 - accuracy: 1.0000 - val_loss: 0.7786 - val_accuracy: 0.8896\n",
      "Epoch 96/100\n",
      "120/120 [==============================] - 0s 1ms/step - loss: 1.7572e-04 - accuracy: 1.0000 - val_loss: 0.8003 - val_accuracy: 0.8896\n",
      "Epoch 97/100\n",
      "120/120 [==============================] - 0s 1ms/step - loss: 1.7211e-04 - accuracy: 1.0000 - val_loss: 0.7973 - val_accuracy: 0.8917\n",
      "Epoch 98/100\n",
      "120/120 [==============================] - 0s 1ms/step - loss: 1.5877e-04 - accuracy: 1.0000 - val_loss: 0.8048 - val_accuracy: 0.8906\n",
      "Epoch 99/100\n",
      "120/120 [==============================] - 0s 2ms/step - loss: 1.4534e-04 - accuracy: 1.0000 - val_loss: 0.8139 - val_accuracy: 0.8938\n",
      "Epoch 100/100\n",
      "120/120 [==============================] - 0s 1ms/step - loss: 1.3518e-04 - accuracy: 1.0000 - val_loss: 0.8278 - val_accuracy: 0.8906\n"
     ]
    }
   ],
   "source": [
    "hist1 = model1.fit(xtrain, ytrain, validation_split=0.2, epochs=100)"
   ]
  },
  {
   "cell_type": "markdown",
   "metadata": {},
   "source": [
    "## Learning Curve "
   ]
  },
  {
   "cell_type": "code",
   "execution_count": 22,
   "metadata": {},
   "outputs": [
    {
     "data": {
      "image/png": "[encoded data removed]",
      "text/plain": [
       "<Figure size 1600x800 with 1 Axes>"
      ]
     },
     "metadata": {},
     "output_type": "display_data"
    }
   ],
   "source": [
    "import matplotlib.pyplot as plt\n",
    "plt.figure(figsize=(16,8))\n",
    "plt.plot(hist1.history['loss'],label='Training Loss')\n",
    "plt.plot(hist1.history['val_loss'],label='Validation Loss')\n",
    "plt.xlabel('Epochs')\n",
    "plt.ylabel('Categorical Cross Entropy Loss')\n",
    "plt.legend()\n",
    "plt.show()"
   ]
  },
  {
   "cell_type": "code",
   "execution_count": 23,
   "metadata": {},
   "outputs": [
    {
     "name": "stdout",
     "output_type": "stream",
     "text": [
      "150/150 [==============================] - 0s 731us/step - loss: 0.1657 - accuracy: 0.9781\n"
     ]
    },
    {
     "data": {
      "text/plain": [
       "[0.16566358506679535, 0.9781249761581421]"
      ]
     },
     "execution_count": 23,
     "metadata": {},
     "output_type": "execute_result"
    }
   ],
   "source": [
    "# Evaluate training accuracy\n",
    "model1.evaluate(xtrain,ytrain)"
   ]
  },
  {
   "cell_type": "code",
   "execution_count": 24,
   "metadata": {},
   "outputs": [
    {
     "name": "stdout",
     "output_type": "stream",
     "text": [
      "38/38 [==============================] - 0s 860us/step - loss: 0.8766 - accuracy: 0.8817\n"
     ]
    },
    {
     "data": {
      "text/plain": [
       "[0.8766408562660217, 0.8816666603088379]"
      ]
     },
     "execution_count": 24,
     "metadata": {},
     "output_type": "execute_result"
    }
   ],
   "source": [
    "model1.evaluate(xtest,ytest)"
   ]
  },
  {
   "cell_type": "markdown",
   "metadata": {},
   "source": [
    "### Model 2 : Dropout and Batch Normalization"
   ]
  },
  {
   "cell_type": "code",
   "execution_count": 25,
   "metadata": {},
   "outputs": [],
   "source": [
    "from keras.layers import BatchNormalization, Dropout"
   ]
  },
  {
   "cell_type": "code",
   "execution_count": 26,
   "metadata": {},
   "outputs": [],
   "source": [
    "model2 = Sequential()\n",
    "\n",
    "# Hidden Layer 1\n",
    "model2.add(Dense(64,activation='relu',input_dim=xtrain.shape[1]))\n",
    "# Batch Normalization 1\n",
    "model2.add(BatchNormalization())\n",
    "# Dropout Layer 1\n",
    "model2.add(Dropout(0.3))\n",
    "\n",
    "# Hidden Layer 2\n",
    "model2.add(Dense(32, activation='relu'))\n",
    "# Batch normalization 2\n",
    "model2.add(BatchNormalization())\n",
    "# Dropout Layer 2\n",
    "model2.add(Dropout(0.2))\n",
    "\n",
    "# Output Layer\n",
    "model2.add(Dense(3, activation='softmax'))"
   ]
  },
  {
   "cell_type": "code",
   "execution_count": 27,
   "metadata": {},
   "outputs": [
    {
     "name": "stdout",
     "output_type": "stream",
     "text": [
      "Model: \"sequential_1\"\n",
      "_________________________________________________________________\n",
      " Layer (type)                Output Shape              Param #   \n",
      "=================================================================\n",
      " dense_3 (Dense)             (None, 64)                1984      \n",
      "                                                                 \n",
      " batch_normalization (Batch  (None, 64)                256       \n",
      " Normalization)                                                  \n",
      "                                                                 \n",
      " dropout (Dropout)           (None, 64)                0         \n",
      "                                                                 \n",
      " dense_4 (Dense)             (None, 32)                2080      \n",
      "                                                                 \n",
      " batch_normalization_1 (Bat  (None, 32)                128       \n",
      " chNormalization)                                                \n",
      "                                                                 \n",
      " dropout_1 (Dropout)         (None, 32)                0         \n",
      "                                                                 \n",
      " dense_5 (Dense)             (None, 3)                 99        \n",
      "                                                                 \n",
      "=================================================================\n",
      "Total params: 4547 (17.76 KB)\n",
      "Trainable params: 4355 (17.01 KB)\n",
      "Non-trainable params: 192 (768.00 Byte)\n",
      "_________________________________________________________________\n"
     ]
    }
   ],
   "source": [
    "model2.summary()"
   ]
  },
  {
   "cell_type": "markdown",
   "metadata": {},
   "source": [
    "### Compile model"
   ]
  },
  {
   "cell_type": "code",
   "execution_count": 28,
   "metadata": {},
   "outputs": [],
   "source": [
    "model2.compile(loss='categorical_crossentropy',optimizer='adam',metrics=['accuracy'])"
   ]
  },
  {
   "cell_type": "markdown",
   "metadata": {},
   "source": [
    "### Fit the model"
   ]
  },
  {
   "cell_type": "code",
   "execution_count": 29,
   "metadata": {},
   "outputs": [
    {
     "name": "stdout",
     "output_type": "stream",
     "text": [
      "Epoch 1/100\n",
      "120/120 [==============================] - 1s 3ms/step - loss: 1.1962 - accuracy: 0.4773 - val_loss: 0.8146 - val_accuracy: 0.6542\n",
      "Epoch 2/100\n",
      "120/120 [==============================] - 0s 2ms/step - loss: 0.8907 - accuracy: 0.6023 - val_loss: 0.6928 - val_accuracy: 0.7240\n",
      "Epoch 3/100\n",
      "120/120 [==============================] - 0s 2ms/step - loss: 0.7831 - accuracy: 0.6620 - val_loss: 0.6264 - val_accuracy: 0.7469\n",
      "Epoch 4/100\n",
      "120/120 [==============================] - 0s 2ms/step - loss: 0.7155 - accuracy: 0.6888 - val_loss: 0.5811 - val_accuracy: 0.7719\n",
      "Epoch 5/100\n",
      "120/120 [==============================] - 0s 1ms/step - loss: 0.6728 - accuracy: 0.7227 - val_loss: 0.5460 - val_accuracy: 0.7833\n",
      "Epoch 6/100\n",
      "120/120 [==============================] - 0s 1ms/step - loss: 0.6188 - accuracy: 0.7417 - val_loss: 0.5119 - val_accuracy: 0.7958\n",
      "Epoch 7/100\n",
      "120/120 [==============================] - 0s 1ms/step - loss: 0.5901 - accuracy: 0.7586 - val_loss: 0.4827 - val_accuracy: 0.8073\n",
      "Epoch 8/100\n",
      "120/120 [==============================] - 0s 2ms/step - loss: 0.5659 - accuracy: 0.7661 - val_loss: 0.4618 - val_accuracy: 0.8177\n",
      "Epoch 9/100\n",
      "120/120 [==============================] - 0s 1ms/step - loss: 0.5264 - accuracy: 0.7880 - val_loss: 0.4398 - val_accuracy: 0.8198\n",
      "Epoch 10/100\n",
      "120/120 [==============================] - 0s 2ms/step - loss: 0.5059 - accuracy: 0.7859 - val_loss: 0.4120 - val_accuracy: 0.8365\n",
      "Epoch 11/100\n",
      "120/120 [==============================] - 0s 2ms/step - loss: 0.5053 - accuracy: 0.7974 - val_loss: 0.3904 - val_accuracy: 0.8542\n",
      "Epoch 12/100\n",
      "120/120 [==============================] - 0s 2ms/step - loss: 0.4773 - accuracy: 0.8086 - val_loss: 0.3748 - val_accuracy: 0.8562\n",
      "Epoch 13/100\n",
      "120/120 [==============================] - 0s 2ms/step - loss: 0.4502 - accuracy: 0.8258 - val_loss: 0.3518 - val_accuracy: 0.8719\n",
      "Epoch 14/100\n",
      "120/120 [==============================] - 0s 2ms/step - loss: 0.4283 - accuracy: 0.8362 - val_loss: 0.3435 - val_accuracy: 0.8698\n",
      "Epoch 15/100\n",
      "120/120 [==============================] - 0s 2ms/step - loss: 0.4239 - accuracy: 0.8323 - val_loss: 0.3338 - val_accuracy: 0.8844\n",
      "Epoch 16/100\n",
      "120/120 [==============================] - 0s 2ms/step - loss: 0.4111 - accuracy: 0.8414 - val_loss: 0.3178 - val_accuracy: 0.8865\n",
      "Epoch 17/100\n",
      "120/120 [==============================] - 0s 2ms/step - loss: 0.3942 - accuracy: 0.8411 - val_loss: 0.3132 - val_accuracy: 0.8875\n",
      "Epoch 18/100\n",
      "120/120 [==============================] - 0s 1ms/step - loss: 0.3852 - accuracy: 0.8471 - val_loss: 0.3016 - val_accuracy: 0.8938\n",
      "Epoch 19/100\n",
      "120/120 [==============================] - 0s 2ms/step - loss: 0.3803 - accuracy: 0.8484 - val_loss: 0.3000 - val_accuracy: 0.9000\n",
      "Epoch 20/100\n",
      "120/120 [==============================] - 0s 2ms/step - loss: 0.3718 - accuracy: 0.8596 - val_loss: 0.2917 - val_accuracy: 0.8958\n",
      "Epoch 21/100\n",
      "120/120 [==============================] - 0s 2ms/step - loss: 0.3560 - accuracy: 0.8620 - val_loss: 0.2885 - val_accuracy: 0.8990\n",
      "Epoch 22/100\n",
      "120/120 [==============================] - 0s 2ms/step - loss: 0.3622 - accuracy: 0.8568 - val_loss: 0.2815 - val_accuracy: 0.9010\n",
      "Epoch 23/100\n",
      "120/120 [==============================] - 0s 2ms/step - loss: 0.3603 - accuracy: 0.8693 - val_loss: 0.2816 - val_accuracy: 0.9010\n",
      "Epoch 24/100\n",
      "120/120 [==============================] - 0s 2ms/step - loss: 0.3413 - accuracy: 0.8732 - val_loss: 0.2742 - val_accuracy: 0.9073\n",
      "Epoch 25/100\n",
      "120/120 [==============================] - 0s 2ms/step - loss: 0.3560 - accuracy: 0.8648 - val_loss: 0.2725 - val_accuracy: 0.9052\n",
      "Epoch 26/100\n",
      "120/120 [==============================] - 0s 2ms/step - loss: 0.3358 - accuracy: 0.8747 - val_loss: 0.2740 - val_accuracy: 0.9042\n",
      "Epoch 27/100\n",
      "120/120 [==============================] - 0s 2ms/step - loss: 0.3287 - accuracy: 0.8677 - val_loss: 0.2656 - val_accuracy: 0.9104\n",
      "Epoch 28/100\n",
      "120/120 [==============================] - 0s 2ms/step - loss: 0.3273 - accuracy: 0.8779 - val_loss: 0.2603 - val_accuracy: 0.9094\n",
      "Epoch 29/100\n",
      "120/120 [==============================] - 0s 2ms/step - loss: 0.3195 - accuracy: 0.8802 - val_loss: 0.2662 - val_accuracy: 0.9042\n",
      "Epoch 30/100\n",
      "120/120 [==============================] - 0s 2ms/step - loss: 0.3303 - accuracy: 0.8701 - val_loss: 0.2627 - val_accuracy: 0.9083\n",
      "Epoch 31/100\n",
      "120/120 [==============================] - 0s 2ms/step - loss: 0.3058 - accuracy: 0.8841 - val_loss: 0.2512 - val_accuracy: 0.9177\n",
      "Epoch 32/100\n",
      "120/120 [==============================] - 0s 1ms/step - loss: 0.3110 - accuracy: 0.8826 - val_loss: 0.2495 - val_accuracy: 0.9146\n",
      "Epoch 33/100\n",
      "120/120 [==============================] - 0s 2ms/step - loss: 0.3059 - accuracy: 0.8875 - val_loss: 0.2461 - val_accuracy: 0.9198\n",
      "Epoch 34/100\n",
      "120/120 [==============================] - 0s 2ms/step - loss: 0.3164 - accuracy: 0.8891 - val_loss: 0.2460 - val_accuracy: 0.9125\n",
      "Epoch 35/100\n",
      "120/120 [==============================] - 0s 2ms/step - loss: 0.2984 - accuracy: 0.8870 - val_loss: 0.2350 - val_accuracy: 0.9240\n",
      "Epoch 36/100\n",
      "120/120 [==============================] - 0s 2ms/step - loss: 0.2867 - accuracy: 0.8971 - val_loss: 0.2428 - val_accuracy: 0.9187\n",
      "Epoch 37/100\n",
      "120/120 [==============================] - 0s 2ms/step - loss: 0.2911 - accuracy: 0.8914 - val_loss: 0.2378 - val_accuracy: 0.9177\n",
      "Epoch 38/100\n",
      "120/120 [==============================] - 0s 2ms/step - loss: 0.3017 - accuracy: 0.8831 - val_loss: 0.2377 - val_accuracy: 0.9198\n",
      "Epoch 39/100\n",
      "120/120 [==============================] - 0s 1ms/step - loss: 0.2851 - accuracy: 0.8932 - val_loss: 0.2370 - val_accuracy: 0.9198\n",
      "Epoch 40/100\n",
      "120/120 [==============================] - 0s 2ms/step - loss: 0.2981 - accuracy: 0.8807 - val_loss: 0.2307 - val_accuracy: 0.9208\n",
      "Epoch 41/100\n",
      "120/120 [==============================] - 0s 1ms/step - loss: 0.2763 - accuracy: 0.8945 - val_loss: 0.2299 - val_accuracy: 0.9250\n",
      "Epoch 42/100\n",
      "120/120 [==============================] - 0s 1ms/step - loss: 0.2738 - accuracy: 0.8961 - val_loss: 0.2279 - val_accuracy: 0.9292\n",
      "Epoch 43/100\n",
      "120/120 [==============================] - 0s 2ms/step - loss: 0.2705 - accuracy: 0.9008 - val_loss: 0.2249 - val_accuracy: 0.9260\n",
      "Epoch 44/100\n",
      "120/120 [==============================] - 0s 1ms/step - loss: 0.2916 - accuracy: 0.8862 - val_loss: 0.2255 - val_accuracy: 0.9302\n",
      "Epoch 45/100\n",
      "120/120 [==============================] - 0s 2ms/step - loss: 0.2712 - accuracy: 0.9008 - val_loss: 0.2204 - val_accuracy: 0.9323\n",
      "Epoch 46/100\n",
      "120/120 [==============================] - 0s 2ms/step - loss: 0.2757 - accuracy: 0.8997 - val_loss: 0.2213 - val_accuracy: 0.9302\n",
      "Epoch 47/100\n",
      "120/120 [==============================] - 0s 2ms/step - loss: 0.2747 - accuracy: 0.8927 - val_loss: 0.2199 - val_accuracy: 0.9333\n",
      "Epoch 48/100\n",
      "120/120 [==============================] - 0s 1ms/step - loss: 0.2636 - accuracy: 0.9005 - val_loss: 0.2156 - val_accuracy: 0.9281\n",
      "Epoch 49/100\n",
      "120/120 [==============================] - 0s 2ms/step - loss: 0.2702 - accuracy: 0.9021 - val_loss: 0.2158 - val_accuracy: 0.9292\n",
      "Epoch 50/100\n",
      "120/120 [==============================] - 0s 1ms/step - loss: 0.2710 - accuracy: 0.8995 - val_loss: 0.2230 - val_accuracy: 0.9260\n",
      "Epoch 51/100\n",
      "120/120 [==============================] - 0s 2ms/step - loss: 0.2637 - accuracy: 0.9021 - val_loss: 0.2168 - val_accuracy: 0.9333\n",
      "Epoch 52/100\n",
      "120/120 [==============================] - 0s 2ms/step - loss: 0.2597 - accuracy: 0.9036 - val_loss: 0.2166 - val_accuracy: 0.9333\n",
      "Epoch 53/100\n",
      "120/120 [==============================] - 0s 2ms/step - loss: 0.2480 - accuracy: 0.9099 - val_loss: 0.2152 - val_accuracy: 0.9281\n",
      "Epoch 54/100\n",
      "120/120 [==============================] - 0s 2ms/step - loss: 0.2623 - accuracy: 0.9057 - val_loss: 0.2121 - val_accuracy: 0.9344\n",
      "Epoch 55/100\n",
      "120/120 [==============================] - 0s 2ms/step - loss: 0.2564 - accuracy: 0.9039 - val_loss: 0.2152 - val_accuracy: 0.9281\n",
      "Epoch 56/100\n",
      "120/120 [==============================] - 0s 1ms/step - loss: 0.2581 - accuracy: 0.9057 - val_loss: 0.2146 - val_accuracy: 0.9312\n",
      "Epoch 57/100\n",
      "120/120 [==============================] - 0s 1ms/step - loss: 0.2497 - accuracy: 0.9076 - val_loss: 0.2205 - val_accuracy: 0.9271\n",
      "Epoch 58/100\n",
      "120/120 [==============================] - 0s 1ms/step - loss: 0.2490 - accuracy: 0.9081 - val_loss: 0.2128 - val_accuracy: 0.9271\n",
      "Epoch 59/100\n",
      "120/120 [==============================] - 0s 2ms/step - loss: 0.2565 - accuracy: 0.9052 - val_loss: 0.2153 - val_accuracy: 0.9302\n",
      "Epoch 60/100\n",
      "120/120 [==============================] - 0s 1ms/step - loss: 0.2607 - accuracy: 0.9055 - val_loss: 0.2108 - val_accuracy: 0.9323\n",
      "Epoch 61/100\n",
      "120/120 [==============================] - 0s 1ms/step - loss: 0.2524 - accuracy: 0.9057 - val_loss: 0.2118 - val_accuracy: 0.9323\n",
      "Epoch 62/100\n",
      "120/120 [==============================] - 0s 1ms/step - loss: 0.2430 - accuracy: 0.9081 - val_loss: 0.2137 - val_accuracy: 0.9323\n",
      "Epoch 63/100\n",
      "120/120 [==============================] - 0s 2ms/step - loss: 0.2362 - accuracy: 0.9122 - val_loss: 0.2064 - val_accuracy: 0.9312\n",
      "Epoch 64/100\n",
      "120/120 [==============================] - 0s 2ms/step - loss: 0.2268 - accuracy: 0.9148 - val_loss: 0.2084 - val_accuracy: 0.9344\n",
      "Epoch 65/100\n",
      "120/120 [==============================] - 0s 1ms/step - loss: 0.2344 - accuracy: 0.9156 - val_loss: 0.2074 - val_accuracy: 0.9354\n",
      "Epoch 66/100\n",
      "120/120 [==============================] - 0s 2ms/step - loss: 0.2343 - accuracy: 0.9115 - val_loss: 0.2094 - val_accuracy: 0.9312\n",
      "Epoch 67/100\n",
      "120/120 [==============================] - 0s 1ms/step - loss: 0.2214 - accuracy: 0.9206 - val_loss: 0.2125 - val_accuracy: 0.9281\n",
      "Epoch 68/100\n",
      "120/120 [==============================] - 0s 1ms/step - loss: 0.2433 - accuracy: 0.9107 - val_loss: 0.2061 - val_accuracy: 0.9312\n",
      "Epoch 69/100\n",
      "120/120 [==============================] - 0s 1ms/step - loss: 0.2392 - accuracy: 0.9148 - val_loss: 0.2074 - val_accuracy: 0.9312\n",
      "Epoch 70/100\n",
      "120/120 [==============================] - 0s 2ms/step - loss: 0.2355 - accuracy: 0.9125 - val_loss: 0.2085 - val_accuracy: 0.9354\n",
      "Epoch 71/100\n",
      "120/120 [==============================] - 0s 1ms/step - loss: 0.2337 - accuracy: 0.9182 - val_loss: 0.2051 - val_accuracy: 0.9385\n",
      "Epoch 72/100\n",
      "120/120 [==============================] - 0s 1ms/step - loss: 0.2234 - accuracy: 0.9219 - val_loss: 0.2071 - val_accuracy: 0.9302\n",
      "Epoch 73/100\n",
      "120/120 [==============================] - 0s 2ms/step - loss: 0.2203 - accuracy: 0.9193 - val_loss: 0.2118 - val_accuracy: 0.9292\n",
      "Epoch 74/100\n",
      "120/120 [==============================] - 0s 1ms/step - loss: 0.2316 - accuracy: 0.9122 - val_loss: 0.2052 - val_accuracy: 0.9344\n",
      "Epoch 75/100\n",
      "120/120 [==============================] - 0s 2ms/step - loss: 0.2366 - accuracy: 0.9130 - val_loss: 0.2014 - val_accuracy: 0.9375\n",
      "Epoch 76/100\n",
      "120/120 [==============================] - 0s 1ms/step - loss: 0.2266 - accuracy: 0.9177 - val_loss: 0.2042 - val_accuracy: 0.9281\n",
      "Epoch 77/100\n",
      "120/120 [==============================] - 0s 1ms/step - loss: 0.2307 - accuracy: 0.9232 - val_loss: 0.1994 - val_accuracy: 0.9323\n",
      "Epoch 78/100\n",
      "120/120 [==============================] - 0s 1ms/step - loss: 0.2167 - accuracy: 0.9260 - val_loss: 0.1933 - val_accuracy: 0.9406\n",
      "Epoch 79/100\n",
      "120/120 [==============================] - 0s 1ms/step - loss: 0.2203 - accuracy: 0.9167 - val_loss: 0.2027 - val_accuracy: 0.9302\n",
      "Epoch 80/100\n",
      "120/120 [==============================] - 0s 1ms/step - loss: 0.2155 - accuracy: 0.9227 - val_loss: 0.1957 - val_accuracy: 0.9354\n",
      "Epoch 81/100\n",
      "120/120 [==============================] - 0s 1ms/step - loss: 0.2163 - accuracy: 0.9203 - val_loss: 0.1980 - val_accuracy: 0.9354\n",
      "Epoch 82/100\n",
      "120/120 [==============================] - 0s 1ms/step - loss: 0.1966 - accuracy: 0.9268 - val_loss: 0.1986 - val_accuracy: 0.9354\n",
      "Epoch 83/100\n",
      "120/120 [==============================] - 0s 1ms/step - loss: 0.2008 - accuracy: 0.9240 - val_loss: 0.2017 - val_accuracy: 0.9333\n",
      "Epoch 84/100\n",
      "120/120 [==============================] - 0s 1ms/step - loss: 0.2241 - accuracy: 0.9187 - val_loss: 0.1982 - val_accuracy: 0.9396\n",
      "Epoch 85/100\n",
      "120/120 [==============================] - 0s 1ms/step - loss: 0.2245 - accuracy: 0.9141 - val_loss: 0.1983 - val_accuracy: 0.9385\n",
      "Epoch 86/100\n",
      "120/120 [==============================] - 0s 2ms/step - loss: 0.2143 - accuracy: 0.9172 - val_loss: 0.1947 - val_accuracy: 0.9344\n",
      "Epoch 87/100\n",
      "120/120 [==============================] - 0s 1ms/step - loss: 0.2044 - accuracy: 0.9266 - val_loss: 0.2030 - val_accuracy: 0.9323\n",
      "Epoch 88/100\n",
      "120/120 [==============================] - 0s 1ms/step - loss: 0.2087 - accuracy: 0.9258 - val_loss: 0.1974 - val_accuracy: 0.9344\n",
      "Epoch 89/100\n",
      "120/120 [==============================] - 0s 1ms/step - loss: 0.1994 - accuracy: 0.9271 - val_loss: 0.1948 - val_accuracy: 0.9354\n",
      "Epoch 90/100\n",
      "120/120 [==============================] - 0s 2ms/step - loss: 0.2108 - accuracy: 0.9240 - val_loss: 0.1906 - val_accuracy: 0.9344\n",
      "Epoch 91/100\n",
      "120/120 [==============================] - 0s 1ms/step - loss: 0.2231 - accuracy: 0.9193 - val_loss: 0.1976 - val_accuracy: 0.9302\n",
      "Epoch 92/100\n",
      "120/120 [==============================] - 0s 1ms/step - loss: 0.2057 - accuracy: 0.9276 - val_loss: 0.2001 - val_accuracy: 0.9240\n",
      "Epoch 93/100\n",
      "120/120 [==============================] - 0s 1ms/step - loss: 0.1894 - accuracy: 0.9328 - val_loss: 0.2000 - val_accuracy: 0.9250\n",
      "Epoch 94/100\n",
      "120/120 [==============================] - 0s 1ms/step - loss: 0.1990 - accuracy: 0.9318 - val_loss: 0.1968 - val_accuracy: 0.9292\n",
      "Epoch 95/100\n",
      "120/120 [==============================] - 0s 1ms/step - loss: 0.1968 - accuracy: 0.9279 - val_loss: 0.1961 - val_accuracy: 0.9302\n",
      "Epoch 96/100\n",
      "120/120 [==============================] - 0s 2ms/step - loss: 0.2102 - accuracy: 0.9279 - val_loss: 0.1914 - val_accuracy: 0.9333\n",
      "Epoch 97/100\n",
      "120/120 [==============================] - 0s 2ms/step - loss: 0.1964 - accuracy: 0.9354 - val_loss: 0.1940 - val_accuracy: 0.9333\n",
      "Epoch 98/100\n",
      "120/120 [==============================] - 0s 2ms/step - loss: 0.2016 - accuracy: 0.9242 - val_loss: 0.1980 - val_accuracy: 0.9292\n",
      "Epoch 99/100\n",
      "120/120 [==============================] - 0s 1ms/step - loss: 0.2102 - accuracy: 0.9281 - val_loss: 0.1993 - val_accuracy: 0.9323\n",
      "Epoch 100/100\n",
      "120/120 [==============================] - 0s 2ms/step - loss: 0.2165 - accuracy: 0.9135 - val_loss: 0.1931 - val_accuracy: 0.9292\n"
     ]
    }
   ],
   "source": [
    "hist2 = model2.fit(xtrain, ytrain, validation_split=0.2, epochs=100)"
   ]
  },
  {
   "cell_type": "markdown",
   "metadata": {},
   "source": [
    "### Learning curve"
   ]
  },
  {
   "cell_type": "code",
   "execution_count": 30,
   "metadata": {},
   "outputs": [
    {
     "data": {
      "image/png": "[encoded data removed]",
      "text/plain": [
       "<Figure size 1600x800 with 1 Axes>"
      ]
     },
     "metadata": {},
     "output_type": "display_data"
    }
   ],
   "source": [
    "import matplotlib.pyplot as plt\n",
    "plt.figure(figsize=(16,8))\n",
    "plt.plot(hist2.history['loss'],label='Training Loss')\n",
    "plt.plot(hist2.history['val_loss'],label='Validation Loss')\n",
    "plt.xlabel('Epochs')\n",
    "plt.ylabel('Categorical Cross Entropy Loss')\n",
    "plt.legend()\n",
    "plt.show()"
   ]
  },
  {
   "cell_type": "markdown",
   "metadata": {},
   "source": [
    "## Evaluate the model"
   ]
  },
  {
   "cell_type": "code",
   "execution_count": 31,
   "metadata": {},
   "outputs": [
    {
     "name": "stdout",
     "output_type": "stream",
     "text": [
      "150/150 [==============================] - 0s 1ms/step - loss: 0.0930 - accuracy: 0.9754\n"
     ]
    },
    {
     "data": {
      "text/plain": [
       "[0.09298360347747803, 0.9754166603088379]"
      ]
     },
     "execution_count": 31,
     "metadata": {},
     "output_type": "execute_result"
    }
   ],
   "source": [
    "# Trainiing\n",
    "model2.evaluate(xtrain,ytrain)"
   ]
  },
  {
   "cell_type": "code",
   "execution_count": 32,
   "metadata": {},
   "outputs": [
    {
     "name": "stdout",
     "output_type": "stream",
     "text": [
      "38/38 [==============================] - 0s 819us/step - loss: 0.2172 - accuracy: 0.9258\n"
     ]
    },
    {
     "data": {
      "text/plain": [
       "[0.21715815365314484, 0.9258333444595337]"
      ]
     },
     "execution_count": 32,
     "metadata": {},
     "output_type": "execute_result"
    }
   ],
   "source": [
    "# Testing \n",
    "model2.evaluate(xtest,ytest)"
   ]
  },
  {
   "cell_type": "markdown",
   "metadata": {},
   "source": [
    "### Predicting Results"
   ]
  },
  {
   "cell_type": "code",
   "execution_count": 36,
   "metadata": {},
   "outputs": [
    {
     "name": "stdout",
     "output_type": "stream",
     "text": [
      "150/150 [==============================] - 0s 836us/step\n",
      "38/38 [==============================] - 0s 727us/step\n"
     ]
    }
   ],
   "source": [
    "yprob_tr = model2.predict(xtrain)\n",
    "yprob_ts = model2.predict(xtest)"
   ]
  },
  {
   "cell_type": "code",
   "execution_count": 37,
   "metadata": {},
   "outputs": [
    {
     "data": {
      "text/plain": [
       "array([[3.88433342e-04, 6.15909556e-03, 9.93452430e-01],\n",
       "       [2.48584605e-04, 9.99500513e-01, 2.50893179e-04],\n",
       "       [1.25324195e-05, 9.99743164e-01, 2.44371156e-04],\n",
       "       [6.28117286e-03, 9.91845667e-01, 1.87319214e-03],\n",
       "       [1.43489451e-04, 7.60312905e-05, 9.99780476e-01]], dtype=float32)"
      ]
     },
     "execution_count": 37,
     "metadata": {},
     "output_type": "execute_result"
    }
   ],
   "source": [
    "yprob_tr[0:5]"
   ]
  },
  {
   "cell_type": "code",
   "execution_count": 38,
   "metadata": {},
   "outputs": [
    {
     "data": {
      "text/plain": [
       "array([[8.1349188e-01, 1.9741005e-03, 1.8453394e-01],\n",
       "       [7.2107852e-01, 4.4183270e-03, 2.7450314e-01],\n",
       "       [4.7064293e-02, 8.2914100e-04, 9.5210654e-01],\n",
       "       [1.2684189e-01, 7.9772784e-04, 8.7236041e-01],\n",
       "       [8.0077207e-01, 2.5283982e-04, 1.9897510e-01]], dtype=float32)"
      ]
     },
     "execution_count": 38,
     "metadata": {},
     "output_type": "execute_result"
    }
   ],
   "source": [
    "yprob_ts[0:5]"
   ]
  },
  {
   "cell_type": "code",
   "execution_count": 39,
   "metadata": {},
   "outputs": [],
   "source": [
    "import numpy as np\n",
    "ypred_tr = np.argmax(yprob_tr,axis=-1)"
   ]
  },
  {
   "cell_type": "code",
   "execution_count": 40,
   "metadata": {},
   "outputs": [
    {
     "data": {
      "text/plain": [
       "array([2, 1, 1, ..., 0, 2, 0], dtype=int64)"
      ]
     },
     "execution_count": 40,
     "metadata": {},
     "output_type": "execute_result"
    }
   ],
   "source": [
    "ypred_tr"
   ]
  },
  {
   "cell_type": "code",
   "execution_count": 42,
   "metadata": {},
   "outputs": [
    {
     "data": {
      "text/plain": [
       "array([2, 1, 1, ..., 0, 2, 0], dtype=int64)"
      ]
     },
     "execution_count": 42,
     "metadata": {},
     "output_type": "execute_result"
    }
   ],
   "source": [
    "ytrain_act = np.argmax(ytrain, axis=-1)\n",
    "ytrain_act"
   ]
  },
  {
   "cell_type": "code",
   "execution_count": 43,
   "metadata": {},
   "outputs": [
    {
     "data": {
      "text/plain": [
       "array([0, 0, 2, ..., 0, 2, 0], dtype=int64)"
      ]
     },
     "execution_count": 43,
     "metadata": {},
     "output_type": "execute_result"
    }
   ],
   "source": [
    "ypred_ts = np.argmax(yprob_ts,axis=-1)\n",
    "ypred_ts"
   ]
  },
  {
   "cell_type": "code",
   "execution_count": 44,
   "metadata": {},
   "outputs": [
    {
     "data": {
      "text/plain": [
       "array([[1., 0., 0.],\n",
       "       [0., 0., 1.],\n",
       "       [0., 0., 1.],\n",
       "       ...,\n",
       "       [1., 0., 0.],\n",
       "       [0., 0., 1.],\n",
       "       [1., 0., 0.]], dtype=float32)"
      ]
     },
     "execution_count": 44,
     "metadata": {},
     "output_type": "execute_result"
    }
   ],
   "source": [
    "ytest"
   ]
  },
  {
   "cell_type": "code",
   "execution_count": 45,
   "metadata": {},
   "outputs": [
    {
     "data": {
      "text/plain": [
       "array([0, 2, 2, ..., 0, 2, 0], dtype=int64)"
      ]
     },
     "execution_count": 45,
     "metadata": {},
     "output_type": "execute_result"
    }
   ],
   "source": [
    "ytest_act = np.argmax(ytest, axis=-1)\n",
    "ytest_act"
   ]
  },
  {
   "cell_type": "markdown",
   "metadata": {},
   "source": [
    "# Confusion Matrix testing"
   ]
  },
  {
   "cell_type": "code",
   "execution_count": 46,
   "metadata": {},
   "outputs": [
    {
     "data": {
      "text/plain": [
       "<sklearn.metrics._plot.confusion_matrix.ConfusionMatrixDisplay at 0x299ec0da380>"
      ]
     },
     "execution_count": 46,
     "metadata": {},
     "output_type": "execute_result"
    },
    {
     "data": {
      "image/png": "[encoded data removed]",
      "text/plain": [
       "<Figure size 640x480 with 2 Axes>"
      ]
     },
     "metadata": {},
     "output_type": "display_data"
    }
   ],
   "source": [
    "from sklearn.metrics import confusion_matrix, ConfusionMatrixDisplay\n",
    "cf = confusion_matrix(ytest_act,ypred_ts)\n",
    "cfd = ConfusionMatrixDisplay(cf,display_labels=[0,1,2])\n",
    "cfd.plot()"
   ]
  },
  {
   "cell_type": "markdown",
   "metadata": {},
   "source": [
    "### Classificaton Report"
   ]
  },
  {
   "cell_type": "code",
   "execution_count": 47,
   "metadata": {},
   "outputs": [
    {
     "name": "stdout",
     "output_type": "stream",
     "text": [
      "              precision    recall  f1-score   support\n",
      "\n",
      "           0       0.91      0.91      0.91       374\n",
      "           1       0.93      0.95      0.94       422\n",
      "           2       0.93      0.91      0.92       404\n",
      "\n",
      "    accuracy                           0.93      1200\n",
      "   macro avg       0.93      0.93      0.93      1200\n",
      "weighted avg       0.93      0.93      0.93      1200\n",
      "\n"
     ]
    }
   ],
   "source": [
    "from sklearn.metrics import classification_report\n",
    "print(classification_report(ytest_act,ypred_ts))"
   ]
  }
 ],
 "metadata": {
  "kernelspec": {
   "display_name": "venv",
   "language": "python",
   "name": "python3"
  },
  "language_info": {
   "codemirror_mode": {
    "name": "ipython",
    "version": 3
   },
   "file_extension": ".py",
   "mimetype": "text/x-python",
   "name": "python",
   "nbconvert_exporter": "python",
   "pygments_lexer": "ipython3",
   "version": "3.10.7"
  },
  "orig_nbformat": 4
 },
 "nbformat": 4,
 "nbformat_minor": 2
}
